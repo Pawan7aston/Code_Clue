{
 "cells": [
  {
   "cell_type": "code",
   "execution_count": 34,
   "id": "eacaad52",
   "metadata": {},
   "outputs": [],
   "source": [
    "import pandas as pd\n",
    "import numpy as np\n",
    "import re\n",
    "from collections import Counter\n",
    "import sqlalchemy as db\n",
    "from snowflake.sqlalchemy import URL"
   ]
  },
  {
   "cell_type": "code",
   "execution_count": 35,
   "id": "d767fb29",
   "metadata": {},
   "outputs": [],
   "source": [
    "snowflake_credentials = pd.read_excel('/Users/prai/Desktop/Developement/snowflake_credentials.xlsx')\n",
    "global user\n",
    "global password\n",
    "global account\n",
    "global warehouse\n",
    "global schema\n",
    "user = str(snowflake_credentials.iloc[0,1])\n",
    "password = str(snowflake_credentials.iloc[1,1])\n",
    "account = str(snowflake_credentials.iloc[2,1])\n",
    "warehouse = str(snowflake_credentials.iloc[3,1])\n",
    "schema = str(snowflake_credentials.iloc[4,1])\n",
    "\n",
    "global sfengine\n",
    "sfengine = db.create_engine(URL(\n",
    "    user = user\n",
    "    ,password = password\n",
    "    ,account = account\n",
    "    ,warehouse = warehouse\n",
    "    ,database = \"TRANSFORM\"\n",
    "    ,schema = schema\n",
    "))"
   ]
  },
  {
   "cell_type": "code",
   "execution_count": 36,
   "id": "63e6e5da",
   "metadata": {},
   "outputs": [],
   "source": [
    "input_global_id ='44349a83-949d-43ef-b5e5-a6d200b4cae0'\n",
    "query=\"select avg(r.ease_of_use_rating) as Ease_of_Use, avg(r.customer_support_rating) as Customer_Support, avg(r.functionality_rating) as Functionality, avg(r.value_for_money_rating) as Value_for_Money, avg(r.recommendation_rating) as Likelihood_to_Recommend \"+\\\n",
    "\"from replicon.xavier.products p inner join replicon.xavier.reviews r on r.source_site = p.source_site and r.source_product_id = p.source_product_id \"+\\\n",
    "\"where r.status = '1' and is_disabled ='False' and p.global_id in ('\"+str(input_global_id)+\"') \"+\\\n",
    "\"group by p.global_id\"\n",
    "Rating = pd.read_sql_query(query, sfengine)\n",
    "Rating[['Ease of Use','Customer Support','Functionality','Value for Money']]=Rating[['ease_of_use','customer_support','functionality','value_for_money']]*20\n",
    "Rating['Likelihood to Recommend']=Rating['likelihood_to_recommend']*10\n",
    "Rating=Rating.drop(['ease_of_use','customer_support','functionality','value_for_money','likelihood_to_recommend'],axis=1)\n",
    "Rating=Rating.transpose()\n",
    "Rating.to_csv('/Users/prai/Desktop/rating_line1.csv')"
   ]
  },
  {
   "cell_type": "code",
   "execution_count": 37,
   "id": "9a0fc0ba",
   "metadata": {},
   "outputs": [],
   "source": [
    "input_global_id ='e2f7b101-60ed-448c-82a7-a6d200b7f02d'\n",
    "query=\"select avg(r.ease_of_use_rating) as Ease_of_Use, avg(r.customer_support_rating) as Customer_Support, avg(r.functionality_rating) as Functionality, avg(r.value_for_money_rating) as Value_for_Money, avg(r.recommendation_rating) as Likelihood_to_Recommend \"+\\\n",
    "\"from replicon.xavier.products p inner join replicon.xavier.reviews r on r.source_site = p.source_site and r.source_product_id = p.source_product_id \"+\\\n",
    "\"where r.status = '1' and is_disabled ='False' and p.global_id in ('\"+str(input_global_id)+\"') \"+\\\n",
    "\"group by p.global_id\"\n",
    "Rating = pd.read_sql_query(query, sfengine)\n",
    "Rating[['Ease of Use','Customer Support','Functionality','Value for Money']]=Rating[['ease_of_use','customer_support','functionality','value_for_money']]*20\n",
    "Rating['Likelihood to Recommend']=Rating['likelihood_to_recommend']*10\n",
    "Rating=Rating.drop(['ease_of_use','customer_support','functionality','value_for_money','likelihood_to_recommend'],axis=1)\n",
    "Rating=Rating.transpose()\n",
    "Rating.to_csv('/Users/prai/Desktop/rating_line2.csv')"
   ]
  },
  {
   "cell_type": "code",
   "execution_count": 38,
   "id": "b8857eea",
   "metadata": {},
   "outputs": [
    {
     "name": "stderr",
     "output_type": "stream",
     "text": [
      "<ipython-input-38-879c33dd9215>:25: UserWarning: The handle <matplotlib.lines.Line2D object at 0x7ff46940ea60> has a label of '_line2' which cannot be automatically added to the legend.\n",
      "  plt.legend(handles=[line_up, line_down])\n",
      "<ipython-input-38-879c33dd9215>:25: UserWarning: The handle <matplotlib.lines.Line2D object at 0x7ff4694113a0> has a label of '_line3' which cannot be automatically added to the legend.\n",
      "  plt.legend(handles=[line_up, line_down])\n"
     ]
    },
    {
     "data": {
      "image/png": "[encoded data removed]",
      "text/plain": [
       "<Figure size 720x576 with 1 Axes>"
      ]
     },
     "metadata": {
      "needs_background": "light"
     },
     "output_type": "display_data"
    }
   ],
   "source": [
    "import matplotlib.pyplot as plt\n",
    "import numpy as np\n",
    "Rating1=pd.read_csv('/Users/prai/Desktop/rating_line1.csv')\n",
    "Rating1['Val']=Rating1['Val'].round(2).astype(int)\n",
    "Rating2=pd.read_csv('/Users/prai/Desktop/rating_line2.csv')\n",
    "Rating2['Val']=Rating2['Val'].round(2).astype(int)\n",
    "plt.figure(figsize=[10,8])\n",
    "plt.rcParams['font.family'] = 'sans-serif'\n",
    "Rating1['Val'].plot(ylim=(50,100),linestyle='')\n",
    "Rating2['Val'].plot(ylim=(50,100),linestyle='')\n",
    "line_up,=plt.plot(Rating1['Dat'], Rating1['Val'],linestyle='',marker='o',color='#ff6d01',ms=14)\n",
    "line_down,=plt.plot(Rating2['Dat'], Rating2['Val'],linestyle='',marker='o',color='#2d284d',ms=14)\n",
    "for i,j in Rating1.Val.items():\n",
    "    plt.annotate((j), xy=(i+.1, j+3))\n",
    "for i,j in Rating2.Val.items():\n",
    "    plt.annotate((j), xy=(i+.1, j-3))\n",
    "x=plt.xlabel(\"Rating Field\",labelpad=20)  # add X-axis label\n",
    "y=plt.ylabel(\"Average Rating \\n(0-100)\",labelpad=16)  # add Y-axis label\n",
    "plt.tick_params(axis='x', labelsize=9)\n",
    "plt.tick_params(axis='y', labelsize=11)\n",
    "plt.gca().yaxis.grid(True)\n",
    "plt.rcParams[\"font.weight\"] = \"bold\"\n",
    "plt.rcParams[\"axes.labelweight\"] = \"bold\"\n",
    "\n",
    "plt.legend(handles=[line_up, line_down])\n",
    "\n",
    "plt.title(\"How to reviewers score *Product #\",fontweight='bold')  # add title\n",
    "plt.savefig('/Users/prai/Desktop/Rating.png',orientation='portrait')\n",
    "plt.show()\n",
    "\n",
    "\n"
   ]
  },
  {
   "cell_type": "code",
   "execution_count": 44,
   "id": "3207c00f",
   "metadata": {},
   "outputs": [],
   "source": [
    "import docx\n",
    "from docx.shared import Inches\n",
    "# Create an instance of a word document\n",
    "doc = docx.Document()\n",
    "  \n",
    "# Add a Title to the document\n",
    "doc.add_heading('Gartner Sample Data', 3)\n",
    "doc.add_picture('/Users/prai/Desktop/images.png',width=Inches(6))\n",
    "doc.add_picture('/Users/prai/Desktop/Rating.png',width=Inches(6))\n",
    "doc.add_picture('/Users/prai/Desktop/Pie_product_1.png',width=Inches(6))\n",
    "doc.add_picture('/Users/prai/Desktop/Pie_product_2.png',width=Inches(6))\n",
    "doc.add_picture('/Users/prai/Desktop/table_plotly.png', width=Inches(6))\n",
    "# Table data in a form of list\n",
    "data = (\n",
    "    (\"Author name\", \"Author = The name of the author who wrote the piece. Also include the name that should appear in the byline, if it differs.\"),\n",
    "    (\"H1\", '\"H1 = Title at the top of the content; the headline for the piece\"'),\n",
    "    (\"Title Tag (< 60 characters)\", \"Title Tags = “Title” that appears in the SERPs - Often the same as the H1, unless the H1 is too many characters - Under 60 characters (preview it here)- Target keywords should be as close to the front as possible- Should be descriptive of the content, but also unique to stand out in the SERPs (Be sure to Google your targeted keyword and see how you can differentiate from what already there)\"),\n",
    "    (\"Meta Description (150-170 characters)\",\"Meta Descriptions = Description under the TT that appears in the SERPs - 150 to 170 characters - Should be detailed, relevant and eye-catching - Include keywords (this has no direct SEO impact, but they do appear bolded to catch a searcher's attention) - Use action-oriented language (e.g., Learn how... Discover how...Find out....) Resource: HubSpot has a great blog on the subject of writing meta descriptions: http://blog.hubspot.com/marketing/how-to-write-meta-description-ht.\"),\n",
    "    (\"URL\",\"URLs  Match the URL as closely as possible to your highest volume keyword - Use hyphens to separate words (e.g., hipaa-violations-in-the-news)  Avoid using numbers, especially years or the number of products in a list piece unless approved by SEO  Always use all lowercase\"),\n",
    "    (\"Keyword/volume\",\" \"),\n",
    "    (\"Market or Blog Category:\",\"Choose from column C in this list\"),\n",
    "    (\"[Capterra Only] Subheadline\",\"A secondary headline that expands on the title and compels the audience to keep reading. Appears under the H1 and above the header image in Capterra blog content. Appears above the header image Example.\"))\n",
    "  \n",
    "# Creating a table object\n",
    "table = doc.add_table(rows=1, cols=2)\n",
    "  \n",
    "# Adding heading in the 1st row of the table\n",
    "row = table.rows[0].cells\n",
    "row[0].text = 'Column 1'\n",
    "row[1].text = 'Column 2'\n",
    "  \n",
    "# Adding data from the list to the table\n",
    "for id, name in data:\n",
    "  \n",
    "    # Adding a row and then adding data in it.\n",
    "    row = table.add_row().cells\n",
    "    # Converting id to string as table can only take string input\n",
    "    row[0].text = str(id)\n",
    "    row[1].text = name\n",
    "table.name = 'MS Gothic'\n",
    "table.size = docx.shared.Pt(15)\n",
    "table.style = 'TableGrid'\n",
    "font = table.style.font\n",
    "font.bold= True\n",
    "\n",
    "doc.add_page_break()\n",
    "doc.save('/Users/prai/Desktop/Table_template.docx')"
   ]
  },
  {
   "cell_type": "code",
   "execution_count": null,
   "id": "4e682dc3",
   "metadata": {},
   "outputs": [],
   "source": []
  },
  {
   "cell_type": "code",
   "execution_count": null,
   "id": "deaf19c5",
   "metadata": {},
   "outputs": [],
   "source": []
  },
  {
   "cell_type": "code",
   "execution_count": null,
   "id": "a61959f0",
   "metadata": {},
   "outputs": [],
   "source": []
  },
  {
   "cell_type": "code",
   "execution_count": null,
   "id": "ff5b2bd3",
   "metadata": {},
   "outputs": [],
   "source": [
    "import matplotlib.pyplot as plt\n",
    "import numpy as np\n",
    "Rating1=pd.read_csv('/Users/prai/Desktop/rating_line1.csv')\n",
    "Rating1['Val']=Rating1['Val'].round(2).astype(int)\n",
    "Rating2=pd.read_csv('/Users/prai/Desktop/rating_line2.csv')\n",
    "Rating2['Val']=Rating2['Val'].round(2).astype(int)\n",
    "plt.figure(figsize=[10,8])\n",
    "plt.rcParams['font.family'] = 'sans-serif'\n",
    "Rating1['Val'].plot(ylim=(50,100),linestyle='')\n",
    "Rating2['Val'].plot(ylim=(50,100),linestyle='')\n",
    "plt.plot(Rating1['Dat'], Rating1['Val'],linestyle='',marker='o',color='#ff6d01',ms=14)\n",
    "plt.plot(Rating2['Dat'], Rating2['Val'],linestyle='',marker='o',color='#2d284d',ms=14)\n",
    "for i,j in Rating1.Val.items():\n",
    "    plt.annotate((j), xy=(i, j+4))\n",
    "for i,j in Rating2.Val.items():\n",
    "    plt.annotate((j), xy=(i, j-4))\n",
    "x=plt.xlabel(\"Rating Field\",labelpad=20)  # add X-axis label\n",
    "y=plt.ylabel(\"Rating\",labelpad=16)  # add Y-axis label\n",
    "plt.tick_params(axis='x', labelsize=9)\n",
    "plt.tick_params(axis='y', labelsize=11)\n",
    "plt.gca().yaxis.grid(True)\n",
    "plt.rcParams[\"font.weight\"] = \"bold\"\n",
    "plt.rcParams[\"axes.labelweight\"] = \"bold\"\n",
    "\n",
    "\n",
    "plt.title(\"How to reviewers score *Product #\",fontweight='bold')  # add title\n",
    "# plt.savefig('/Users/prai/Desktop/Rating.png',orientation='portrait')\n",
    "plt.show()\n",
    "\n"
   ]
  },
  {
   "cell_type": "code",
   "execution_count": null,
   "id": "6c5a84b7",
   "metadata": {},
   "outputs": [],
   "source": []
  }
 ],
 "metadata": {
  "kernelspec": {
   "display_name": "Python 3",
   "language": "python",
   "name": "python3"
  },
  "language_info": {
   "codemirror_mode": {
    "name": "ipython",
    "version": 3
   },
   "file_extension": ".py",
   "mimetype": "text/x-python",
   "name": "python",
   "nbconvert_exporter": "python",
   "pygments_lexer": "ipython3",
   "version": "3.8.8"
  }
 },
 "nbformat": 4,
 "nbformat_minor": 5
}
