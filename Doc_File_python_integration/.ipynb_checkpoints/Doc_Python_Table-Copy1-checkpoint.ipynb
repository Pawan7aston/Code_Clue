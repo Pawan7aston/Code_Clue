{
 "cells": [
  {
   "cell_type": "code",
   "execution_count": 129,
   "id": "77675eeb",
   "metadata": {},
   "outputs": [
    {
     "name": "stderr",
     "output_type": "stream",
     "text": [
      "/Users/prai/opt/anaconda3/lib/python3.8/site-packages/docx/styles/styles.py:139: UserWarning: style lookup by style_id is deprecated. Use style name as key instead.\n",
      "  return self._get_style_id_from_style(self[style_name], style_type)\n"
     ]
    }
   ],
   "source": [
    "import docx\n",
    "from docx.shared import Inches\n",
    "# Create an instance of a word document\n",
    "doc = docx.Document()\n",
    "  \n",
    "# Add a Title to the document\n",
    "doc.add_heading('Gartner Sample Data', 3)\n",
    "doc.add_picture('/Users/prai/Desktop/images.png')\n",
    "doc.add_picture('/Users/prai/Desktop/Rating.png', width=Inches(6))\n",
    "# Table data in a form of list\n",
    "data = (\n",
    "    (\"Author name\", \"Author = The name of the author who wrote the piece. Also include the name that should appear in the byline, if it differs.\"),\n",
    "    (\"H1\", '\"H1 = Title at the top of the content; the headline for the piece\"'),\n",
    "    (\"Title Tag (< 60 characters)\", \"Title Tags = “Title” that appears in the SERPs - Often the same as the H1, unless the H1 is too many characters - Under 60 characters (preview it here)- Target keywords should be as close to the front as possible- Should be descriptive of the content, but also unique to stand out in the SERPs (Be sure to Google your targeted keyword and see how you can differentiate from what already there)\"),\n",
    "    (\"Meta Description (150-170 characters)\",\"Meta Descriptions = Description under the TT that appears in the SERPs - 150 to 170 characters - Should be detailed, relevant and eye-catching - Include keywords (this has no direct SEO impact, but they do appear bolded to catch a searcher's attention) - Use action-oriented language (e.g., Learn how... Discover how...Find out....) Resource: HubSpot has a great blog on the subject of writing meta descriptions: http://blog.hubspot.com/marketing/how-to-write-meta-description-ht.\"),\n",
    "    (\"URL\",\"URLs  Match the URL as closely as possible to your highest volume keyword - Use hyphens to separate words (e.g., hipaa-violations-in-the-news)  Avoid using numbers, especially years or the number of products in a list piece unless approved by SEO  Always use all lowercase\"),\n",
    "    (\"Keyword/volume\",\" \"),\n",
    "    (\"Market or Blog Category:\",\"Choose from column C in this list\"),\n",
    "    (\"[Capterra Only] Subheadline\",\"A secondary headline that expands on the title and compels the audience to keep reading. Appears under the H1 and above the header image in Capterra blog content. Appears above the header image Example.\"))\n",
    "  \n",
    "# Creating a table object\n",
    "table = doc.add_table(rows=1, cols=2)\n",
    "  \n",
    "# Adding heading in the 1st row of the table\n",
    "row = table.rows[0].cells\n",
    "row[0].text = 'Column 1'\n",
    "row[1].text = 'Column 2'\n",
    "  \n",
    "# Adding data from the list to the table\n",
    "for id, name in data:\n",
    "  \n",
    "    # Adding a row and then adding data in it.\n",
    "    row = table.add_row().cells\n",
    "    # Converting id to string as table can only take string input\n",
    "    row[0].text = str(id)\n",
    "    row[1].text = name\n",
    "table.name = 'MS Gothic'\n",
    "table.size = docx.shared.Pt(15)\n",
    "table.style = 'TableGrid'\n",
    "font = table.style.font\n",
    "font.bold= True\n",
    "\n",
    "doc.add_page_break()\n",
    "doc.save('/Users/prai/Desktop/gfg.docx')"
   ]
  },
  {
   "cell_type": "code",
   "execution_count": 12,
   "id": "1ced0eea",
   "metadata": {},
   "outputs": [],
   "source": [
    "# from docx import Document\n",
    "# document = Document()\n",
    "# import pandas as pd"
   ]
  },
  {
   "cell_type": "code",
   "execution_count": 9,
   "id": "a8784aa6",
   "metadata": {},
   "outputs": [],
   "source": [
    "# d1=pd.read_csv('/Users/prai/Desktop/final_category_file.csv')\n",
    "# d1[['GDM Category Global Name','GDM Category Global ID']] = d1[['GDM Category Global Name','GDM Category Global ID']].astype(str)\n",
    "# new=d1[['GDM Category Global Name','GDM Category Global ID']]\n",
    "# data=tuple(zip(d1['GDM Category Global Name'], d1['GDM Category Global ID']))\n"
   ]
  },
  {
   "cell_type": "code",
   "execution_count": 35,
   "id": "7fef320e",
   "metadata": {},
   "outputs": [],
   "source": [
    "# Inserting table"
   ]
  },
  {
   "cell_type": "code",
   "execution_count": 10,
   "id": "3e26bf9f",
   "metadata": {},
   "outputs": [],
   "source": [
    "# d1=pd.read_csv('/Users/prai/Desktop/final_category_file.csv')\n",
    "# d1[['title1','title2']] = d1[['title1','title2']].astype(str)\n",
    "# d1\n",
    "# # new=d1[['title1','title2']]\n",
    "# # data=tuple(zip(d1[['title1','title2']]))"
   ]
  },
  {
   "cell_type": "code",
   "execution_count": 11,
   "id": "087cf7cc",
   "metadata": {},
   "outputs": [],
   "source": [
    "# data"
   ]
  },
  {
   "cell_type": "code",
   "execution_count": 5,
   "id": "8bd18ae0",
   "metadata": {},
   "outputs": [
    {
     "name": "stderr",
     "output_type": "stream",
     "text": [
      "/Users/prai/opt/anaconda3/lib/python3.8/site-packages/docx/styles/styles.py:139: UserWarning: style lookup by style_id is deprecated. Use style name as key instead.\n",
      "  return self._get_style_id_from_style(self[style_name], style_type)\n"
     ]
    }
   ],
   "source": [
    "# import docx\n",
    "  \n",
    "# # Create an instance of a word document\n",
    "# doc = docx.Document()\n",
    "  \n",
    "# # Add a Title to the document\n",
    "# # doc.add_heading('Gartner Sample Data', 3)\n",
    "# doc.add_picture('/Users/prai/Desktop/images.png')\n",
    "# # Table data in a form of list\n",
    "# data = (\n",
    "#     (\"Author name\", \"Author = The name of the author who wrote the piece. Also include the name that should appear in the byline, if it differs.\"),\n",
    "#     (\"H1\", '\"H1 = Title at the top of the content; the headline for the piece\"'),\n",
    "#     (\"Title Tag (< 60 characters)\", \"Title Tags = “Title” that appears in the SERPs - Often the same as the H1, unless the H1 is too many characters - Under 60 characters (preview it here)- Target keywords should be as close to the front as possible- Should be descriptive of the content, but also unique to stand out in the SERPs (Be sure to Google your targeted keyword and see how you can differentiate from what already there)\"),\n",
    "#     (\"Meta Description (150-170 characters)\",\"Meta Descriptions = Description under the TT that appears in the SERPs - 150 to 170 characters - Should be detailed, relevant and eye-catching - Include keywords (this has no direct SEO impact, but they do appear bolded to catch a searcher's attention) - Use action-oriented language (e.g., Learn how... Discover how...Find out....) Resource: HubSpot has a great blog on the subject of writing meta descriptions: http://blog.hubspot.com/marketing/how-to-write-meta-description-ht.\"),\n",
    "#     (\"URL\",\"URLs  Match the URL as closely as possible to your highest volume keyword - Use hyphens to separate words (e.g., hipaa-violations-in-the-news)  Avoid using numbers, especially years or the number of products in a list piece unless approved by SEO  Always use all lowercase\"),\n",
    "#     (\"Keyword/volume\",\" \"),\n",
    "#     (\"Market or Blog Category:\",\"Choose from column C in this list\"),\n",
    "#     (\"[Capterra Only] Subheadline\",\"A secondary headline that expands on the title and compels the audience to keep reading. Appears under the H1 and above the header image in Capterra blog content. Appears above the header image Example.\"))\n",
    "  \n",
    "# # Creating a table object\n",
    "# table = doc.add_table(rows=1, cols=2)\n",
    "  \n",
    "# # Adding heading in the 1st row of the table\n",
    "# row = table.rows[0].cells\n",
    "# row[0].text = 'Column 1'\n",
    "# row[1].text = 'Column 2'\n",
    "  \n",
    "# # Adding data from the list to the table\n",
    "# for id, name in data:\n",
    "  \n",
    "#     # Adding a row and then adding data in it.\n",
    "#     row = table.add_row().cells\n",
    "#     # Converting id to string as table can only take string input\n",
    "#     row[0].text = str(id)\n",
    "#     row[1].text = name\n",
    "# table.name = 'MS Gothic'\n",
    "# table.size = docx.shared.Pt(15)\n",
    "# table.style = 'TableGrid'\n",
    "# font = table.style.font\n",
    "# font.bold= True\n",
    "# document.add_page_break()\n",
    "# doc.save('/Users/prai/Desktop/gfg.docx')"
   ]
  },
  {
   "cell_type": "code",
   "execution_count": 6,
   "id": "eae0c974",
   "metadata": {},
   "outputs": [],
   "source": [
    "# import pandas as pd"
   ]
  },
  {
   "cell_type": "code",
   "execution_count": 8,
   "id": "b86f0018",
   "metadata": {},
   "outputs": [],
   "source": [
    "# d1=pd.read_csv('/Users/prai/Desktop/final_category_file.csv')"
   ]
  },
  {
   "cell_type": "code",
   "execution_count": null,
   "id": "bcf407e2",
   "metadata": {},
   "outputs": [],
   "source": [
    "# new=d1[['GDM Category Global Name','GDM Category Global ID']]"
   ]
  },
  {
   "cell_type": "code",
   "execution_count": null,
   "id": "928d5f2c",
   "metadata": {},
   "outputs": [],
   "source": [
    "# new=tuple(zip(d1['GDM Category Global Name'], d1['GDM Category Global ID']))"
   ]
  },
  {
   "cell_type": "code",
   "execution_count": null,
   "id": "0a8fa907",
   "metadata": {},
   "outputs": [],
   "source": [
    "# for i in new:\n",
    "#     print(i)"
   ]
  },
  {
   "cell_type": "code",
   "execution_count": 59,
   "id": "1fe54b2f",
   "metadata": {},
   "outputs": [],
   "source": [
    "# from docx import Document\n",
    "# from docx.shared import Inches\n",
    "\n",
    "# document = Document()\n",
    "\n",
    "# document.add_heading('Document Title', 0)\n",
    "\n",
    "# p = document.add_paragraph('A plain paragraph having some ')\n",
    "# p.add_run('bold').bold = True\n",
    "# p.add_run(' and some ')\n",
    "# p.add_run('italic.').italic = True\n",
    "\n",
    "# document.add_heading('Heading, level 1', level=1)\n",
    "\n",
    "# document.add_paragraph('Intense quote', style='Intense Quote')\n",
    "\n",
    "# document.add_paragraph(\n",
    "#     'first item in unordered list', style='List Bullet'\n",
    "# )\n",
    "\n",
    "# document.add_paragraph(\n",
    "#     'first item in ordered list', style='List Number'\n",
    "# )\n",
    "\n",
    "# document.add_picture('/Users/prai/Desktop/images.png', width=Inches(1.25))\n",
    "\n",
    "\n",
    "# recordset = [\n",
    "#     {\n",
    "#         \"Author name\" : \"Author = The name of the author who wrote the piece. Also include the name that should appear in the byline, if it differs.\",\n",
    "#         \"H1:\": \"H1 = Title at the top of the content; the headline for the piece\" }\n",
    "\n",
    "\n",
    "# ]\n",
    "# #print(recordset[0]['id'])\n",
    "# table = document.add_table(rows=1, cols=2)\n",
    "# hdr_cells = table.rows[0].cells\n",
    "# hdr_cells[0].text = 'Author name'\n",
    "# hdr_cells[1].text = 'H1'\n",
    "# for item in recordset:\n",
    "# \t#print(item)\n",
    "# \trow_cells = table.add_row().cells\n",
    "# \trow_cells[0].text = str(item['Author name'])\n",
    "# # \trow_cells[1].text = str(item['H1'])\n",
    "\n",
    "# document.add_page_break()\n",
    "\n",
    "# document.save('/Users/prai/Desktop/simple.docx')"
   ]
  },
  {
   "cell_type": "code",
   "execution_count": 2,
   "id": "53ed2b97",
   "metadata": {},
   "outputs": [],
   "source": [
    "import pandas as pd\n",
    "import numpy as np\n",
    "import re\n",
    "from collections import Counter\n",
    "import sqlalchemy as db\n",
    "from snowflake.sqlalchemy import URL"
   ]
  },
  {
   "cell_type": "code",
   "execution_count": 3,
   "id": "fac28858",
   "metadata": {},
   "outputs": [],
   "source": [
    "snowflake_credentials = pd.read_excel('/Users/prai/Desktop/Developement/snowflake_credentials.xlsx')\n",
    "global user\n",
    "global password\n",
    "global account\n",
    "global warehouse\n",
    "global schema\n",
    "user = str(snowflake_credentials.iloc[0,1])\n",
    "password = str(snowflake_credentials.iloc[1,1])\n",
    "account = str(snowflake_credentials.iloc[2,1])\n",
    "warehouse = str(snowflake_credentials.iloc[3,1])\n",
    "schema = str(snowflake_credentials.iloc[4,1])\n",
    "\n",
    "global sfengine\n",
    "sfengine = db.create_engine(URL(\n",
    "    user = user\n",
    "    ,password = password\n",
    "    ,account = account\n",
    "    ,warehouse = warehouse\n",
    "    ,database = \"TRANSFORM\"\n",
    "    ,schema = schema\n",
    "))"
   ]
  },
  {
   "cell_type": "code",
   "execution_count": 4,
   "id": "05391b22",
   "metadata": {},
   "outputs": [],
   "source": [
    "input_global_id ='44349a83-949d-43ef-b5e5-a6d200b4cae0'\n",
    "query=\"select avg(r.ease_of_use_rating) as Ease_of_Use, avg(r.customer_support_rating) as Customer_Support, avg(r.functionality_rating) as Functionality, avg(r.value_for_money_rating) as Value_for_Money, avg(r.recommendation_rating) as Likelihood_to_Recommend \"+\\\n",
    "\"from replicon.xavier.products p inner join replicon.xavier.reviews r on r.source_site = p.source_site and r.source_product_id = p.source_product_id \"+\\\n",
    "\"where r.status = '1' and is_disabled ='False' and p.global_id in ('\"+str(input_global_id)+\"') \"+\\\n",
    "\"group by p.global_id\"\n",
    "Rating = pd.read_sql_query(query, sfengine)\n",
    "Rating\n",
    "Rating[['Ease of Use','Customer Support','Functionality','Value for Money']]=Rating[['ease_of_use','customer_support','functionality','value_for_money']]*20\n",
    "Rating['Likelihood to Recommend']=Rating['likelihood_to_recommend']*10\n",
    "Rating=Rating.drop(['ease_of_use','customer_support','functionality','value_for_money','likelihood_to_recommend'],axis=1)\n",
    "Rating=Rating.transpose()\n",
    "Rating.to_csv('/Users/prai/Desktop/rating.csv')"
   ]
  },
  {
   "cell_type": "code",
   "execution_count": 5,
   "id": "6e6a843b",
   "metadata": {
    "scrolled": true
   },
   "outputs": [
    {
     "data": {
      "image/png": "[encoded data removed]",
      "text/plain": [
       "<Figure size 720x576 with 1 Axes>"
      ]
     },
     "metadata": {
      "needs_background": "light"
     },
     "output_type": "display_data"
    }
   ],
   "source": [
    "import matplotlib.pyplot as plt\n",
    "import numpy as np\n",
    "Rating=pd.read_csv('/Users/prai/Desktop/rating.csv')\n",
    "Rating['Val']=Rating['Val'].round(2).astype(int)\n",
    "plt.figure(figsize=[10,8])\n",
    "\n",
    "Rating['Val'].plot(ylim=(70,100),linestyle='')\n",
    "plt.plot(Rating['Dat'], Rating['Val'],linestyle='',marker='o',color='#ff6d01',ms=14)\n",
    "for i,j in Rating.Val.items():\n",
    "    plt.annotate((j), xy=(i, j+2))\n",
    "x=plt.xlabel(\"Rating Field\",labelpad=20)  # add X-axis label\n",
    "y=plt.ylabel(\"Rating\",labelpad=16)  # add Y-axis label\n",
    "plt.tick_params(axis='x', labelsize=9)\n",
    "plt.tick_params(axis='y', labelsize=11)\n",
    "plt.gca().yaxis.grid(True)\n",
    "plt.rcParams[\"font.weight\"] = \"bold\"\n",
    "plt.rcParams[\"axes.labelweight\"] = \"bold\"\n",
    "plt.rcParams['font.family'] = 'sans-serif'\n",
    "plt.title(\"How to reviewers score *Product #\",fontweight='bold')  # add title\n",
    "plt.savefig('/Users/prai/Desktop/Rating.png',orientation='portrait')\n",
    "plt.show()\n"
   ]
  },
  {
   "cell_type": "code",
   "execution_count": 134,
   "id": "d825f206",
   "metadata": {},
   "outputs": [
    {
     "data": {
      "image/png": "[encoded data removed]",
      "text/plain": [
       "<Figure size 720x576 with 1 Axes>"
      ]
     },
     "metadata": {
      "needs_background": "light"
     },
     "output_type": "display_data"
    }
   ],
   "source": [
    "import matplotlib.pyplot as plt\n",
    "import numpy as np\n",
    "Rating=pd.read_csv('/Users/prai/Desktop/rating.csv')\n",
    "Rating['Val']=Rating['Val'].round(2).astype(int)\n",
    "plt.figure(figsize=[10,8])\n",
    "\n",
    "Rating['Val'].plot(ylim=(50,100),linestyle='')\n",
    "plt.plot(Rating['Dat'], Rating['Val'],linestyle='',marker='o',color='#ff6d01',ms=14)\n",
    "for i,j in Rating.Val.items():\n",
    "    plt.annotate((j), xy=(i, j+2))\n",
    "x=plt.xlabel(\"Rating Field\",labelpad=25)  # add X-axis label\n",
    "y=plt.ylabel(\"Rating\",labelpad=20)  # add Y-axis label\n",
    "plt.tick_params(axis='x', labelsize=11)\n",
    "plt.tick_params(axis='y', labelsize=11)\n",
    "plt.rcParams[\"axes.labelweight\"] = \"bold\"\n",
    "plt.gca().yaxis.grid(True)\n",
    "plt.title(\"How to reviewers score *Product #\")  # add title\n",
    "plt.savefig('/Users/prai/Desktop/Rating.png',orientation='portrait')\n",
    "plt.show()\n",
    "\n"
   ]
  },
  {
   "cell_type": "code",
   "execution_count": 110,
   "id": "84402d41",
   "metadata": {},
   "outputs": [],
   "source": [
    "################"
   ]
  },
  {
   "cell_type": "code",
   "execution_count": null,
   "id": "77df8c7c",
   "metadata": {},
   "outputs": [],
   "source": []
  }
 ],
 "metadata": {
  "kernelspec": {
   "display_name": "Python 3",
   "language": "python",
   "name": "python3"
  },
  "language_info": {
   "codemirror_mode": {
    "name": "ipython",
    "version": 3
   },
   "file_extension": ".py",
   "mimetype": "text/x-python",
   "name": "python",
   "nbconvert_exporter": "python",
   "pygments_lexer": "ipython3",
   "version": "3.8.8"
  }
 },
 "nbformat": 4,
 "nbformat_minor": 5
}
