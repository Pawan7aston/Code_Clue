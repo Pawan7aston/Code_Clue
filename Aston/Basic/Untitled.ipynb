{
 "cells": [
  {
   "cell_type": "code",
   "execution_count": 4,
   "id": "8c98d9b5",
   "metadata": {},
   "outputs": [],
   "source": [
    "import numpy as np\n",
    "import pandas as pd"
   ]
  },
  {
   "cell_type": "code",
   "execution_count": 6,
   "id": "06b98dc3",
   "metadata": {},
   "outputs": [
    {
     "name": "stdout",
     "output_type": "stream",
     "text": [
      "Data Analytics is most have some most difficult subject for Enginerring\n"
     ]
    }
   ],
   "source": [
    "A=\"Data\"\n",
    "B=\"Analytics\"\n",
    "C=\"Enginerring\"\n",
    "print(\"{0} {1} is most have some most difficult subject for {2}\".format(A,B,C))"
   ]
  },
  {
   "cell_type": "code",
   "execution_count": 9,
   "id": "935eb7e8",
   "metadata": {},
   "outputs": [
    {
     "data": {
      "text/plain": [
       "['Adam', 'Niyle', 'James']"
      ]
     },
     "execution_count": 9,
     "metadata": {},
     "output_type": "execute_result"
    }
   ],
   "source": [
    "lst=[\"Rayn\",\"Adam\",\"Niyle\",\"James\"]\n",
    "lst.pop(0)\n",
    "lst"
   ]
  },
  {
   "cell_type": "code",
   "execution_count": 24,
   "id": "71d2d995",
   "metadata": {},
   "outputs": [
    {
     "data": {
      "text/plain": [
       "['My',\n",
       " 'name',\n",
       " 'is',\n",
       " 'Pawan',\n",
       " 'Kumar',\n",
       " 'rai',\n",
       " '.',\n",
       " 'I',\n",
       " 'am',\n",
       " 'just',\n",
       " 'check',\n",
       " 'is',\n",
       " 'split',\n",
       " 'function',\n",
       " 'working',\n",
       " 'properly']"
      ]
     },
     "execution_count": 24,
     "metadata": {},
     "output_type": "execute_result"
    }
   ],
   "source": [
    "string=\"My name is Pawan Kumar rai . I am just check is split function working properly\"\n",
    "string=string.split(' ')\n",
    "string"
   ]
  },
  {
   "cell_type": "code",
   "execution_count": 28,
   "id": "c25ee6a1",
   "metadata": {},
   "outputs": [
    {
     "data": {
      "text/plain": [
       "'My name is Pawan Kumar rai . I am just check is split function working properly'"
      ]
     },
     "execution_count": 28,
     "metadata": {},
     "output_type": "execute_result"
    }
   ],
   "source": [
    "join_string=\" \".join(string)\n",
    "join_string"
   ]
  },
  {
   "cell_type": "code",
   "execution_count": 30,
   "id": "4a4f8787",
   "metadata": {},
   "outputs": [
    {
     "name": "stdout",
     "output_type": "stream",
     "text": [
      "['Hi', 'Hi', 'Hi', 'Hi', 'Hi']\n"
     ]
    }
   ],
   "source": [
    "lst1=[\"Hi\"]\n",
    "print(lst1*5)"
   ]
  },
  {
   "cell_type": "code",
   "execution_count": 31,
   "id": "394e3fd3",
   "metadata": {},
   "outputs": [
    {
     "name": "stdout",
     "output_type": "stream",
     "text": [
      "['Hi', 'Hi']\n"
     ]
    }
   ],
   "source": [
    "print(lst1+lst1)"
   ]
  },
  {
   "cell_type": "code",
   "execution_count": 36,
   "id": "317f976f",
   "metadata": {},
   "outputs": [
    {
     "name": "stdout",
     "output_type": "stream",
     "text": [
      "[3, 3, 4, 4, 6, 6, 6, 7, 7, 8, 9, 12]\n"
     ]
    }
   ],
   "source": [
    "lst2=[4,6,3,7,12,6,8,9,4,3,6,7]\n",
    "print(sorted(lst2))"
   ]
  },
  {
   "cell_type": "code",
   "execution_count": 37,
   "id": "265e693b",
   "metadata": {},
   "outputs": [
    {
     "name": "stdout",
     "output_type": "stream",
     "text": [
      "3\n",
      "12\n"
     ]
    }
   ],
   "source": [
    "print(min(lst2))\n",
    "print(max(lst2))"
   ]
  },
  {
   "cell_type": "code",
   "execution_count": 40,
   "id": "fbc87da5",
   "metadata": {},
   "outputs": [
    {
     "name": "stdout",
     "output_type": "stream",
     "text": [
      "Pythons syntax is easy to learn & Pythons syntax is very clear\n"
     ]
    }
   ],
   "source": [
    "lst3= ['Pythons syntax is easy to learn', 'Pythons syntax is very clear'] \n",
    "print(\" & \".join(lst3))"
   ]
  },
  {
   "cell_type": "code",
   "execution_count": 42,
   "id": "bba3893a",
   "metadata": {},
   "outputs": [
    {
     "name": "stdout",
     "output_type": "stream",
     "text": [
      "Python\n"
     ]
    }
   ],
   "source": [
    "list_input_list =  [['SAS','R'],['Tableau','SQL'],['Python','Java']]\n",
    "print(list_input_list[2][0])"
   ]
  },
  {
   "cell_type": "code",
   "execution_count": 43,
   "id": "d6585d36",
   "metadata": {},
   "outputs": [],
   "source": [
    "new_tup=(\"Pawan\",111,23,43)"
   ]
  },
  {
   "cell_type": "code",
   "execution_count": 45,
   "id": "ffc4a814",
   "metadata": {},
   "outputs": [
    {
     "ename": "TypeError",
     "evalue": "'tuple' object does not support item assignment",
     "output_type": "error",
     "traceback": [
      "\u001b[0;31m---------------------------------------------------------------------------\u001b[0m",
      "\u001b[0;31mTypeError\u001b[0m                                 Traceback (most recent call last)",
      "\u001b[0;32m/var/folders/74/jgksr3hd5qq079nppwb62hy80000gn/T/ipykernel_19630/1392579909.py\u001b[0m in \u001b[0;36m<module>\u001b[0;34m\u001b[0m\n\u001b[1;32m      1\u001b[0m \u001b[0;31m# Can't update new values in tuples\u001b[0m\u001b[0;34m\u001b[0m\u001b[0;34m\u001b[0m\u001b[0m\n\u001b[0;32m----> 2\u001b[0;31m \u001b[0mnew_tup\u001b[0m\u001b[0;34m[\u001b[0m\u001b[0;36m2\u001b[0m\u001b[0;34m]\u001b[0m\u001b[0;34m=\u001b[0m\u001b[0;36m23\u001b[0m\u001b[0;34m\u001b[0m\u001b[0;34m\u001b[0m\u001b[0m\n\u001b[0m",
      "\u001b[0;31mTypeError\u001b[0m: 'tuple' object does not support item assignment"
     ]
    }
   ],
   "source": [
    "# Can't update new values in tuples\n",
    "new_tup[2]=23"
   ]
  },
  {
   "cell_type": "code",
   "execution_count": 54,
   "id": "92eae930",
   "metadata": {},
   "outputs": [],
   "source": [
    "dict_1={\"Name\":\"Pawan\",\"Age\":\"28\",\"College\":\"Aston_University\"}"
   ]
  },
  {
   "cell_type": "code",
   "execution_count": 55,
   "id": "21462ff5",
   "metadata": {},
   "outputs": [],
   "source": [
    "dict_1[\"College\"]=\"Birmingham University\""
   ]
  },
  {
   "cell_type": "code",
   "execution_count": 65,
   "id": "3dd763ba",
   "metadata": {},
   "outputs": [
    {
     "name": "stdout",
     "output_type": "stream",
     "text": [
      "NA\n"
     ]
    }
   ],
   "source": [
    "a=dict_1.get('Country','NA')\n",
    "print(a)"
   ]
  },
  {
   "cell_type": "code",
   "execution_count": 66,
   "id": "3370f5a7",
   "metadata": {},
   "outputs": [
    {
     "data": {
      "text/plain": [
       "dict_keys(['Name', 'Age', 'College'])"
      ]
     },
     "execution_count": 66,
     "metadata": {},
     "output_type": "execute_result"
    }
   ],
   "source": [
    "dict_1.keys()"
   ]
  },
  {
   "cell_type": "code",
   "execution_count": 67,
   "id": "655298dc",
   "metadata": {},
   "outputs": [
    {
     "data": {
      "text/plain": [
       "dict_values(['Pawan', '28', 'Birmingham University'])"
      ]
     },
     "execution_count": 67,
     "metadata": {},
     "output_type": "execute_result"
    }
   ],
   "source": [
    "dict_1.values()"
   ]
  },
  {
   "cell_type": "code",
   "execution_count": 68,
   "id": "417d1c6d",
   "metadata": {},
   "outputs": [],
   "source": [
    "new_dict=dict(Country_name=\"India\",Songs=[\"Love ajj kal\",\"Gaal nhi katni\",\"Rockstart\"],Actor=[\"Amitabh Bacchan\",\"Salman Khan\",\"Ranbir Kapoor\",\"Akshy Kumar\"])"
   ]
  },
  {
   "cell_type": "code",
   "execution_count": 69,
   "id": "1e312132",
   "metadata": {},
   "outputs": [
    {
     "data": {
      "text/plain": [
       "{'Country_name': 'India',\n",
       " 'Songs': ['Love ajj kal', 'Gaal nhi katni', 'Rockstart'],\n",
       " 'Actor': ['Amitabh Bacchan', 'Salman Khan', 'Ranbir Kapoor', 'Akshy Kumar']}"
      ]
     },
     "execution_count": 69,
     "metadata": {},
     "output_type": "execute_result"
    }
   ],
   "source": [
    "new_dict"
   ]
  },
  {
   "cell_type": "code",
   "execution_count": 73,
   "id": "f34cda56",
   "metadata": {},
   "outputs": [],
   "source": [
    "# for i in range(100):\n",
    "#     print(i)\n",
    "#     if i>50:\n",
    "#         continue\n",
    "#         print(\"Hello\")\n",
    "\n",
    " "
   ]
  },
  {
   "cell_type": "code",
   "execution_count": 77,
   "id": "1ebf6f13",
   "metadata": {},
   "outputs": [
    {
     "data": {
      "text/plain": [
       "[1, 4, 9, 16, 25, 36, 49, 64, 81, 100]"
      ]
     },
     "execution_count": 77,
     "metadata": {},
     "output_type": "execute_result"
    }
   ],
   "source": [
    "new_list=[i**2 for i in range(1,11)]\n",
    "new_list"
   ]
  },
  {
   "cell_type": "code",
   "execution_count": 80,
   "id": "77e40aa4",
   "metadata": {},
   "outputs": [],
   "source": [
    "def addition(*args):\n",
    "    print(args)\n",
    "    return(sum(args))\n"
   ]
  },
  {
   "cell_type": "code",
   "execution_count": 81,
   "id": "352efa78",
   "metadata": {},
   "outputs": [
    {
     "name": "stdout",
     "output_type": "stream",
     "text": [
      "(1,)\n",
      "(2,)\n",
      "(3,)\n",
      "(4,)\n",
      "(5,)\n",
      "(6,)\n",
      "(7,)\n",
      "(8,)\n",
      "(9,)\n",
      "(10,)\n",
      "(11,)\n",
      "(12,)\n",
      "(13,)\n",
      "(14,)\n",
      "(15,)\n",
      "(16,)\n",
      "(17,)\n",
      "(18,)\n",
      "(19,)\n",
      "(20,)\n",
      "(21,)\n",
      "(22,)\n",
      "(23,)\n",
      "(24,)\n",
      "(25,)\n",
      "(26,)\n",
      "(27,)\n",
      "(28,)\n",
      "(29,)\n",
      "(30,)\n",
      "(31,)\n",
      "(32,)\n",
      "(33,)\n",
      "(34,)\n",
      "(35,)\n",
      "(36,)\n",
      "(37,)\n",
      "(38,)\n",
      "(39,)\n",
      "(40,)\n",
      "(41,)\n",
      "(42,)\n",
      "(43,)\n",
      "(44,)\n",
      "(45,)\n",
      "(46,)\n",
      "(47,)\n",
      "(48,)\n",
      "(49,)\n",
      "(50,)\n",
      "(51,)\n",
      "(52,)\n",
      "(53,)\n",
      "(54,)\n",
      "(55,)\n",
      "(56,)\n",
      "(57,)\n",
      "(58,)\n",
      "(59,)\n",
      "(60,)\n",
      "(61,)\n",
      "(62,)\n",
      "(63,)\n",
      "(64,)\n",
      "(65,)\n",
      "(66,)\n",
      "(67,)\n",
      "(68,)\n",
      "(69,)\n",
      "(70,)\n",
      "(71,)\n",
      "(72,)\n",
      "(73,)\n",
      "(74,)\n",
      "(75,)\n",
      "(76,)\n",
      "(77,)\n",
      "(78,)\n",
      "(79,)\n",
      "(80,)\n",
      "(81,)\n",
      "(82,)\n",
      "(83,)\n",
      "(84,)\n",
      "(85,)\n",
      "(86,)\n",
      "(87,)\n",
      "(88,)\n",
      "(89,)\n",
      "(90,)\n",
      "(91,)\n",
      "(92,)\n",
      "(93,)\n",
      "(94,)\n",
      "(95,)\n",
      "(96,)\n",
      "(97,)\n",
      "(98,)\n",
      "(99,)\n",
      "(100,)\n",
      "(101,)\n",
      "(102,)\n",
      "(103,)\n",
      "(104,)\n",
      "(105,)\n",
      "(106,)\n",
      "(107,)\n",
      "(108,)\n",
      "(109,)\n",
      "(110,)\n",
      "(111,)\n",
      "(112,)\n",
      "(113,)\n",
      "(114,)\n",
      "(115,)\n",
      "(116,)\n",
      "(117,)\n",
      "(118,)\n",
      "(119,)\n",
      "(120,)\n",
      "(121,)\n",
      "(122,)\n",
      "(123,)\n",
      "(124,)\n",
      "(125,)\n",
      "(126,)\n",
      "(127,)\n",
      "(128,)\n",
      "(129,)\n",
      "(130,)\n",
      "(131,)\n",
      "(132,)\n",
      "(133,)\n",
      "(134,)\n",
      "(135,)\n",
      "(136,)\n",
      "(137,)\n",
      "(138,)\n",
      "(139,)\n",
      "(140,)\n",
      "(141,)\n",
      "(142,)\n",
      "(143,)\n",
      "(144,)\n",
      "(145,)\n",
      "(146,)\n",
      "(147,)\n",
      "(148,)\n",
      "(149,)\n",
      "(150,)\n",
      "(151,)\n",
      "(152,)\n",
      "(153,)\n",
      "(154,)\n",
      "(155,)\n",
      "(156,)\n",
      "(157,)\n",
      "(158,)\n",
      "(159,)\n",
      "(160,)\n",
      "(161,)\n",
      "(162,)\n",
      "(163,)\n",
      "(164,)\n",
      "(165,)\n",
      "(166,)\n",
      "(167,)\n",
      "(168,)\n",
      "(169,)\n",
      "(170,)\n",
      "(171,)\n",
      "(172,)\n",
      "(173,)\n",
      "(174,)\n",
      "(175,)\n",
      "(176,)\n",
      "(177,)\n",
      "(178,)\n",
      "(179,)\n",
      "(180,)\n",
      "(181,)\n",
      "(182,)\n",
      "(183,)\n",
      "(184,)\n",
      "(185,)\n",
      "(186,)\n",
      "(187,)\n",
      "(188,)\n",
      "(189,)\n",
      "(190,)\n",
      "(191,)\n",
      "(192,)\n",
      "(193,)\n",
      "(194,)\n",
      "(195,)\n",
      "(196,)\n",
      "(197,)\n",
      "(198,)\n",
      "(199,)\n"
     ]
    }
   ],
   "source": [
    "for i in range(1,200):\n",
    "    addition(i)"
   ]
  },
  {
   "cell_type": "code",
   "execution_count": 84,
   "id": "c48abc87",
   "metadata": {},
   "outputs": [],
   "source": [
    "def proper(text):\n",
    "    some_text=[word[0].upper() +word[1:] for word in text.split()]\n",
    "    return some_text"
   ]
  },
  {
   "cell_type": "code",
   "execution_count": 85,
   "id": "424b628c",
   "metadata": {},
   "outputs": [
    {
     "data": {
      "text/plain": [
       "['My',\n",
       " 'Name',\n",
       " 'Is',\n",
       " 'Pawan',\n",
       " 'Kumar',\n",
       " 'Rai',\n",
       " 'And',\n",
       " 'I',\n",
       " 'Am',\n",
       " 'Aston',\n",
       " 'Student']"
      ]
     },
     "execution_count": 85,
     "metadata": {},
     "output_type": "execute_result"
    }
   ],
   "source": [
    "text=\"My name is Pawan Kumar Rai and i am Aston student\"\n",
    "proper(text)"
   ]
  },
  {
   "cell_type": "code",
   "execution_count": null,
   "id": "aecf1272",
   "metadata": {},
   "outputs": [],
   "source": []
  }
 ],
 "metadata": {
  "kernelspec": {
   "display_name": "Python 3 (ipykernel)",
   "language": "python",
   "name": "python3"
  },
  "language_info": {
   "codemirror_mode": {
    "name": "ipython",
    "version": 3
   },
   "file_extension": ".py",
   "mimetype": "text/x-python",
   "name": "python",
   "nbconvert_exporter": "python",
   "pygments_lexer": "ipython3",
   "version": "3.9.7"
  }
 },
 "nbformat": 4,
 "nbformat_minor": 5
}
