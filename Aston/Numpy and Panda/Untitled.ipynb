{
 "cells": [
  {
   "cell_type": "code",
   "execution_count": 1,
   "id": "c74eefb3",
   "metadata": {},
   "outputs": [],
   "source": [
    "import numpy as np"
   ]
  },
  {
   "cell_type": "code",
   "execution_count": 2,
   "id": "2418bfb3",
   "metadata": {},
   "outputs": [],
   "source": [
    "array_1 = np.array([1,2,3,4,5])"
   ]
  },
  {
   "cell_type": "code",
   "execution_count": 3,
   "id": "4f7f4746",
   "metadata": {},
   "outputs": [
    {
     "data": {
      "text/plain": [
       "array([1, 2, 3, 4, 5])"
      ]
     },
     "execution_count": 3,
     "metadata": {},
     "output_type": "execute_result"
    }
   ],
   "source": [
    "array_1"
   ]
  },
  {
   "cell_type": "code",
   "execution_count": 4,
   "id": "638d00ee",
   "metadata": {},
   "outputs": [],
   "source": [
    "#Two dimentional array\n",
    "array_2 = np.array([[1,2,3],[4,5,6],[7,8,9]])"
   ]
  },
  {
   "cell_type": "code",
   "execution_count": 5,
   "id": "f696df7e",
   "metadata": {},
   "outputs": [
    {
     "data": {
      "text/plain": [
       "array([[1, 2, 3],\n",
       "       [4, 5, 6],\n",
       "       [7, 8, 9]])"
      ]
     },
     "execution_count": 5,
     "metadata": {},
     "output_type": "execute_result"
    }
   ],
   "source": [
    "array_2"
   ]
  },
  {
   "cell_type": "code",
   "execution_count": 8,
   "id": "876135d7",
   "metadata": {},
   "outputs": [
    {
     "data": {
      "text/plain": [
       "array([[1., 1., 1.],\n",
       "       [1., 1., 1.]])"
      ]
     },
     "execution_count": 8,
     "metadata": {},
     "output_type": "execute_result"
    }
   ],
   "source": [
    "np.ones((2,3))"
   ]
  },
  {
   "cell_type": "code",
   "execution_count": 10,
   "id": "c88c0e1e",
   "metadata": {},
   "outputs": [],
   "source": [
    "array_from_tuple = np.array((1,2,3,4))"
   ]
  },
  {
   "cell_type": "code",
   "execution_count": 11,
   "id": "2fe88e0e",
   "metadata": {},
   "outputs": [
    {
     "data": {
      "text/plain": [
       "array([1, 2, 3, 4])"
      ]
     },
     "execution_count": 11,
     "metadata": {},
     "output_type": "execute_result"
    }
   ],
   "source": [
    "array_from_tuple"
   ]
  },
  {
   "cell_type": "code",
   "execution_count": 13,
   "id": "c2ef41c7",
   "metadata": {},
   "outputs": [
    {
     "name": "stdout",
     "output_type": "stream",
     "text": [
      "Help on function ones in module numpy:\n",
      "\n",
      "ones(shape, dtype=None, order='C', *, like=None)\n",
      "    Return a new array of given shape and type, filled with ones.\n",
      "    \n",
      "    Parameters\n",
      "    ----------\n",
      "    shape : int or sequence of ints\n",
      "        Shape of the new array, e.g., ``(2, 3)`` or ``2``.\n",
      "    dtype : data-type, optional\n",
      "        The desired data-type for the array, e.g., `numpy.int8`.  Default is\n",
      "        `numpy.float64`.\n",
      "    order : {'C', 'F'}, optional, default: C\n",
      "        Whether to store multi-dimensional data in row-major\n",
      "        (C-style) or column-major (Fortran-style) order in\n",
      "        memory.\n",
      "    like : array_like\n",
      "        Reference object to allow the creation of arrays which are not\n",
      "        NumPy arrays. If an array-like passed in as ``like`` supports\n",
      "        the ``__array_function__`` protocol, the result will be defined\n",
      "        by it. In this case, it ensures the creation of an array object\n",
      "        compatible with that passed in via this argument.\n",
      "    \n",
      "        .. note::\n",
      "            The ``like`` keyword is an experimental feature pending on\n",
      "            acceptance of :ref:`NEP 35 <NEP35>`.\n",
      "    \n",
      "        .. versionadded:: 1.20.0\n",
      "    \n",
      "    Returns\n",
      "    -------\n",
      "    out : ndarray\n",
      "        Array of ones with the given shape, dtype, and order.\n",
      "    \n",
      "    See Also\n",
      "    --------\n",
      "    ones_like : Return an array of ones with shape and type of input.\n",
      "    empty : Return a new uninitialized array.\n",
      "    zeros : Return a new array setting values to zero.\n",
      "    full : Return a new array of given shape filled with value.\n",
      "    \n",
      "    \n",
      "    Examples\n",
      "    --------\n",
      "    >>> np.ones(5)\n",
      "    array([1., 1., 1., 1., 1.])\n",
      "    \n",
      "    >>> np.ones((5,), dtype=int)\n",
      "    array([1, 1, 1, 1, 1])\n",
      "    \n",
      "    >>> np.ones((2, 1))\n",
      "    array([[1.],\n",
      "           [1.]])\n",
      "    \n",
      "    >>> s = (2,2)\n",
      "    >>> np.ones(s)\n",
      "    array([[1.,  1.],\n",
      "           [1.,  1.]])\n",
      "\n"
     ]
    }
   ],
   "source": [
    "help(np.ones)"
   ]
  },
  {
   "cell_type": "code",
   "execution_count": 17,
   "id": "f43b21c2",
   "metadata": {},
   "outputs": [
    {
     "data": {
      "text/plain": [
       "array([[0.61942964, 0.47819291, 0.4348412 ],\n",
       "       [0.88026792, 0.20522232, 0.72972241],\n",
       "       [0.77783504, 0.76627608, 0.35694761],\n",
       "       [0.01492974, 0.86986332, 0.03012873],\n",
       "       [0.1135113 , 0.66471243, 0.84912147]])"
      ]
     },
     "execution_count": 17,
     "metadata": {},
     "output_type": "execute_result"
    }
   ],
   "source": [
    "np.random.random([5,3])"
   ]
  },
  {
   "cell_type": "code",
   "execution_count": 19,
   "id": "d587a3d3",
   "metadata": {},
   "outputs": [
    {
     "data": {
      "text/plain": [
       "array([10, 15, 20, 25, 30, 35, 40, 45, 50, 55, 60, 65, 70, 75, 80, 85, 90,\n",
       "       95])"
      ]
     },
     "execution_count": 19,
     "metadata": {},
     "output_type": "execute_result"
    }
   ],
   "source": [
    "np.arange(10,100,5)"
   ]
  },
  {
   "cell_type": "code",
   "execution_count": 23,
   "id": "8047cd3c",
   "metadata": {},
   "outputs": [
    {
     "data": {
      "text/plain": [
       "array([15.        , 15.20833333, 15.41666667, 15.625     , 15.83333333,\n",
       "       16.04166667, 16.25      , 16.45833333, 16.66666667, 16.875     ,\n",
       "       17.08333333, 17.29166667, 17.5       , 17.70833333, 17.91666667,\n",
       "       18.125     , 18.33333333, 18.54166667, 18.75      , 18.95833333,\n",
       "       19.16666667, 19.375     , 19.58333333, 19.79166667, 20.        ])"
      ]
     },
     "execution_count": 23,
     "metadata": {},
     "output_type": "execute_result"
    }
   ],
   "source": [
    "np.linspace(15,20,25)"
   ]
  },
  {
   "cell_type": "code",
   "execution_count": 24,
   "id": "d4f71e0a",
   "metadata": {},
   "outputs": [
    {
     "name": "stdout",
     "output_type": "stream",
     "text": [
      "Help on function full in module numpy:\n",
      "\n",
      "full(shape, fill_value, dtype=None, order='C', *, like=None)\n",
      "    Return a new array of given shape and type, filled with `fill_value`.\n",
      "    \n",
      "    Parameters\n",
      "    ----------\n",
      "    shape : int or sequence of ints\n",
      "        Shape of the new array, e.g., ``(2, 3)`` or ``2``.\n",
      "    fill_value : scalar or array_like\n",
      "        Fill value.\n",
      "    dtype : data-type, optional\n",
      "        The desired data-type for the array  The default, None, means\n",
      "         `np.array(fill_value).dtype`.\n",
      "    order : {'C', 'F'}, optional\n",
      "        Whether to store multidimensional data in C- or Fortran-contiguous\n",
      "        (row- or column-wise) order in memory.\n",
      "    like : array_like\n",
      "        Reference object to allow the creation of arrays which are not\n",
      "        NumPy arrays. If an array-like passed in as ``like`` supports\n",
      "        the ``__array_function__`` protocol, the result will be defined\n",
      "        by it. In this case, it ensures the creation of an array object\n",
      "        compatible with that passed in via this argument.\n",
      "    \n",
      "        .. note::\n",
      "            The ``like`` keyword is an experimental feature pending on\n",
      "            acceptance of :ref:`NEP 35 <NEP35>`.\n",
      "    \n",
      "        .. versionadded:: 1.20.0\n",
      "    \n",
      "    Returns\n",
      "    -------\n",
      "    out : ndarray\n",
      "        Array of `fill_value` with the given shape, dtype, and order.\n",
      "    \n",
      "    See Also\n",
      "    --------\n",
      "    full_like : Return a new array with shape of input filled with value.\n",
      "    empty : Return a new uninitialized array.\n",
      "    ones : Return a new array setting values to one.\n",
      "    zeros : Return a new array setting values to zero.\n",
      "    \n",
      "    Examples\n",
      "    --------\n",
      "    >>> np.full((2, 2), np.inf)\n",
      "    array([[inf, inf],\n",
      "           [inf, inf]])\n",
      "    >>> np.full((2, 2), 10)\n",
      "    array([[10, 10],\n",
      "           [10, 10]])\n",
      "    \n",
      "    >>> np.full((2, 2), [1, 2])\n",
      "    array([[1, 2],\n",
      "           [1, 2]])\n",
      "\n"
     ]
    }
   ],
   "source": [
    "help(np.full)"
   ]
  },
  {
   "cell_type": "code",
   "execution_count": 27,
   "id": "2e6740aa",
   "metadata": {},
   "outputs": [
    {
     "data": {
      "text/plain": [
       "array([[10, 10],\n",
       "       [10, 10]])"
      ]
     },
     "execution_count": 27,
     "metadata": {},
     "output_type": "execute_result"
    }
   ],
   "source": [
    "np.full((2,2),10)"
   ]
  },
  {
   "cell_type": "code",
   "execution_count": 28,
   "id": "b5936392",
   "metadata": {},
   "outputs": [],
   "source": [
    "random_array = np.random.random([1000,300])"
   ]
  },
  {
   "cell_type": "code",
   "execution_count": 37,
   "id": "a3f000f7",
   "metadata": {},
   "outputs": [
    {
     "data": {
      "text/plain": [
       "array([0.29041857, 0.51326876, 0.89946699, 0.762703  , 0.72909533,\n",
       "       0.55665998, 0.47039061, 0.81806212, 0.89821945, 0.39336291,\n",
       "       0.34327049, 0.19540129, 0.80139213, 0.08325844, 0.59637385,\n",
       "       0.12053965, 0.19564477, 0.05561025, 0.00102676, 0.25986411,\n",
       "       0.13638448, 0.42841562, 0.41404562, 0.17790419, 0.33488232,\n",
       "       0.96251183, 0.78635917, 0.08940326, 0.35093054, 0.04735554,\n",
       "       0.28873319, 0.18469176, 0.15991529, 0.25882962, 0.01081521,\n",
       "       0.68605736, 0.51862472, 0.93585578, 0.96519172, 0.98400604,\n",
       "       0.6932909 , 0.7951891 , 0.77951654, 0.80464157, 0.60647517,\n",
       "       0.73091869, 0.11386372, 0.63797268, 0.37215406, 0.77150939,\n",
       "       0.69381728, 0.60581786, 0.03288083, 0.86351264, 0.66351811,\n",
       "       0.85873983, 0.20707549, 0.42729001, 0.12971911, 0.89359398,\n",
       "       0.45403483, 0.49619592, 0.69810529, 0.86393967, 0.52135995,\n",
       "       0.25510077, 0.45417541, 0.6617016 , 0.28610694, 0.04542319,\n",
       "       0.59404104, 0.70798889, 0.83125795, 0.67771476, 0.90812571,\n",
       "       0.01071401, 0.08399882, 0.1206999 , 0.99933518, 0.70064412,\n",
       "       0.83161273, 0.81755485, 0.20988859, 0.68407133, 0.22493164,\n",
       "       0.57166715, 0.82736907, 0.4844346 , 0.05592661, 0.06642551,\n",
       "       0.01611384, 0.37896505, 0.22591497, 0.4623486 , 0.49778848,\n",
       "       0.36061089, 0.90431436, 0.37208206, 0.22941147, 0.3965135 ,\n",
       "       0.48843838, 0.31241608, 0.7549454 , 0.36825236, 0.16418485,\n",
       "       0.13040932, 0.40511637, 0.16961683, 0.66916999, 0.03573238,\n",
       "       0.01092529, 0.79316238, 0.37912004, 0.18801914, 0.12794053,\n",
       "       0.80060143, 0.72963139, 0.79416176, 0.80093939, 0.40738052,\n",
       "       0.80309299, 0.38442169, 0.48917789, 0.91319481, 0.2943166 ,\n",
       "       0.76983884, 0.85553292, 0.80865782, 0.68743111, 0.4575531 ,\n",
       "       0.55459876, 0.41785664, 0.98019219, 0.9177273 , 0.07124102,\n",
       "       0.27647533, 0.49145436, 0.5061597 , 0.90649391, 0.19111218,\n",
       "       0.35417013, 0.79695961, 0.48799385, 0.87876422, 0.32952541,\n",
       "       0.43847946, 0.45506017, 0.35161698, 0.05606027, 0.26012613,\n",
       "       0.991503  , 0.71275929, 0.07910999, 0.69346666, 0.01573707,\n",
       "       0.89699914, 0.93883139, 0.11637027, 0.55081629, 0.0169519 ,\n",
       "       0.78790859, 0.41689098, 0.79382094, 0.75366947, 0.17106723,\n",
       "       0.10314323, 0.45107299, 0.12650663, 0.024993  , 0.16378458,\n",
       "       0.18556687, 0.81169049, 0.1817472 , 0.4343838 , 0.92678711,\n",
       "       0.57890744, 0.2302312 , 0.85940602, 0.97755018, 0.2415261 ,\n",
       "       0.87564724, 0.68515681, 0.01889776, 0.12233076, 0.05789417,\n",
       "       0.33811175, 0.37304844, 0.21345375, 0.51139971, 0.99181504,\n",
       "       0.35296251, 0.37199303, 0.72349973, 0.85153256, 0.55296434,\n",
       "       0.37864039, 0.6712859 , 0.55027099, 0.56765117, 0.2511735 ,\n",
       "       0.17015264, 0.35055225, 0.98324822, 0.79611775, 0.67085331,\n",
       "       0.72142242, 0.81492755, 0.59276076, 0.78741844, 0.08828473,\n",
       "       0.08554586, 0.99320052, 0.46830153, 0.0325434 , 0.61540706,\n",
       "       0.27190696, 0.28713536, 0.68490889, 0.57063566, 0.93801829,\n",
       "       0.98104941, 0.5834675 , 0.59976012, 0.09777354, 0.97785441,\n",
       "       0.79019506, 0.56910062, 0.4908638 , 0.27292661, 0.37809949,\n",
       "       0.17109294, 0.4181802 , 0.09689511, 0.12339825, 0.6991355 ,\n",
       "       0.53489623, 0.95833319, 0.15051727, 0.59485378, 0.97029939,\n",
       "       0.24063896, 0.39229009, 0.83282688, 0.09656369, 0.85769481,\n",
       "       0.12005324, 0.23737377, 0.55052625, 0.10615347, 0.01490214,\n",
       "       0.65246707, 0.7215823 , 0.74706868, 0.63718942, 0.29429208,\n",
       "       0.14764663, 0.34148761, 0.18757362, 0.73188187, 0.33797329,\n",
       "       0.33201644, 0.24488134, 0.37661865, 0.19461046, 0.5249742 ,\n",
       "       0.79515105, 0.02902612, 0.97396591, 0.44201377, 0.5961486 ,\n",
       "       0.48513769, 0.43194894, 0.42846314, 0.66120652, 0.14714682,\n",
       "       0.12522843, 0.54226357, 0.79282843, 0.47259758, 0.21078091,\n",
       "       0.7699246 , 0.92352398, 0.24872819, 0.12560179, 0.65075273,\n",
       "       0.24683736, 0.99062364, 0.66278745, 0.82158854, 0.30434142,\n",
       "       0.89894672, 0.46756687, 0.86242512, 0.75580814, 0.55033087,\n",
       "       0.86470553, 0.10237017, 0.77005982, 0.84705624, 0.41893278])"
      ]
     },
     "execution_count": 37,
     "metadata": {},
     "output_type": "execute_result"
    }
   ],
   "source": [
    "random_array[1,]"
   ]
  },
  {
   "cell_type": "code",
   "execution_count": 43,
   "id": "269c659f",
   "metadata": {},
   "outputs": [
    {
     "data": {
      "text/plain": [
       "array([[ 0,  1,  2,  3,  4,  5,  6],\n",
       "       [ 7,  8,  9, 10, 11, 12, 13],\n",
       "       [14, 15, 16, 17, 18, 19, 20]])"
      ]
     },
     "execution_count": 43,
     "metadata": {},
     "output_type": "execute_result"
    }
   ],
   "source": [
    "np.arange(21).reshape(3,7)"
   ]
  },
  {
   "cell_type": "code",
   "execution_count": null,
   "id": "251d1ac0",
   "metadata": {},
   "outputs": [],
   "source": []
  }
 ],
 "metadata": {
  "kernelspec": {
   "display_name": "Python 3 (ipykernel)",
   "language": "python",
   "name": "python3"
  },
  "language_info": {
   "codemirror_mode": {
    "name": "ipython",
    "version": 3
   },
   "file_extension": ".py",
   "mimetype": "text/x-python",
   "name": "python",
   "nbconvert_exporter": "python",
   "pygments_lexer": "ipython3",
   "version": "3.9.7"
  }
 },
 "nbformat": 4,
 "nbformat_minor": 5
}
