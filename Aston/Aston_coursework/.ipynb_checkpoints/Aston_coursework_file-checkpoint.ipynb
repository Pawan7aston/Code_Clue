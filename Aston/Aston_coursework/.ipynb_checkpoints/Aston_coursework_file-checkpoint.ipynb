{
 "cells": [
  {
   "cell_type": "code",
   "execution_count": 1,
   "id": "5d29c06b",
   "metadata": {},
   "outputs": [],
   "source": [
    "import numpy as np\n",
    "import pandas as pd\n",
    "import matplotlib.pyplot as plt\n",
    "import seaborn as sns"
   ]
  },
  {
   "cell_type": "code",
   "execution_count": 2,
   "id": "9ff9fe45",
   "metadata": {},
   "outputs": [
    {
     "name": "stdout",
     "output_type": "stream",
     "text": [
      "Assignment Brief AM41DP(1).pdf  Sp_epitopes.csv\r\n",
      "Aston_coursework_file.ipynb     proteins.csv\r\n",
      "Information.pptx                ~$Information.pptx\r\n"
     ]
    }
   ],
   "source": [
    "ls"
   ]
  },
  {
   "cell_type": "code",
   "execution_count": 3,
   "id": "ef8e1a28",
   "metadata": {},
   "outputs": [
    {
     "name": "stdout",
     "output_type": "stream",
     "text": [
      "Assignment Brief AM41DP(1).pdf  Sp_epitopes.csv\r\n",
      "Aston_coursework_file.ipynb     proteins.csv\r\n",
      "Information.pptx                ~$Information.pptx\r\n"
     ]
    }
   ],
   "source": [
    "ls"
   ]
  },
  {
   "cell_type": "code",
   "execution_count": 4,
   "id": "5a56e42f",
   "metadata": {},
   "outputs": [],
   "source": [
    "prot_file = pd.read_csv(\"proteins.csv\")\n",
    "sp_file = pd.read_csv(\"Sp_epitopes.csv\")"
   ]
  },
  {
   "cell_type": "markdown",
   "id": "8ca1c973",
   "metadata": {},
   "source": [
    "# A short summary of the dataset\n",
    "## M1\n",
    "    - Data cleaning and data insights from given two dataset"
   ]
  },
  {
   "cell_type": "code",
   "execution_count": 5,
   "id": "295627ae",
   "metadata": {},
   "outputs": [],
   "source": [
    "# Shape of the file for each file"
   ]
  },
  {
   "cell_type": "code",
   "execution_count": 6,
   "id": "6cf83e2b",
   "metadata": {},
   "outputs": [
    {
     "data": {
      "text/plain": [
       "(14194, 10)"
      ]
     },
     "execution_count": 6,
     "metadata": {},
     "output_type": "execute_result"
    }
   ],
   "source": [
    "prot_file.shape"
   ]
  },
  {
   "cell_type": "code",
   "execution_count": 7,
   "id": "105b660d",
   "metadata": {},
   "outputs": [
    {
     "data": {
      "text/plain": [
       "(7105, 18)"
      ]
     },
     "execution_count": 7,
     "metadata": {},
     "output_type": "execute_result"
    }
   ],
   "source": [
    "sp_file.shape"
   ]
  },
  {
   "cell_type": "code",
   "execution_count": 8,
   "id": "41b0df1c",
   "metadata": {},
   "outputs": [],
   "source": [
    "# Check for any null value in the file"
   ]
  },
  {
   "cell_type": "code",
   "execution_count": 9,
   "id": "a839db57",
   "metadata": {},
   "outputs": [
    {
     "data": {
      "text/plain": [
       "TSeq_seqtype         0\n",
       "TSeq_accver        209\n",
       "TSeq_taxid           0\n",
       "TSeq_orgname         0\n",
       "TSeq_defline         0\n",
       "TSeq_length          0\n",
       "TSeq_sequence        0\n",
       "UID                  0\n",
       "DB                   0\n",
       "TSeq_sid         12958\n",
       "dtype: int64"
      ]
     },
     "execution_count": 9,
     "metadata": {},
     "output_type": "execute_result"
    }
   ],
   "source": [
    "prot_file.isnull().sum()"
   ]
  },
  {
   "cell_type": "markdown",
   "id": "f7585b43",
   "metadata": {},
   "source": [
    "- From above description it mentioned  **TSeq_accver**  and  **TSeq_sid**  have null values in it."
   ]
  },
  {
   "cell_type": "code",
   "execution_count": 10,
   "id": "b757df0b",
   "metadata": {},
   "outputs": [
    {
     "data": {
      "text/plain": [
       "pubmed_id         0\n",
       "year              0\n",
       "epit_name         0\n",
       "epitope_id        0\n",
       "evid_code         1\n",
       "epit_struc_def    0\n",
       "sourceOrg_id      0\n",
       "protein_id        0\n",
       "epit_seq          0\n",
       "start_pos         0\n",
       "end_pos           0\n",
       "n_assays          0\n",
       "host_id           0\n",
       "bcell_id          0\n",
       "assay_type        0\n",
       "n_Positive        0\n",
       "n_Negative        0\n",
       "assay_class       0\n",
       "dtype: int64"
      ]
     },
     "execution_count": 10,
     "metadata": {},
     "output_type": "execute_result"
    }
   ],
   "source": [
    "sp_file.isnull().sum()"
   ]
  },
  {
   "cell_type": "code",
   "execution_count": 11,
   "id": "81a7cefa",
   "metadata": {},
   "outputs": [],
   "source": [
    "# Info for each dataset"
   ]
  },
  {
   "cell_type": "code",
   "execution_count": 12,
   "id": "21b48a20",
   "metadata": {},
   "outputs": [
    {
     "name": "stdout",
     "output_type": "stream",
     "text": [
      "<class 'pandas.core.frame.DataFrame'>\n",
      "RangeIndex: 14194 entries, 0 to 14193\n",
      "Data columns (total 10 columns):\n",
      " #   Column         Non-Null Count  Dtype \n",
      "---  ------         --------------  ----- \n",
      " 0   TSeq_seqtype   14194 non-null  object\n",
      " 1   TSeq_accver    13985 non-null  object\n",
      " 2   TSeq_taxid     14194 non-null  int64 \n",
      " 3   TSeq_orgname   14194 non-null  object\n",
      " 4   TSeq_defline   14194 non-null  object\n",
      " 5   TSeq_length    14194 non-null  int64 \n",
      " 6   TSeq_sequence  14194 non-null  object\n",
      " 7   UID            14194 non-null  object\n",
      " 8   DB             14194 non-null  object\n",
      " 9   TSeq_sid       1236 non-null   object\n",
      "dtypes: int64(2), object(8)\n",
      "memory usage: 1.1+ MB\n"
     ]
    }
   ],
   "source": [
    "prot_file.info()"
   ]
  },
  {
   "cell_type": "code",
   "execution_count": 13,
   "id": "fd311cc1",
   "metadata": {},
   "outputs": [
    {
     "name": "stdout",
     "output_type": "stream",
     "text": [
      "<class 'pandas.core.frame.DataFrame'>\n",
      "RangeIndex: 7105 entries, 0 to 7104\n",
      "Data columns (total 18 columns):\n",
      " #   Column          Non-Null Count  Dtype \n",
      "---  ------          --------------  ----- \n",
      " 0   pubmed_id       7105 non-null   int64 \n",
      " 1   year            7105 non-null   int64 \n",
      " 2   epit_name       7105 non-null   object\n",
      " 3   epitope_id      7105 non-null   int64 \n",
      " 4   evid_code       7104 non-null   object\n",
      " 5   epit_struc_def  7105 non-null   object\n",
      " 6   sourceOrg_id    7105 non-null   int64 \n",
      " 7   protein_id      7105 non-null   object\n",
      " 8   epit_seq        7105 non-null   object\n",
      " 9   start_pos       7105 non-null   int64 \n",
      " 10  end_pos         7105 non-null   int64 \n",
      " 11  n_assays        7105 non-null   int64 \n",
      " 12  host_id         7105 non-null   object\n",
      " 13  bcell_id        7105 non-null   object\n",
      " 14  assay_type      7105 non-null   object\n",
      " 15  n_Positive      7105 non-null   int64 \n",
      " 16  n_Negative      7105 non-null   int64 \n",
      " 17  assay_class     7105 non-null   object\n",
      "dtypes: int64(9), object(9)\n",
      "memory usage: 999.3+ KB\n"
     ]
    }
   ],
   "source": [
    "sp_file.info()"
   ]
  },
  {
   "cell_type": "markdown",
   "id": "a07984df",
   "metadata": {},
   "source": [
    "- From above two dataset it is clear that data set have missing values in it ."
   ]
  },
  {
   "cell_type": "code",
   "execution_count": 14,
   "id": "3d8f03fc",
   "metadata": {},
   "outputs": [],
   "source": [
    "# Describe the two dataset for all numerical attributes"
   ]
  },
  {
   "cell_type": "code",
   "execution_count": 15,
   "id": "eeff43b3",
   "metadata": {},
   "outputs": [
    {
     "data": {
      "text/html": [
       "<div>\n",
       "<style scoped>\n",
       "    .dataframe tbody tr th:only-of-type {\n",
       "        vertical-align: middle;\n",
       "    }\n",
       "\n",
       "    .dataframe tbody tr th {\n",
       "        vertical-align: top;\n",
       "    }\n",
       "\n",
       "    .dataframe thead th {\n",
       "        text-align: right;\n",
       "    }\n",
       "</style>\n",
       "<table border=\"1\" class=\"dataframe\">\n",
       "  <thead>\n",
       "    <tr style=\"text-align: right;\">\n",
       "      <th></th>\n",
       "      <th>TSeq_taxid</th>\n",
       "      <th>TSeq_length</th>\n",
       "    </tr>\n",
       "  </thead>\n",
       "  <tbody>\n",
       "    <tr>\n",
       "      <th>count</th>\n",
       "      <td>1.419400e+04</td>\n",
       "      <td>14194.000000</td>\n",
       "    </tr>\n",
       "    <tr>\n",
       "      <th>mean</th>\n",
       "      <td>7.125339e+04</td>\n",
       "      <td>731.372974</td>\n",
       "    </tr>\n",
       "    <tr>\n",
       "      <th>std</th>\n",
       "      <td>2.240602e+05</td>\n",
       "      <td>984.979330</td>\n",
       "    </tr>\n",
       "    <tr>\n",
       "      <th>min</th>\n",
       "      <td>0.000000e+00</td>\n",
       "      <td>9.000000</td>\n",
       "    </tr>\n",
       "    <tr>\n",
       "      <th>25%</th>\n",
       "      <td>9.606000e+03</td>\n",
       "      <td>266.000000</td>\n",
       "    </tr>\n",
       "    <tr>\n",
       "      <th>50%</th>\n",
       "      <td>9.606000e+03</td>\n",
       "      <td>468.000000</td>\n",
       "    </tr>\n",
       "    <tr>\n",
       "      <th>75%</th>\n",
       "      <td>1.114900e+04</td>\n",
       "      <td>833.000000</td>\n",
       "    </tr>\n",
       "    <tr>\n",
       "      <th>max</th>\n",
       "      <td>2.768764e+06</td>\n",
       "      <td>35991.000000</td>\n",
       "    </tr>\n",
       "  </tbody>\n",
       "</table>\n",
       "</div>"
      ],
      "text/plain": [
       "         TSeq_taxid   TSeq_length\n",
       "count  1.419400e+04  14194.000000\n",
       "mean   7.125339e+04    731.372974\n",
       "std    2.240602e+05    984.979330\n",
       "min    0.000000e+00      9.000000\n",
       "25%    9.606000e+03    266.000000\n",
       "50%    9.606000e+03    468.000000\n",
       "75%    1.114900e+04    833.000000\n",
       "max    2.768764e+06  35991.000000"
      ]
     },
     "execution_count": 15,
     "metadata": {},
     "output_type": "execute_result"
    }
   ],
   "source": [
    "prot_file.describe()"
   ]
  },
  {
   "cell_type": "code",
   "execution_count": 16,
   "id": "63218f6c",
   "metadata": {},
   "outputs": [
    {
     "data": {
      "text/plain": [
       "Index(['TSeq_seqtype', 'TSeq_accver', 'TSeq_taxid', 'TSeq_orgname',\n",
       "       'TSeq_defline', 'TSeq_length', 'TSeq_sequence', 'UID', 'DB',\n",
       "       'TSeq_sid'],\n",
       "      dtype='object')"
      ]
     },
     "execution_count": 16,
     "metadata": {},
     "output_type": "execute_result"
    }
   ],
   "source": [
    "prot_file.columns"
   ]
  },
  {
   "cell_type": "code",
   "execution_count": 17,
   "id": "4b87882a",
   "metadata": {},
   "outputs": [
    {
     "data": {
      "text/plain": [
       "Index(['pubmed_id', 'year', 'epit_name', 'epitope_id', 'evid_code',\n",
       "       'epit_struc_def', 'sourceOrg_id', 'protein_id', 'epit_seq', 'start_pos',\n",
       "       'end_pos', 'n_assays', 'host_id', 'bcell_id', 'assay_type',\n",
       "       'n_Positive', 'n_Negative', 'assay_class'],\n",
       "      dtype='object')"
      ]
     },
     "execution_count": 17,
     "metadata": {},
     "output_type": "execute_result"
    }
   ],
   "source": [
    "sp_file.columns"
   ]
  },
  {
   "cell_type": "code",
   "execution_count": 18,
   "id": "e54e7f2f",
   "metadata": {},
   "outputs": [
    {
     "data": {
      "text/html": [
       "<div>\n",
       "<style scoped>\n",
       "    .dataframe tbody tr th:only-of-type {\n",
       "        vertical-align: middle;\n",
       "    }\n",
       "\n",
       "    .dataframe tbody tr th {\n",
       "        vertical-align: top;\n",
       "    }\n",
       "\n",
       "    .dataframe thead th {\n",
       "        text-align: right;\n",
       "    }\n",
       "</style>\n",
       "<table border=\"1\" class=\"dataframe\">\n",
       "  <thead>\n",
       "    <tr style=\"text-align: right;\">\n",
       "      <th></th>\n",
       "      <th>pubmed_id</th>\n",
       "      <th>year</th>\n",
       "      <th>epit_name</th>\n",
       "      <th>epitope_id</th>\n",
       "      <th>evid_code</th>\n",
       "      <th>epit_struc_def</th>\n",
       "      <th>sourceOrg_id</th>\n",
       "      <th>protein_id</th>\n",
       "      <th>epit_seq</th>\n",
       "      <th>start_pos</th>\n",
       "      <th>end_pos</th>\n",
       "      <th>n_assays</th>\n",
       "      <th>host_id</th>\n",
       "      <th>bcell_id</th>\n",
       "      <th>assay_type</th>\n",
       "      <th>n_Positive</th>\n",
       "      <th>n_Negative</th>\n",
       "      <th>assay_class</th>\n",
       "    </tr>\n",
       "  </thead>\n",
       "  <tbody>\n",
       "    <tr>\n",
       "      <th>0</th>\n",
       "      <td>7678505</td>\n",
       "      <td>1993</td>\n",
       "      <td>SK (42-49)</td>\n",
       "      <td>114463</td>\n",
       "      <td>Representative selection</td>\n",
       "      <td>Exact Epitope</td>\n",
       "      <td>1314</td>\n",
       "      <td>AAB20743.1</td>\n",
       "      <td>LTSRPAHG</td>\n",
       "      <td>42</td>\n",
       "      <td>49</td>\n",
       "      <td>2</td>\n",
       "      <td>96,069,606</td>\n",
       "      <td>16,746,431,674,584</td>\n",
       "      <td>34,34</td>\n",
       "      <td>2</td>\n",
       "      <td>0</td>\n",
       "      <td>1,1</td>\n",
       "    </tr>\n",
       "    <tr>\n",
       "      <th>1</th>\n",
       "      <td>26911649</td>\n",
       "      <td>2016</td>\n",
       "      <td>spy0469 P197</td>\n",
       "      <td>510898</td>\n",
       "      <td>Representative selection</td>\n",
       "      <td>Epitope containing region/antigenic site</td>\n",
       "      <td>1314</td>\n",
       "      <td>AAfK33481.1</td>\n",
       "      <td>AETTEVEPKTDISEA</td>\n",
       "      <td>197</td>\n",
       "      <td>211</td>\n",
       "      <td>1</td>\n",
       "      <td>9606</td>\n",
       "      <td>2728090</td>\n",
       "      <td>550</td>\n",
       "      <td>0</td>\n",
       "      <td>1</td>\n",
       "      <td>-1</td>\n",
       "    </tr>\n",
       "    <tr>\n",
       "      <th>2</th>\n",
       "      <td>26911649</td>\n",
       "      <td>2016</td>\n",
       "      <td>spy0469 P14</td>\n",
       "      <td>511327</td>\n",
       "      <td>Representative selection</td>\n",
       "      <td>Epitope containing region/antigenic site</td>\n",
       "      <td>1314</td>\n",
       "      <td>AAK33481.1</td>\n",
       "      <td>ALSLVPLATAQAQEW</td>\n",
       "      <td>14</td>\n",
       "      <td>28</td>\n",
       "      <td>1</td>\n",
       "      <td>9606</td>\n",
       "      <td>2727907</td>\n",
       "      <td>550</td>\n",
       "      <td>0</td>\n",
       "      <td>1</td>\n",
       "      <td>-1</td>\n",
       "    </tr>\n",
       "  </tbody>\n",
       "</table>\n",
       "</div>"
      ],
      "text/plain": [
       "   pubmed_id  year     epit_name  epitope_id                 evid_code  \\\n",
       "0    7678505  1993    SK (42-49)      114463  Representative selection   \n",
       "1   26911649  2016  spy0469 P197      510898  Representative selection   \n",
       "2   26911649  2016   spy0469 P14      511327  Representative selection   \n",
       "\n",
       "                             epit_struc_def  sourceOrg_id   protein_id  \\\n",
       "0                             Exact Epitope          1314   AAB20743.1   \n",
       "1  Epitope containing region/antigenic site          1314  AAfK33481.1   \n",
       "2  Epitope containing region/antigenic site          1314   AAK33481.1   \n",
       "\n",
       "          epit_seq  start_pos  end_pos  n_assays     host_id  \\\n",
       "0         LTSRPAHG         42       49         2  96,069,606   \n",
       "1  AETTEVEPKTDISEA        197      211         1        9606   \n",
       "2  ALSLVPLATAQAQEW         14       28         1        9606   \n",
       "\n",
       "             bcell_id assay_type  n_Positive  n_Negative assay_class  \n",
       "0  16,746,431,674,584      34,34           2           0         1,1  \n",
       "1             2728090        550           0           1          -1  \n",
       "2             2727907        550           0           1          -1  "
      ]
     },
     "execution_count": 18,
     "metadata": {},
     "output_type": "execute_result"
    }
   ],
   "source": [
    "sp_file.head(3)"
   ]
  },
  {
   "cell_type": "code",
   "execution_count": 19,
   "id": "377c2026",
   "metadata": {},
   "outputs": [
    {
     "data": {
      "text/html": [
       "<div>\n",
       "<style scoped>\n",
       "    .dataframe tbody tr th:only-of-type {\n",
       "        vertical-align: middle;\n",
       "    }\n",
       "\n",
       "    .dataframe tbody tr th {\n",
       "        vertical-align: top;\n",
       "    }\n",
       "\n",
       "    .dataframe thead th {\n",
       "        text-align: right;\n",
       "    }\n",
       "</style>\n",
       "<table border=\"1\" class=\"dataframe\">\n",
       "  <thead>\n",
       "    <tr style=\"text-align: right;\">\n",
       "      <th></th>\n",
       "      <th>TSeq_seqtype</th>\n",
       "      <th>TSeq_accver</th>\n",
       "      <th>TSeq_taxid</th>\n",
       "      <th>TSeq_orgname</th>\n",
       "      <th>TSeq_defline</th>\n",
       "      <th>TSeq_length</th>\n",
       "      <th>TSeq_sequence</th>\n",
       "      <th>UID</th>\n",
       "      <th>DB</th>\n",
       "      <th>TSeq_sid</th>\n",
       "    </tr>\n",
       "  </thead>\n",
       "  <tbody>\n",
       "    <tr>\n",
       "      <th>0</th>\n",
       "      <td>protein</td>\n",
       "      <td>0704243A</td>\n",
       "      <td>11320</td>\n",
       "      <td>Influenza A virus</td>\n",
       "      <td>hemagglutinin HA1</td>\n",
       "      <td>328</td>\n",
       "      <td>EYLPGNDNSTATLCLGHHAVPNGTLVKTITNDQIEVTNATELVQSS...</td>\n",
       "      <td>0704243A</td>\n",
       "      <td>NCBI protein</td>\n",
       "      <td>NaN</td>\n",
       "    </tr>\n",
       "    <tr>\n",
       "      <th>1</th>\n",
       "      <td>protein</td>\n",
       "      <td>P06914.1</td>\n",
       "      <td>73239</td>\n",
       "      <td>Plasmodium yoelii yoelii</td>\n",
       "      <td>RecName: Full=Circumsporozoite protein; Short=...</td>\n",
       "      <td>367</td>\n",
       "      <td>MKKCTILVVASLLLVDSLLPGYGQNKSVQAQRNLNELCYNEENDNK...</td>\n",
       "      <td>P06914.1</td>\n",
       "      <td>NCBI protein</td>\n",
       "      <td>NaN</td>\n",
       "    </tr>\n",
       "    <tr>\n",
       "      <th>2</th>\n",
       "      <td>protein</td>\n",
       "      <td>P03449.2</td>\n",
       "      <td>383586</td>\n",
       "      <td>Influenza A virus (A/Memphis/1/1971(H3N2))</td>\n",
       "      <td>RecName: Full=Hemagglutinin; Contains: RecName...</td>\n",
       "      <td>566</td>\n",
       "      <td>MKTIIALSHIFCLVLGQYLPGNDNSTATLCLGHHAVPNGTLVKTIT...</td>\n",
       "      <td>P03449.2</td>\n",
       "      <td>NCBI protein</td>\n",
       "      <td>NaN</td>\n",
       "    </tr>\n",
       "  </tbody>\n",
       "</table>\n",
       "</div>"
      ],
      "text/plain": [
       "  TSeq_seqtype TSeq_accver  TSeq_taxid  \\\n",
       "0      protein    0704243A       11320   \n",
       "1      protein    P06914.1       73239   \n",
       "2      protein    P03449.2      383586   \n",
       "\n",
       "                                 TSeq_orgname  \\\n",
       "0                           Influenza A virus   \n",
       "1                    Plasmodium yoelii yoelii   \n",
       "2  Influenza A virus (A/Memphis/1/1971(H3N2))   \n",
       "\n",
       "                                        TSeq_defline  TSeq_length  \\\n",
       "0                                  hemagglutinin HA1          328   \n",
       "1  RecName: Full=Circumsporozoite protein; Short=...          367   \n",
       "2  RecName: Full=Hemagglutinin; Contains: RecName...          566   \n",
       "\n",
       "                                       TSeq_sequence       UID            DB  \\\n",
       "0  EYLPGNDNSTATLCLGHHAVPNGTLVKTITNDQIEVTNATELVQSS...  0704243A  NCBI protein   \n",
       "1  MKKCTILVVASLLLVDSLLPGYGQNKSVQAQRNLNELCYNEENDNK...  P06914.1  NCBI protein   \n",
       "2  MKTIIALSHIFCLVLGQYLPGNDNSTATLCLGHHAVPNGTLVKTIT...  P03449.2  NCBI protein   \n",
       "\n",
       "  TSeq_sid  \n",
       "0      NaN  \n",
       "1      NaN  \n",
       "2      NaN  "
      ]
     },
     "execution_count": 19,
     "metadata": {},
     "output_type": "execute_result"
    }
   ],
   "source": [
    "prot_file.head(3)"
   ]
  },
  {
   "cell_type": "code",
   "execution_count": 20,
   "id": "f576a441",
   "metadata": {},
   "outputs": [
    {
     "data": {
      "text/html": [
       "<div>\n",
       "<style scoped>\n",
       "    .dataframe tbody tr th:only-of-type {\n",
       "        vertical-align: middle;\n",
       "    }\n",
       "\n",
       "    .dataframe tbody tr th {\n",
       "        vertical-align: top;\n",
       "    }\n",
       "\n",
       "    .dataframe thead th {\n",
       "        text-align: right;\n",
       "    }\n",
       "</style>\n",
       "<table border=\"1\" class=\"dataframe\">\n",
       "  <thead>\n",
       "    <tr style=\"text-align: right;\">\n",
       "      <th></th>\n",
       "      <th>pubmed_id</th>\n",
       "      <th>year</th>\n",
       "      <th>epitope_id</th>\n",
       "      <th>sourceOrg_id</th>\n",
       "      <th>start_pos</th>\n",
       "      <th>end_pos</th>\n",
       "      <th>n_assays</th>\n",
       "      <th>n_Positive</th>\n",
       "      <th>n_Negative</th>\n",
       "    </tr>\n",
       "  </thead>\n",
       "  <tbody>\n",
       "    <tr>\n",
       "      <th>count</th>\n",
       "      <td>7.105000e+03</td>\n",
       "      <td>7105.000000</td>\n",
       "      <td>7105.000000</td>\n",
       "      <td>7105.000000</td>\n",
       "      <td>7105.000000</td>\n",
       "      <td>7105.000000</td>\n",
       "      <td>7105.000000</td>\n",
       "      <td>7105.000000</td>\n",
       "      <td>7105.000000</td>\n",
       "    </tr>\n",
       "    <tr>\n",
       "      <th>mean</th>\n",
       "      <td>2.662528e+07</td>\n",
       "      <td>2015.682336</td>\n",
       "      <td>512126.174806</td>\n",
       "      <td>2158.855735</td>\n",
       "      <td>310.544265</td>\n",
       "      <td>324.584659</td>\n",
       "      <td>1.005348</td>\n",
       "      <td>0.043350</td>\n",
       "      <td>0.961999</td>\n",
       "    </tr>\n",
       "    <tr>\n",
       "      <th>std</th>\n",
       "      <td>2.210198e+06</td>\n",
       "      <td>2.471744</td>\n",
       "      <td>63823.520147</td>\n",
       "      <td>15902.596912</td>\n",
       "      <td>249.941165</td>\n",
       "      <td>249.943675</td>\n",
       "      <td>0.099121</td>\n",
       "      <td>0.232691</td>\n",
       "      <td>0.191213</td>\n",
       "    </tr>\n",
       "    <tr>\n",
       "      <th>min</th>\n",
       "      <td>2.677144e+06</td>\n",
       "      <td>1989.000000</td>\n",
       "      <td>263.000000</td>\n",
       "      <td>1314.000000</td>\n",
       "      <td>1.000000</td>\n",
       "      <td>15.000000</td>\n",
       "      <td>1.000000</td>\n",
       "      <td>0.000000</td>\n",
       "      <td>0.000000</td>\n",
       "    </tr>\n",
       "    <tr>\n",
       "      <th>25%</th>\n",
       "      <td>2.691165e+07</td>\n",
       "      <td>2016.000000</td>\n",
       "      <td>515323.000000</td>\n",
       "      <td>1314.000000</td>\n",
       "      <td>119.000000</td>\n",
       "      <td>133.000000</td>\n",
       "      <td>1.000000</td>\n",
       "      <td>0.000000</td>\n",
       "      <td>1.000000</td>\n",
       "    </tr>\n",
       "    <tr>\n",
       "      <th>50%</th>\n",
       "      <td>2.691165e+07</td>\n",
       "      <td>2016.000000</td>\n",
       "      <td>520794.000000</td>\n",
       "      <td>1314.000000</td>\n",
       "      <td>258.000000</td>\n",
       "      <td>272.000000</td>\n",
       "      <td>1.000000</td>\n",
       "      <td>0.000000</td>\n",
       "      <td>1.000000</td>\n",
       "    </tr>\n",
       "    <tr>\n",
       "      <th>75%</th>\n",
       "      <td>2.691165e+07</td>\n",
       "      <td>2016.000000</td>\n",
       "      <td>525262.000000</td>\n",
       "      <td>1314.000000</td>\n",
       "      <td>426.000000</td>\n",
       "      <td>440.000000</td>\n",
       "      <td>1.000000</td>\n",
       "      <td>0.000000</td>\n",
       "      <td>1.000000</td>\n",
       "    </tr>\n",
       "    <tr>\n",
       "      <th>max</th>\n",
       "      <td>3.178798e+07</td>\n",
       "      <td>2019.000000</td>\n",
       "      <td>956369.000000</td>\n",
       "      <td>301449.000000</td>\n",
       "      <td>1168.000000</td>\n",
       "      <td>1182.000000</td>\n",
       "      <td>5.000000</td>\n",
       "      <td>4.000000</td>\n",
       "      <td>1.000000</td>\n",
       "    </tr>\n",
       "  </tbody>\n",
       "</table>\n",
       "</div>"
      ],
      "text/plain": [
       "          pubmed_id         year     epitope_id   sourceOrg_id    start_pos  \\\n",
       "count  7.105000e+03  7105.000000    7105.000000    7105.000000  7105.000000   \n",
       "mean   2.662528e+07  2015.682336  512126.174806    2158.855735   310.544265   \n",
       "std    2.210198e+06     2.471744   63823.520147   15902.596912   249.941165   \n",
       "min    2.677144e+06  1989.000000     263.000000    1314.000000     1.000000   \n",
       "25%    2.691165e+07  2016.000000  515323.000000    1314.000000   119.000000   \n",
       "50%    2.691165e+07  2016.000000  520794.000000    1314.000000   258.000000   \n",
       "75%    2.691165e+07  2016.000000  525262.000000    1314.000000   426.000000   \n",
       "max    3.178798e+07  2019.000000  956369.000000  301449.000000  1168.000000   \n",
       "\n",
       "           end_pos     n_assays   n_Positive   n_Negative  \n",
       "count  7105.000000  7105.000000  7105.000000  7105.000000  \n",
       "mean    324.584659     1.005348     0.043350     0.961999  \n",
       "std     249.943675     0.099121     0.232691     0.191213  \n",
       "min      15.000000     1.000000     0.000000     0.000000  \n",
       "25%     133.000000     1.000000     0.000000     1.000000  \n",
       "50%     272.000000     1.000000     0.000000     1.000000  \n",
       "75%     440.000000     1.000000     0.000000     1.000000  \n",
       "max    1182.000000     5.000000     4.000000     1.000000  "
      ]
     },
     "execution_count": 20,
     "metadata": {},
     "output_type": "execute_result"
    }
   ],
   "source": [
    "sp_file.describe()"
   ]
  },
  {
   "cell_type": "markdown",
   "id": "65407cdf",
   "metadata": {},
   "source": [
    "# Adequately join the protein sequences onto the epitopes table\n",
    "\n",
    "## M2  \n",
    "### i"
   ]
  },
  {
   "cell_type": "code",
   "execution_count": 21,
   "id": "92cb1a39",
   "metadata": {},
   "outputs": [
    {
     "data": {
      "text/plain": [
       "(7100, 28)"
      ]
     },
     "execution_count": 21,
     "metadata": {},
     "output_type": "execute_result"
    }
   ],
   "source": [
    "# Using the join operation to join sp_file over prod_file \n",
    "prod_sp=prot_file.merge(sp_file, left_on='UID', right_on='protein_id',how='inner')\n",
    "prod_sp.shape"
   ]
  },
  {
   "cell_type": "markdown",
   "id": "e71457e2",
   "metadata": {},
   "source": [
    "   After join the shape of **prod_sp** is **7100 Rows, 28 Columns**"
   ]
  },
  {
   "cell_type": "markdown",
   "id": "59dafb57",
   "metadata": {},
   "source": [
    "### ii\n",
    "- Those for which the epitope substring is not located in the correct position of the protein string (based on start_pos and end_pos);"
   ]
  },
  {
   "cell_type": "code",
   "execution_count": 22,
   "id": "69771e6f",
   "metadata": {},
   "outputs": [],
   "source": [
    "#epit_seq  start_pos  end_pos  TSeq_sequence  epit_seq_actual"
   ]
  },
  {
   "cell_type": "code",
   "execution_count": 23,
   "id": "41785258",
   "metadata": {},
   "outputs": [
    {
     "data": {
      "text/html": [
       "<div>\n",
       "<style scoped>\n",
       "    .dataframe tbody tr th:only-of-type {\n",
       "        vertical-align: middle;\n",
       "    }\n",
       "\n",
       "    .dataframe tbody tr th {\n",
       "        vertical-align: top;\n",
       "    }\n",
       "\n",
       "    .dataframe thead th {\n",
       "        text-align: right;\n",
       "    }\n",
       "</style>\n",
       "<table border=\"1\" class=\"dataframe\">\n",
       "  <thead>\n",
       "    <tr style=\"text-align: right;\">\n",
       "      <th></th>\n",
       "      <th>TSeq_seqtype</th>\n",
       "      <th>TSeq_accver</th>\n",
       "      <th>TSeq_taxid</th>\n",
       "      <th>TSeq_orgname</th>\n",
       "      <th>TSeq_defline</th>\n",
       "      <th>TSeq_length</th>\n",
       "      <th>TSeq_sequence</th>\n",
       "      <th>UID</th>\n",
       "      <th>DB</th>\n",
       "      <th>TSeq_sid</th>\n",
       "      <th>...</th>\n",
       "      <th>epit_seq</th>\n",
       "      <th>start_pos</th>\n",
       "      <th>end_pos</th>\n",
       "      <th>n_assays</th>\n",
       "      <th>host_id</th>\n",
       "      <th>bcell_id</th>\n",
       "      <th>assay_type</th>\n",
       "      <th>n_Positive</th>\n",
       "      <th>n_Negative</th>\n",
       "      <th>assay_class</th>\n",
       "    </tr>\n",
       "  </thead>\n",
       "  <tbody>\n",
       "    <tr>\n",
       "      <th>0</th>\n",
       "      <td>protein</td>\n",
       "      <td>P02977.2</td>\n",
       "      <td>301449</td>\n",
       "      <td>Streptococcus pyogenes serotype M5</td>\n",
       "      <td>RecName: Full=M protein, serotype 5; Flags: Pr...</td>\n",
       "      <td>492</td>\n",
       "      <td>MARENTNKHYWLRKLKKGTASVAVALSVLGAGLVVNTNEVSAAVTR...</td>\n",
       "      <td>P02977.2</td>\n",
       "      <td>NCBI protein</td>\n",
       "      <td>NaN</td>\n",
       "      <td>...</td>\n",
       "      <td>DLDASREAKKQLEAEQQKLE</td>\n",
       "      <td>305</td>\n",
       "      <td>324</td>\n",
       "      <td>2</td>\n",
       "      <td>96,069,606</td>\n",
       "      <td>18,175,891,819,398</td>\n",
       "      <td>34,34</td>\n",
       "      <td>2</td>\n",
       "      <td>0</td>\n",
       "      <td>1,1</td>\n",
       "    </tr>\n",
       "    <tr>\n",
       "      <th>1</th>\n",
       "      <td>protein</td>\n",
       "      <td>P02977.2</td>\n",
       "      <td>301449</td>\n",
       "      <td>Streptococcus pyogenes serotype M5</td>\n",
       "      <td>RecName: Full=M protein, serotype 5; Flags: Pr...</td>\n",
       "      <td>492</td>\n",
       "      <td>MARENTNKHYWLRKLKKGTASVAVALSVLGAGLVVNTNEVSAAVTR...</td>\n",
       "      <td>P02977.2</td>\n",
       "      <td>NCBI protein</td>\n",
       "      <td>NaN</td>\n",
       "      <td>...</td>\n",
       "      <td>GLRRDLDASREAKKQLEAEQ</td>\n",
       "      <td>301</td>\n",
       "      <td>320</td>\n",
       "      <td>2</td>\n",
       "      <td>96,069,606</td>\n",
       "      <td>18,175,841,819,393</td>\n",
       "      <td>34,34</td>\n",
       "      <td>2</td>\n",
       "      <td>0</td>\n",
       "      <td>1,1</td>\n",
       "    </tr>\n",
       "  </tbody>\n",
       "</table>\n",
       "<p>2 rows × 28 columns</p>\n",
       "</div>"
      ],
      "text/plain": [
       "  TSeq_seqtype TSeq_accver  TSeq_taxid                        TSeq_orgname  \\\n",
       "0      protein    P02977.2      301449  Streptococcus pyogenes serotype M5   \n",
       "1      protein    P02977.2      301449  Streptococcus pyogenes serotype M5   \n",
       "\n",
       "                                        TSeq_defline  TSeq_length  \\\n",
       "0  RecName: Full=M protein, serotype 5; Flags: Pr...          492   \n",
       "1  RecName: Full=M protein, serotype 5; Flags: Pr...          492   \n",
       "\n",
       "                                       TSeq_sequence       UID            DB  \\\n",
       "0  MARENTNKHYWLRKLKKGTASVAVALSVLGAGLVVNTNEVSAAVTR...  P02977.2  NCBI protein   \n",
       "1  MARENTNKHYWLRKLKKGTASVAVALSVLGAGLVVNTNEVSAAVTR...  P02977.2  NCBI protein   \n",
       "\n",
       "  TSeq_sid  ...              epit_seq  start_pos end_pos  n_assays  \\\n",
       "0      NaN  ...  DLDASREAKKQLEAEQQKLE        305     324         2   \n",
       "1      NaN  ...  GLRRDLDASREAKKQLEAEQ        301     320         2   \n",
       "\n",
       "      host_id            bcell_id  assay_type n_Positive n_Negative  \\\n",
       "0  96,069,606  18,175,891,819,398       34,34          2          0   \n",
       "1  96,069,606  18,175,841,819,393       34,34          2          0   \n",
       "\n",
       "   assay_class  \n",
       "0          1,1  \n",
       "1          1,1  \n",
       "\n",
       "[2 rows x 28 columns]"
      ]
     },
     "execution_count": 23,
     "metadata": {},
     "output_type": "execute_result"
    }
   ],
   "source": [
    "prod_sp.head(2)"
   ]
  },
  {
   "cell_type": "code",
   "execution_count": 24,
   "id": "58275e36",
   "metadata": {},
   "outputs": [
    {
     "data": {
      "text/plain": [
       "'DLDASREAKKQLEAEQQKLE'"
      ]
     },
     "execution_count": 24,
     "metadata": {},
     "output_type": "execute_result"
    }
   ],
   "source": [
    "prod_sp.epit_seq[0]"
   ]
  },
  {
   "cell_type": "code",
   "execution_count": 25,
   "id": "68a278ee",
   "metadata": {},
   "outputs": [
    {
     "data": {
      "text/plain": [
       "'MARENTNKHYWLRKLKKGTASVAVALSVLGAGLVVNTNEVSAAVTRGTINDPQRAKEALDKYELENHDLKTKNEGLKTENEGLKTENEGLKTENEGLKTEKKEHEAENDKLKQQRDTLSTQKETLEREVQNTQYNNETLKIKNGDLTKELNKTRQELANKQQESKENEKALNELLEKTVKDKIAKEQENKETIGTLKKILDETVKDKIAKEQENKETIGTLKKILDETVKDKLAKEQKSKQNIGALKQELAKKDEANKISDASRKGLRRDLDASREAKKQLEAEHQKLEEQNKISEASRKGLRRDLDASREAKKQLEAEQQKLEEQNKISEASRKGLRRDLDASREAKKQVEKALEEANSKLAALEKLNKELEESKKLTEKEKAELQAKLEAEAKALKEQLAKQAEELAKLRAGKASDSQTPDTKPGNKAVPGKGQAPQAGTKPNQNKAPMKETKRQLPSTGETANPFFTAAALTVMATAGVAAVVKRKEEN'"
      ]
     },
     "execution_count": 25,
     "metadata": {},
     "output_type": "execute_result"
    }
   ],
   "source": [
    "prod_sp.TSeq_sequence[0]"
   ]
  },
  {
   "cell_type": "code",
   "execution_count": 26,
   "id": "969f807c",
   "metadata": {},
   "outputs": [
    {
     "data": {
      "text/plain": [
       "0    305\n",
       "1    301\n",
       "Name: start_pos, dtype: int64"
      ]
     },
     "execution_count": 26,
     "metadata": {},
     "output_type": "execute_result"
    }
   ],
   "source": [
    "prod_sp.start_pos[:2]"
   ]
  },
  {
   "cell_type": "code",
   "execution_count": 27,
   "id": "5f0f27a7",
   "metadata": {},
   "outputs": [
    {
     "data": {
      "text/plain": [
       "0    324\n",
       "1    320\n",
       "Name: end_pos, dtype: int64"
      ]
     },
     "execution_count": 27,
     "metadata": {},
     "output_type": "execute_result"
    }
   ],
   "source": [
    "prod_sp.end_pos.head(2)"
   ]
  },
  {
   "cell_type": "code",
   "execution_count": 28,
   "id": "4c90e8fc",
   "metadata": {},
   "outputs": [],
   "source": [
    "substring_list = []\n",
    "for i in range(len(prod_sp)):\n",
    "    substring_list.append(prod_sp['epit_seq'][i])"
   ]
  },
  {
   "cell_type": "code",
   "execution_count": 29,
   "id": "e255ba08",
   "metadata": {},
   "outputs": [],
   "source": [
    "def find_str(s, char):\n",
    "    index = 0\n",
    "\n",
    "    if char in s:\n",
    "        c = char[0]\n",
    "        for ch in s:\n",
    "            if ch == c:\n",
    "                if s[index:index+len(char)] == char:\n",
    "                    return index\n",
    "\n",
    "            index += 1\n",
    "\n",
    "    return -1\n"
   ]
  },
  {
   "cell_type": "code",
   "execution_count": 30,
   "id": "4361fac2",
   "metadata": {},
   "outputs": [],
   "source": [
    "start_index=[]\n",
    "for i in range(len(prod_sp)):\n",
    "    start_index.append(find_str(prod_sp['TSeq_sequence'][i], prod_sp['epit_seq'][i]))"
   ]
  },
  {
   "cell_type": "code",
   "execution_count": 31,
   "id": "11edb8a3",
   "metadata": {},
   "outputs": [],
   "source": [
    "# Python3 program to count frequencies\n",
    "# of array items\n",
    "# def countFreq(arr, n):\n",
    "\n",
    "# \tmp = dict()\n",
    "\n",
    "# \t# Traverse through array elements\n",
    "# \t# and count frequencies\n",
    "# \tfor i in range(n):\n",
    "# \t\tif arr[i] in mp.keys():\n",
    "# \t\t\tmp[arr[i]] += 1\n",
    "# \t\telse:\n",
    "# \t\t\tmp[arr[i]] = 1\n",
    "\t\t\t\n",
    "# \t# Traverse through map and print\n",
    "# \t# frequencies\n",
    "# \tfor x in mp:\n",
    "# \t\tprint(x, \" \", mp[x])\n",
    "\n",
    "# # Driver code\n",
    "# arr = start_index\n",
    "# n = len(arr)\n",
    "# countFreq(arr, n)\n",
    "\n",
    "# # This code is contributed by\n",
    "# # Mohit kumar 29\n",
    "\n"
   ]
  },
  {
   "cell_type": "code",
   "execution_count": 32,
   "id": "0a194079",
   "metadata": {},
   "outputs": [],
   "source": [
    "prod_sp[\"start_index\"]=start_index"
   ]
  },
  {
   "cell_type": "code",
   "execution_count": 33,
   "id": "0252f350",
   "metadata": {},
   "outputs": [],
   "source": [
    "# prod_sp[~prod_sp[\"start_index\"].str.contains(-1)]\n",
    "prod_sp=prod_sp[prod_sp[\"start_index\"]> -1]"
   ]
  },
  {
   "cell_type": "code",
   "execution_count": 34,
   "id": "528c89c9",
   "metadata": {},
   "outputs": [],
   "source": [
    "prod_sp=prod_sp.drop(\"start_index\",axis=1)"
   ]
  },
  {
   "cell_type": "code",
   "execution_count": 35,
   "id": "5f772bdc",
   "metadata": {},
   "outputs": [
    {
     "data": {
      "text/plain": [
       "(7094, 28)"
      ]
     },
     "execution_count": 35,
     "metadata": {},
     "output_type": "execute_result"
    }
   ],
   "source": [
    "prod_sp.shape"
   ]
  },
  {
   "cell_type": "markdown",
   "id": "26040157",
   "metadata": {},
   "source": [
    "## iii"
   ]
  },
  {
   "cell_type": "markdown",
   "id": "3adf6552",
   "metadata": {},
   "source": [
    "- Those with start_pos < 8 or with end_pos > (TSeq_length – 8)"
   ]
  },
  {
   "cell_type": "code",
   "execution_count": 36,
   "id": "9433314f",
   "metadata": {},
   "outputs": [],
   "source": [
    "prod_sp = prod_sp.drop(prod_sp[(prod_sp.start_pos < 8)].index)"
   ]
  },
  {
   "cell_type": "code",
   "execution_count": 37,
   "id": "544e5420",
   "metadata": {},
   "outputs": [],
   "source": [
    "prod_sp = prod_sp.drop(prod_sp[(prod_sp.end_pos > prod_sp.TSeq_length-8)].index)"
   ]
  },
  {
   "cell_type": "code",
   "execution_count": 38,
   "id": "6bb4f25f",
   "metadata": {},
   "outputs": [
    {
     "data": {
      "text/plain": [
       "(6826, 28)"
      ]
     },
     "execution_count": 38,
     "metadata": {},
     "output_type": "execute_result"
    }
   ],
   "source": [
    "prod_sp.shape"
   ]
  },
  {
   "cell_type": "markdown",
   "id": "ca9f7fe4",
   "metadata": {},
   "source": [
    "## iv"
   ]
  },
  {
   "cell_type": "markdown",
   "id": "de2ed26b",
   "metadata": {},
   "source": [
    "- Those containing any non-specific aminoacid letters (namely B,J,X or Z) in the epitope sequence."
   ]
  },
  {
   "cell_type": "code",
   "execution_count": 39,
   "id": "e896fc42",
   "metadata": {},
   "outputs": [
    {
     "data": {
      "text/plain": [
       "Index(['TSeq_seqtype', 'TSeq_accver', 'TSeq_taxid', 'TSeq_orgname',\n",
       "       'TSeq_defline', 'TSeq_length', 'TSeq_sequence', 'UID', 'DB', 'TSeq_sid',\n",
       "       'pubmed_id', 'year', 'epit_name', 'epitope_id', 'evid_code',\n",
       "       'epit_struc_def', 'sourceOrg_id', 'protein_id', 'epit_seq', 'start_pos',\n",
       "       'end_pos', 'n_assays', 'host_id', 'bcell_id', 'assay_type',\n",
       "       'n_Positive', 'n_Negative', 'assay_class'],\n",
       "      dtype='object')"
      ]
     },
     "execution_count": 39,
     "metadata": {},
     "output_type": "execute_result"
    }
   ],
   "source": [
    "prod_sp.columns"
   ]
  },
  {
   "cell_type": "code",
   "execution_count": 40,
   "id": "55ef0f26",
   "metadata": {},
   "outputs": [
    {
     "data": {
      "text/plain": [
       "0    DLDASREAKKQLEAEQQKLE\n",
       "1    GLRRDLDASREAKKQLEAEQ\n",
       "2    LDASREAKKQLEAEQQKLEE\n",
       "3    LRRDLDASREAKKQLEAEQQ\n",
       "4    RRDLDASREAKKQLEAEQQK\n",
       "Name: epit_seq, dtype: object"
      ]
     },
     "execution_count": 40,
     "metadata": {},
     "output_type": "execute_result"
    }
   ],
   "source": [
    "prod_sp.epit_seq.head()"
   ]
  },
  {
   "cell_type": "code",
   "execution_count": 41,
   "id": "901e3b56",
   "metadata": {},
   "outputs": [],
   "source": [
    "prod_sp=prod_sp[(~prod_sp['epit_seq'].str.contains('B')) & (~prod_sp['epit_seq'].str.contains('J')) &\n",
    "               (~prod_sp['epit_seq'].str.contains('X')) & (~prod_sp['epit_seq'].str.contains('Z'))]"
   ]
  },
  {
   "cell_type": "code",
   "execution_count": 42,
   "id": "91076a09",
   "metadata": {},
   "outputs": [
    {
     "data": {
      "text/plain": [
       "(6826, 28)"
      ]
     },
     "execution_count": 42,
     "metadata": {},
     "output_type": "execute_result"
    }
   ],
   "source": [
    "prod_sp.shape"
   ]
  },
  {
   "cell_type": "markdown",
   "id": "6bc91771",
   "metadata": {},
   "source": [
    "## M4"
   ]
  },
  {
   "cell_type": "markdown",
   "id": "dd5c535b",
   "metadata": {},
   "source": [
    "- Calculate the Class attribute for this data set based on the number of positive and negative assays (if n_Positive >= n_Negative then Class = 1, otherwise Class = 0)"
   ]
  },
  {
   "cell_type": "code",
   "execution_count": 43,
   "id": "d5c7f19b",
   "metadata": {},
   "outputs": [],
   "source": [
    "prod_sp.reset_index(drop=True, inplace=True)"
   ]
  },
  {
   "cell_type": "code",
   "execution_count": 44,
   "id": "9cf5aebc",
   "metadata": {},
   "outputs": [
    {
     "data": {
      "text/html": [
       "<div>\n",
       "<style scoped>\n",
       "    .dataframe tbody tr th:only-of-type {\n",
       "        vertical-align: middle;\n",
       "    }\n",
       "\n",
       "    .dataframe tbody tr th {\n",
       "        vertical-align: top;\n",
       "    }\n",
       "\n",
       "    .dataframe thead th {\n",
       "        text-align: right;\n",
       "    }\n",
       "</style>\n",
       "<table border=\"1\" class=\"dataframe\">\n",
       "  <thead>\n",
       "    <tr style=\"text-align: right;\">\n",
       "      <th></th>\n",
       "      <th>TSeq_seqtype</th>\n",
       "      <th>TSeq_accver</th>\n",
       "      <th>TSeq_taxid</th>\n",
       "      <th>TSeq_orgname</th>\n",
       "      <th>TSeq_defline</th>\n",
       "      <th>TSeq_length</th>\n",
       "      <th>TSeq_sequence</th>\n",
       "      <th>UID</th>\n",
       "      <th>DB</th>\n",
       "      <th>TSeq_sid</th>\n",
       "      <th>...</th>\n",
       "      <th>epit_seq</th>\n",
       "      <th>start_pos</th>\n",
       "      <th>end_pos</th>\n",
       "      <th>n_assays</th>\n",
       "      <th>host_id</th>\n",
       "      <th>bcell_id</th>\n",
       "      <th>assay_type</th>\n",
       "      <th>n_Positive</th>\n",
       "      <th>n_Negative</th>\n",
       "      <th>assay_class</th>\n",
       "    </tr>\n",
       "  </thead>\n",
       "  <tbody>\n",
       "    <tr>\n",
       "      <th>0</th>\n",
       "      <td>protein</td>\n",
       "      <td>P02977.2</td>\n",
       "      <td>301449</td>\n",
       "      <td>Streptococcus pyogenes serotype M5</td>\n",
       "      <td>RecName: Full=M protein, serotype 5; Flags: Pr...</td>\n",
       "      <td>492</td>\n",
       "      <td>MARENTNKHYWLRKLKKGTASVAVALSVLGAGLVVNTNEVSAAVTR...</td>\n",
       "      <td>P02977.2</td>\n",
       "      <td>NCBI protein</td>\n",
       "      <td>NaN</td>\n",
       "      <td>...</td>\n",
       "      <td>DLDASREAKKQLEAEQQKLE</td>\n",
       "      <td>305</td>\n",
       "      <td>324</td>\n",
       "      <td>2</td>\n",
       "      <td>96,069,606</td>\n",
       "      <td>18,175,891,819,398</td>\n",
       "      <td>34,34</td>\n",
       "      <td>2</td>\n",
       "      <td>0</td>\n",
       "      <td>1,1</td>\n",
       "    </tr>\n",
       "  </tbody>\n",
       "</table>\n",
       "<p>1 rows × 28 columns</p>\n",
       "</div>"
      ],
      "text/plain": [
       "  TSeq_seqtype TSeq_accver  TSeq_taxid                        TSeq_orgname  \\\n",
       "0      protein    P02977.2      301449  Streptococcus pyogenes serotype M5   \n",
       "\n",
       "                                        TSeq_defline  TSeq_length  \\\n",
       "0  RecName: Full=M protein, serotype 5; Flags: Pr...          492   \n",
       "\n",
       "                                       TSeq_sequence       UID            DB  \\\n",
       "0  MARENTNKHYWLRKLKKGTASVAVALSVLGAGLVVNTNEVSAAVTR...  P02977.2  NCBI protein   \n",
       "\n",
       "  TSeq_sid  ...              epit_seq  start_pos end_pos  n_assays  \\\n",
       "0      NaN  ...  DLDASREAKKQLEAEQQKLE        305     324         2   \n",
       "\n",
       "      host_id            bcell_id  assay_type n_Positive n_Negative  \\\n",
       "0  96,069,606  18,175,891,819,398       34,34          2          0   \n",
       "\n",
       "   assay_class  \n",
       "0          1,1  \n",
       "\n",
       "[1 rows x 28 columns]"
      ]
     },
     "execution_count": 44,
     "metadata": {},
     "output_type": "execute_result"
    }
   ],
   "source": [
    "prod_sp.head(1)"
   ]
  },
  {
   "cell_type": "code",
   "execution_count": 45,
   "id": "3e6b94ea",
   "metadata": {},
   "outputs": [
    {
     "data": {
      "text/plain": [
       "0     2\n",
       "1     2\n",
       "2     2\n",
       "3     2\n",
       "4     2\n",
       "5     0\n",
       "6     1\n",
       "7     0\n",
       "8     1\n",
       "9     4\n",
       "10    0\n",
       "11    0\n",
       "12    1\n",
       "13    4\n",
       "14    3\n",
       "Name: n_Positive, dtype: int64"
      ]
     },
     "execution_count": 45,
     "metadata": {},
     "output_type": "execute_result"
    }
   ],
   "source": [
    "prod_sp.n_Positive.head(15)"
   ]
  },
  {
   "cell_type": "code",
   "execution_count": 46,
   "id": "4685c3bb",
   "metadata": {},
   "outputs": [],
   "source": [
    "class_lst1=[]\n",
    "for i in range(len(prod_sp.n_Positive)):\n",
    "    class_lst1.append(np.where((prod_sp['n_Positive'][i] > prod_sp['n_Negative'][i]) , 1, 0))"
   ]
  },
  {
   "cell_type": "code",
   "execution_count": 47,
   "id": "36395ea9",
   "metadata": {},
   "outputs": [],
   "source": [
    "prod_sp['Class']=class_lst1"
   ]
  },
  {
   "cell_type": "code",
   "execution_count": 48,
   "id": "0836601a",
   "metadata": {},
   "outputs": [
    {
     "data": {
      "text/html": [
       "<div>\n",
       "<style scoped>\n",
       "    .dataframe tbody tr th:only-of-type {\n",
       "        vertical-align: middle;\n",
       "    }\n",
       "\n",
       "    .dataframe tbody tr th {\n",
       "        vertical-align: top;\n",
       "    }\n",
       "\n",
       "    .dataframe thead th {\n",
       "        text-align: right;\n",
       "    }\n",
       "</style>\n",
       "<table border=\"1\" class=\"dataframe\">\n",
       "  <thead>\n",
       "    <tr style=\"text-align: right;\">\n",
       "      <th></th>\n",
       "      <th>TSeq_seqtype</th>\n",
       "      <th>TSeq_accver</th>\n",
       "      <th>TSeq_taxid</th>\n",
       "      <th>TSeq_orgname</th>\n",
       "      <th>TSeq_defline</th>\n",
       "      <th>TSeq_length</th>\n",
       "      <th>TSeq_sequence</th>\n",
       "      <th>UID</th>\n",
       "      <th>DB</th>\n",
       "      <th>TSeq_sid</th>\n",
       "      <th>...</th>\n",
       "      <th>start_pos</th>\n",
       "      <th>end_pos</th>\n",
       "      <th>n_assays</th>\n",
       "      <th>host_id</th>\n",
       "      <th>bcell_id</th>\n",
       "      <th>assay_type</th>\n",
       "      <th>n_Positive</th>\n",
       "      <th>n_Negative</th>\n",
       "      <th>assay_class</th>\n",
       "      <th>Class</th>\n",
       "    </tr>\n",
       "  </thead>\n",
       "  <tbody>\n",
       "    <tr>\n",
       "      <th>0</th>\n",
       "      <td>protein</td>\n",
       "      <td>P02977.2</td>\n",
       "      <td>301449</td>\n",
       "      <td>Streptococcus pyogenes serotype M5</td>\n",
       "      <td>RecName: Full=M protein, serotype 5; Flags: Pr...</td>\n",
       "      <td>492</td>\n",
       "      <td>MARENTNKHYWLRKLKKGTASVAVALSVLGAGLVVNTNEVSAAVTR...</td>\n",
       "      <td>P02977.2</td>\n",
       "      <td>NCBI protein</td>\n",
       "      <td>NaN</td>\n",
       "      <td>...</td>\n",
       "      <td>305</td>\n",
       "      <td>324</td>\n",
       "      <td>2</td>\n",
       "      <td>96,069,606</td>\n",
       "      <td>18,175,891,819,398</td>\n",
       "      <td>34,34</td>\n",
       "      <td>2</td>\n",
       "      <td>0</td>\n",
       "      <td>1,1</td>\n",
       "      <td>1</td>\n",
       "    </tr>\n",
       "    <tr>\n",
       "      <th>1</th>\n",
       "      <td>protein</td>\n",
       "      <td>P02977.2</td>\n",
       "      <td>301449</td>\n",
       "      <td>Streptococcus pyogenes serotype M5</td>\n",
       "      <td>RecName: Full=M protein, serotype 5; Flags: Pr...</td>\n",
       "      <td>492</td>\n",
       "      <td>MARENTNKHYWLRKLKKGTASVAVALSVLGAGLVVNTNEVSAAVTR...</td>\n",
       "      <td>P02977.2</td>\n",
       "      <td>NCBI protein</td>\n",
       "      <td>NaN</td>\n",
       "      <td>...</td>\n",
       "      <td>301</td>\n",
       "      <td>320</td>\n",
       "      <td>2</td>\n",
       "      <td>96,069,606</td>\n",
       "      <td>18,175,841,819,393</td>\n",
       "      <td>34,34</td>\n",
       "      <td>2</td>\n",
       "      <td>0</td>\n",
       "      <td>1,1</td>\n",
       "      <td>1</td>\n",
       "    </tr>\n",
       "    <tr>\n",
       "      <th>2</th>\n",
       "      <td>protein</td>\n",
       "      <td>P02977.2</td>\n",
       "      <td>301449</td>\n",
       "      <td>Streptococcus pyogenes serotype M5</td>\n",
       "      <td>RecName: Full=M protein, serotype 5; Flags: Pr...</td>\n",
       "      <td>492</td>\n",
       "      <td>MARENTNKHYWLRKLKKGTASVAVALSVLGAGLVVNTNEVSAAVTR...</td>\n",
       "      <td>P02977.2</td>\n",
       "      <td>NCBI protein</td>\n",
       "      <td>NaN</td>\n",
       "      <td>...</td>\n",
       "      <td>306</td>\n",
       "      <td>325</td>\n",
       "      <td>2</td>\n",
       "      <td>96,069,606</td>\n",
       "      <td>18,193,991,817,590</td>\n",
       "      <td>34,34</td>\n",
       "      <td>2</td>\n",
       "      <td>0</td>\n",
       "      <td>1,1</td>\n",
       "      <td>1</td>\n",
       "    </tr>\n",
       "    <tr>\n",
       "      <th>3</th>\n",
       "      <td>protein</td>\n",
       "      <td>P02977.2</td>\n",
       "      <td>301449</td>\n",
       "      <td>Streptococcus pyogenes serotype M5</td>\n",
       "      <td>RecName: Full=M protein, serotype 5; Flags: Pr...</td>\n",
       "      <td>492</td>\n",
       "      <td>MARENTNKHYWLRKLKKGTASVAVALSVLGAGLVVNTNEVSAAVTR...</td>\n",
       "      <td>P02977.2</td>\n",
       "      <td>NCBI protein</td>\n",
       "      <td>NaN</td>\n",
       "      <td>...</td>\n",
       "      <td>302</td>\n",
       "      <td>321</td>\n",
       "      <td>2</td>\n",
       "      <td>96,069,606</td>\n",
       "      <td>18,175,861,819,395</td>\n",
       "      <td>34,34</td>\n",
       "      <td>2</td>\n",
       "      <td>0</td>\n",
       "      <td>1,1</td>\n",
       "      <td>1</td>\n",
       "    </tr>\n",
       "    <tr>\n",
       "      <th>4</th>\n",
       "      <td>protein</td>\n",
       "      <td>P02977.2</td>\n",
       "      <td>301449</td>\n",
       "      <td>Streptococcus pyogenes serotype M5</td>\n",
       "      <td>RecName: Full=M protein, serotype 5; Flags: Pr...</td>\n",
       "      <td>492</td>\n",
       "      <td>MARENTNKHYWLRKLKKGTASVAVALSVLGAGLVVNTNEVSAAVTR...</td>\n",
       "      <td>P02977.2</td>\n",
       "      <td>NCBI protein</td>\n",
       "      <td>NaN</td>\n",
       "      <td>...</td>\n",
       "      <td>303</td>\n",
       "      <td>322</td>\n",
       "      <td>2</td>\n",
       "      <td>96,069,606</td>\n",
       "      <td>18,175,851,819,394</td>\n",
       "      <td>34,34</td>\n",
       "      <td>2</td>\n",
       "      <td>0</td>\n",
       "      <td>1,1</td>\n",
       "      <td>1</td>\n",
       "    </tr>\n",
       "    <tr>\n",
       "      <th>5</th>\n",
       "      <td>protein</td>\n",
       "      <td>P02977.2</td>\n",
       "      <td>301449</td>\n",
       "      <td>Streptococcus pyogenes serotype M5</td>\n",
       "      <td>RecName: Full=M protein, serotype 5; Flags: Pr...</td>\n",
       "      <td>492</td>\n",
       "      <td>MARENTNKHYWLRKLKKGTASVAVALSVLGAGLVVNTNEVSAAVTR...</td>\n",
       "      <td>P02977.2</td>\n",
       "      <td>NCBI protein</td>\n",
       "      <td>NaN</td>\n",
       "      <td>...</td>\n",
       "      <td>357</td>\n",
       "      <td>376</td>\n",
       "      <td>1</td>\n",
       "      <td>9606</td>\n",
       "      <td>1326478</td>\n",
       "      <td>34</td>\n",
       "      <td>0</td>\n",
       "      <td>1</td>\n",
       "      <td>-1</td>\n",
       "      <td>0</td>\n",
       "    </tr>\n",
       "    <tr>\n",
       "      <th>6</th>\n",
       "      <td>protein</td>\n",
       "      <td>P02977.2</td>\n",
       "      <td>301449</td>\n",
       "      <td>Streptococcus pyogenes serotype M5</td>\n",
       "      <td>RecName: Full=M protein, serotype 5; Flags: Pr...</td>\n",
       "      <td>492</td>\n",
       "      <td>MARENTNKHYWLRKLKKGTASVAVALSVLGAGLVVNTNEVSAAVTR...</td>\n",
       "      <td>P02977.2</td>\n",
       "      <td>NCBI protein</td>\n",
       "      <td>NaN</td>\n",
       "      <td>...</td>\n",
       "      <td>407</td>\n",
       "      <td>424</td>\n",
       "      <td>2</td>\n",
       "      <td>960,610,000,263</td>\n",
       "      <td>13,264,831,326,496</td>\n",
       "      <td>34,316</td>\n",
       "      <td>1</td>\n",
       "      <td>1</td>\n",
       "      <td>1,-1</td>\n",
       "      <td>0</td>\n",
       "    </tr>\n",
       "    <tr>\n",
       "      <th>7</th>\n",
       "      <td>protein</td>\n",
       "      <td>P02977.2</td>\n",
       "      <td>301449</td>\n",
       "      <td>Streptococcus pyogenes serotype M5</td>\n",
       "      <td>RecName: Full=M protein, serotype 5; Flags: Pr...</td>\n",
       "      <td>492</td>\n",
       "      <td>MARENTNKHYWLRKLKKGTASVAVALSVLGAGLVVNTNEVSAAVTR...</td>\n",
       "      <td>P02977.2</td>\n",
       "      <td>NCBI protein</td>\n",
       "      <td>NaN</td>\n",
       "      <td>...</td>\n",
       "      <td>427</td>\n",
       "      <td>446</td>\n",
       "      <td>1</td>\n",
       "      <td>9606</td>\n",
       "      <td>1326485</td>\n",
       "      <td>34</td>\n",
       "      <td>0</td>\n",
       "      <td>1</td>\n",
       "      <td>-1</td>\n",
       "      <td>0</td>\n",
       "    </tr>\n",
       "    <tr>\n",
       "      <th>8</th>\n",
       "      <td>protein</td>\n",
       "      <td>P02977.2</td>\n",
       "      <td>301449</td>\n",
       "      <td>Streptococcus pyogenes serotype M5</td>\n",
       "      <td>RecName: Full=M protein, serotype 5; Flags: Pr...</td>\n",
       "      <td>492</td>\n",
       "      <td>MARENTNKHYWLRKLKKGTASVAVALSVLGAGLVVNTNEVSAAVTR...</td>\n",
       "      <td>P02977.2</td>\n",
       "      <td>NCBI protein</td>\n",
       "      <td>NaN</td>\n",
       "      <td>...</td>\n",
       "      <td>347</td>\n",
       "      <td>366</td>\n",
       "      <td>1</td>\n",
       "      <td>9606</td>\n",
       "      <td>1326477</td>\n",
       "      <td>34</td>\n",
       "      <td>1</td>\n",
       "      <td>0</td>\n",
       "      <td>1</td>\n",
       "      <td>1</td>\n",
       "    </tr>\n",
       "    <tr>\n",
       "      <th>9</th>\n",
       "      <td>protein</td>\n",
       "      <td>P02977.2</td>\n",
       "      <td>301449</td>\n",
       "      <td>Streptococcus pyogenes serotype M5</td>\n",
       "      <td>RecName: Full=M protein, serotype 5; Flags: Pr...</td>\n",
       "      <td>492</td>\n",
       "      <td>MARENTNKHYWLRKLKKGTASVAVALSVLGAGLVVNTNEVSAAVTR...</td>\n",
       "      <td>P02977.2</td>\n",
       "      <td>NCBI protein</td>\n",
       "      <td>NaN</td>\n",
       "      <td>...</td>\n",
       "      <td>265</td>\n",
       "      <td>280</td>\n",
       "      <td>5</td>\n",
       "      <td>96,069,606,960,696,000,000</td>\n",
       "      <td>17,081,091,707,855,100,000,000,000,000,000,000</td>\n",
       "      <td>34,34,34,34,34</td>\n",
       "      <td>4</td>\n",
       "      <td>1</td>\n",
       "      <td>1,1,1,-1,1</td>\n",
       "      <td>1</td>\n",
       "    </tr>\n",
       "  </tbody>\n",
       "</table>\n",
       "<p>10 rows × 29 columns</p>\n",
       "</div>"
      ],
      "text/plain": [
       "  TSeq_seqtype TSeq_accver  TSeq_taxid                        TSeq_orgname  \\\n",
       "0      protein    P02977.2      301449  Streptococcus pyogenes serotype M5   \n",
       "1      protein    P02977.2      301449  Streptococcus pyogenes serotype M5   \n",
       "2      protein    P02977.2      301449  Streptococcus pyogenes serotype M5   \n",
       "3      protein    P02977.2      301449  Streptococcus pyogenes serotype M5   \n",
       "4      protein    P02977.2      301449  Streptococcus pyogenes serotype M5   \n",
       "5      protein    P02977.2      301449  Streptococcus pyogenes serotype M5   \n",
       "6      protein    P02977.2      301449  Streptococcus pyogenes serotype M5   \n",
       "7      protein    P02977.2      301449  Streptococcus pyogenes serotype M5   \n",
       "8      protein    P02977.2      301449  Streptococcus pyogenes serotype M5   \n",
       "9      protein    P02977.2      301449  Streptococcus pyogenes serotype M5   \n",
       "\n",
       "                                        TSeq_defline  TSeq_length  \\\n",
       "0  RecName: Full=M protein, serotype 5; Flags: Pr...          492   \n",
       "1  RecName: Full=M protein, serotype 5; Flags: Pr...          492   \n",
       "2  RecName: Full=M protein, serotype 5; Flags: Pr...          492   \n",
       "3  RecName: Full=M protein, serotype 5; Flags: Pr...          492   \n",
       "4  RecName: Full=M protein, serotype 5; Flags: Pr...          492   \n",
       "5  RecName: Full=M protein, serotype 5; Flags: Pr...          492   \n",
       "6  RecName: Full=M protein, serotype 5; Flags: Pr...          492   \n",
       "7  RecName: Full=M protein, serotype 5; Flags: Pr...          492   \n",
       "8  RecName: Full=M protein, serotype 5; Flags: Pr...          492   \n",
       "9  RecName: Full=M protein, serotype 5; Flags: Pr...          492   \n",
       "\n",
       "                                       TSeq_sequence       UID            DB  \\\n",
       "0  MARENTNKHYWLRKLKKGTASVAVALSVLGAGLVVNTNEVSAAVTR...  P02977.2  NCBI protein   \n",
       "1  MARENTNKHYWLRKLKKGTASVAVALSVLGAGLVVNTNEVSAAVTR...  P02977.2  NCBI protein   \n",
       "2  MARENTNKHYWLRKLKKGTASVAVALSVLGAGLVVNTNEVSAAVTR...  P02977.2  NCBI protein   \n",
       "3  MARENTNKHYWLRKLKKGTASVAVALSVLGAGLVVNTNEVSAAVTR...  P02977.2  NCBI protein   \n",
       "4  MARENTNKHYWLRKLKKGTASVAVALSVLGAGLVVNTNEVSAAVTR...  P02977.2  NCBI protein   \n",
       "5  MARENTNKHYWLRKLKKGTASVAVALSVLGAGLVVNTNEVSAAVTR...  P02977.2  NCBI protein   \n",
       "6  MARENTNKHYWLRKLKKGTASVAVALSVLGAGLVVNTNEVSAAVTR...  P02977.2  NCBI protein   \n",
       "7  MARENTNKHYWLRKLKKGTASVAVALSVLGAGLVVNTNEVSAAVTR...  P02977.2  NCBI protein   \n",
       "8  MARENTNKHYWLRKLKKGTASVAVALSVLGAGLVVNTNEVSAAVTR...  P02977.2  NCBI protein   \n",
       "9  MARENTNKHYWLRKLKKGTASVAVALSVLGAGLVVNTNEVSAAVTR...  P02977.2  NCBI protein   \n",
       "\n",
       "  TSeq_sid  ...  start_pos  end_pos n_assays                     host_id  \\\n",
       "0      NaN  ...        305      324        2                  96,069,606   \n",
       "1      NaN  ...        301      320        2                  96,069,606   \n",
       "2      NaN  ...        306      325        2                  96,069,606   \n",
       "3      NaN  ...        302      321        2                  96,069,606   \n",
       "4      NaN  ...        303      322        2                  96,069,606   \n",
       "5      NaN  ...        357      376        1                        9606   \n",
       "6      NaN  ...        407      424        2             960,610,000,263   \n",
       "7      NaN  ...        427      446        1                        9606   \n",
       "8      NaN  ...        347      366        1                        9606   \n",
       "9      NaN  ...        265      280        5  96,069,606,960,696,000,000   \n",
       "\n",
       "                                         bcell_id      assay_type  n_Positive  \\\n",
       "0                              18,175,891,819,398           34,34           2   \n",
       "1                              18,175,841,819,393           34,34           2   \n",
       "2                              18,193,991,817,590           34,34           2   \n",
       "3                              18,175,861,819,395           34,34           2   \n",
       "4                              18,175,851,819,394           34,34           2   \n",
       "5                                         1326478              34           0   \n",
       "6                              13,264,831,326,496          34,316           1   \n",
       "7                                         1326485              34           0   \n",
       "8                                         1326477              34           1   \n",
       "9  17,081,091,707,855,100,000,000,000,000,000,000  34,34,34,34,34           4   \n",
       "\n",
       "  n_Negative assay_class  Class  \n",
       "0          0         1,1      1  \n",
       "1          0         1,1      1  \n",
       "2          0         1,1      1  \n",
       "3          0         1,1      1  \n",
       "4          0         1,1      1  \n",
       "5          1          -1      0  \n",
       "6          1        1,-1      0  \n",
       "7          1          -1      0  \n",
       "8          0           1      1  \n",
       "9          1  1,1,1,-1,1      1  \n",
       "\n",
       "[10 rows x 29 columns]"
      ]
     },
     "execution_count": 48,
     "metadata": {},
     "output_type": "execute_result"
    }
   ],
   "source": [
    "prod_sp.head(10)"
   ]
  },
  {
   "cell_type": "code",
   "execution_count": 49,
   "id": "15d56ba0",
   "metadata": {},
   "outputs": [
    {
     "data": {
      "text/plain": [
       "(6826, 29)"
      ]
     },
     "execution_count": 49,
     "metadata": {},
     "output_type": "execute_result"
    }
   ],
   "source": [
    "prod_sp.shape"
   ]
  },
  {
   "cell_type": "markdown",
   "id": "4e079330",
   "metadata": {},
   "source": [
    "## M5\n",
    "\n",
    "### i \n",
    "   - graphical investigation of Class balance"
   ]
  },
  {
   "cell_type": "code",
   "execution_count": 50,
   "id": "046d9fa1",
   "metadata": {},
   "outputs": [
    {
     "data": {
      "image/png": "[encoded data removed]",
      "text/plain": [
       "<Figure size 1152x720 with 1 Axes>"
      ]
     },
     "metadata": {
      "needs_background": "light"
     },
     "output_type": "display_data"
    }
   ],
   "source": [
    "plt.figure(figsize=(16,10))\n",
    "ax=prod_sp['Class'].value_counts().plot.bar()\n",
    "ax.set_ylabel('Y-axis')\n",
    "ax.set_xlabel('X-axis with 0 and 1')\n",
    "ax.set_title('Class balance')\n",
    "plt.show()\n",
    "plt.show()"
   ]
  },
  {
   "cell_type": "markdown",
   "id": "8190cf80",
   "metadata": {},
   "source": [
    "## ii"
   ]
  },
  {
   "cell_type": "markdown",
   "id": "819db2e5",
   "metadata": {},
   "source": [
    "- A graphical investigation of the distribution of epitope lengths"
   ]
  },
  {
   "cell_type": "code",
   "execution_count": 51,
   "id": "cfa0210c",
   "metadata": {},
   "outputs": [],
   "source": [
    "prod_sp['name_length']  = prod_sp['epit_seq'].str.len()"
   ]
  },
  {
   "cell_type": "code",
   "execution_count": 52,
   "id": "0fe04e1f",
   "metadata": {},
   "outputs": [
    {
     "data": {
      "text/plain": [
       "<AxesSubplot:>"
      ]
     },
     "execution_count": 52,
     "metadata": {},
     "output_type": "execute_result"
    },
    {
     "data": {
      "image/png": "[encoded data removed]",
      "text/plain": [
       "<Figure size 1152x720 with 1 Axes>"
      ]
     },
     "metadata": {
      "needs_background": "light"
     },
     "output_type": "display_data"
    }
   ],
   "source": [
    "plt.figure(figsize=(16,10))\n",
    "prod_sp.name_length.hist(bins=25,color='#86bf91')"
   ]
  },
  {
   "cell_type": "code",
   "execution_count": 53,
   "id": "1933f90c",
   "metadata": {},
   "outputs": [
    {
     "data": {
      "image/png": "[encoded data removed]",
      "text/plain": [
       "<Figure size 432x288 with 1 Axes>"
      ]
     },
     "metadata": {
      "needs_background": "light"
     },
     "output_type": "display_data"
    },
    {
     "data": {
      "text/plain": [
       "<Figure size 1152x720 with 0 Axes>"
      ]
     },
     "metadata": {},
     "output_type": "display_data"
    }
   ],
   "source": [
    "fig, ax = plt.subplots()\n",
    "\n",
    "freq, bins, _ = ax.hist(prod_sp.name_length, 2, facecolor='#86bf91')\n",
    "ax.grid(True)\n",
    "for i, n in enumerate(freq):\n",
    "    ax.text(bins[i]+0.5, 2, n)\n",
    "ax.set_xlabel('Bins')\n",
    "ax.set_ylabel('Freq')\n",
    "plt.figure(figsize=(16,10))\n",
    "plt.show()"
   ]
  },
  {
   "cell_type": "markdown",
   "id": "dd6d82a6",
   "metadata": {},
   "source": [
    "### iii"
   ]
  },
  {
   "cell_type": "markdown",
   "id": "e504b0fc",
   "metadata": {},
   "source": [
    "- A grouped bar chart of the frequencies (%) of each aminoacid letter in"
   ]
  },
  {
   "cell_type": "code",
   "execution_count": 54,
   "id": "40d79f1c",
   "metadata": {
    "scrolled": true
   },
   "outputs": [],
   "source": [
    "prod_sp['Class']=prod_sp['Class'].astype(int).astype(object)\n",
    "# prod_sp[['epit_seq','Class']]"
   ]
  },
  {
   "cell_type": "code",
   "execution_count": 55,
   "id": "11e8411a",
   "metadata": {},
   "outputs": [],
   "source": [
    "# When Class is \"1\"\n",
    "# initializing string\n",
    "all_freq1 = {}\n",
    "for num,string_data in enumerate(prod_sp.epit_seq):\n",
    "\n",
    "    if prod_sp.Class[num]==1:\n",
    "        test_str = string_data\n",
    "#         # using naive method to get count\n",
    "#         # of each element in string\n",
    "        \n",
    "\n",
    "        for i in test_str:\n",
    "            if i in all_freq1:\n",
    "                all_freq1[i] += 1\n",
    "            else:\n",
    "                all_freq1[i] = 1\n"
   ]
  },
  {
   "cell_type": "code",
   "execution_count": 56,
   "id": "ad47a676",
   "metadata": {},
   "outputs": [
    {
     "data": {
      "text/plain": [
       "19"
      ]
     },
     "execution_count": 56,
     "metadata": {},
     "output_type": "execute_result"
    }
   ],
   "source": [
    "# Class 1\n",
    "len(sorted(all_freq1.items()))"
   ]
  },
  {
   "cell_type": "code",
   "execution_count": 57,
   "id": "2332e9b2",
   "metadata": {},
   "outputs": [],
   "source": [
    "# When Class is \"0\"\n",
    "# initializing string\n",
    "all_freq0 = {}\n",
    "for num,string_data in enumerate(prod_sp.epit_seq):\n",
    "\n",
    "    if prod_sp.Class[num]==0:\n",
    "        test_str = string_data\n",
    "#         # using naive method to get count\n",
    "#         # of each element in string\n",
    "        \n",
    "\n",
    "        for i in test_str:\n",
    "            if i in all_freq0:\n",
    "                all_freq0[i] += 1\n",
    "            else:\n",
    "                all_freq0[i] = 1\n",
    "\n"
   ]
  },
  {
   "cell_type": "code",
   "execution_count": 58,
   "id": "5f184ed8",
   "metadata": {},
   "outputs": [
    {
     "data": {
      "text/plain": [
       "20"
      ]
     },
     "execution_count": 58,
     "metadata": {},
     "output_type": "execute_result"
    }
   ],
   "source": [
    "# Class 0\n",
    "len(sorted(all_freq0.items()))"
   ]
  },
  {
   "cell_type": "code",
   "execution_count": 59,
   "id": "df1313a0",
   "metadata": {},
   "outputs": [],
   "source": [
    "a=pd.DataFrame.from_dict(all_freq1, orient='index',columns=[\"Count_1\"])"
   ]
  },
  {
   "cell_type": "code",
   "execution_count": 60,
   "id": "9e5b304f",
   "metadata": {},
   "outputs": [],
   "source": [
    "b=pd.DataFrame.from_dict(all_freq0, orient='index',columns=[\"Count_0\"])"
   ]
  },
  {
   "cell_type": "code",
   "execution_count": 61,
   "id": "036a4263",
   "metadata": {},
   "outputs": [
    {
     "data": {
      "text/html": [
       "<div>\n",
       "<style scoped>\n",
       "    .dataframe tbody tr th:only-of-type {\n",
       "        vertical-align: middle;\n",
       "    }\n",
       "\n",
       "    .dataframe tbody tr th {\n",
       "        vertical-align: top;\n",
       "    }\n",
       "\n",
       "    .dataframe thead th {\n",
       "        text-align: right;\n",
       "    }\n",
       "</style>\n",
       "<table border=\"1\" class=\"dataframe\">\n",
       "  <thead>\n",
       "    <tr style=\"text-align: right;\">\n",
       "      <th></th>\n",
       "      <th>Count_1</th>\n",
       "      <th>Count_0</th>\n",
       "    </tr>\n",
       "  </thead>\n",
       "  <tbody>\n",
       "    <tr>\n",
       "      <th>D</th>\n",
       "      <td>382.0</td>\n",
       "      <td>6518</td>\n",
       "    </tr>\n",
       "    <tr>\n",
       "      <th>L</th>\n",
       "      <td>354.0</td>\n",
       "      <td>8363</td>\n",
       "    </tr>\n",
       "    <tr>\n",
       "      <th>A</th>\n",
       "      <td>554.0</td>\n",
       "      <td>11056</td>\n",
       "    </tr>\n",
       "    <tr>\n",
       "      <th>S</th>\n",
       "      <td>329.0</td>\n",
       "      <td>7647</td>\n",
       "    </tr>\n",
       "    <tr>\n",
       "      <th>R</th>\n",
       "      <td>218.0</td>\n",
       "      <td>2852</td>\n",
       "    </tr>\n",
       "    <tr>\n",
       "      <th>E</th>\n",
       "      <td>467.0</td>\n",
       "      <td>7472</td>\n",
       "    </tr>\n",
       "    <tr>\n",
       "      <th>K</th>\n",
       "      <td>442.0</td>\n",
       "      <td>8286</td>\n",
       "    </tr>\n",
       "    <tr>\n",
       "      <th>Q</th>\n",
       "      <td>261.0</td>\n",
       "      <td>4860</td>\n",
       "    </tr>\n",
       "    <tr>\n",
       "      <th>G</th>\n",
       "      <td>83.0</td>\n",
       "      <td>5362</td>\n",
       "    </tr>\n",
       "    <tr>\n",
       "      <th>V</th>\n",
       "      <td>106.0</td>\n",
       "      <td>5860</td>\n",
       "    </tr>\n",
       "    <tr>\n",
       "      <th>N</th>\n",
       "      <td>171.0</td>\n",
       "      <td>5227</td>\n",
       "    </tr>\n",
       "    <tr>\n",
       "      <th>I</th>\n",
       "      <td>145.0</td>\n",
       "      <td>4646</td>\n",
       "    </tr>\n",
       "    <tr>\n",
       "      <th>T</th>\n",
       "      <td>279.0</td>\n",
       "      <td>7057</td>\n",
       "    </tr>\n",
       "    <tr>\n",
       "      <th>P</th>\n",
       "      <td>102.0</td>\n",
       "      <td>4079</td>\n",
       "    </tr>\n",
       "    <tr>\n",
       "      <th>H</th>\n",
       "      <td>30.0</td>\n",
       "      <td>1792</td>\n",
       "    </tr>\n",
       "    <tr>\n",
       "      <th>Y</th>\n",
       "      <td>34.0</td>\n",
       "      <td>2964</td>\n",
       "    </tr>\n",
       "    <tr>\n",
       "      <th>F</th>\n",
       "      <td>10.0</td>\n",
       "      <td>2617</td>\n",
       "    </tr>\n",
       "    <tr>\n",
       "      <th>W</th>\n",
       "      <td>8.0</td>\n",
       "      <td>609</td>\n",
       "    </tr>\n",
       "    <tr>\n",
       "      <th>M</th>\n",
       "      <td>34.0</td>\n",
       "      <td>1276</td>\n",
       "    </tr>\n",
       "    <tr>\n",
       "      <th>C</th>\n",
       "      <td>NaN</td>\n",
       "      <td>107</td>\n",
       "    </tr>\n",
       "  </tbody>\n",
       "</table>\n",
       "</div>"
      ],
      "text/plain": [
       "   Count_1  Count_0\n",
       "D    382.0     6518\n",
       "L    354.0     8363\n",
       "A    554.0    11056\n",
       "S    329.0     7647\n",
       "R    218.0     2852\n",
       "E    467.0     7472\n",
       "K    442.0     8286\n",
       "Q    261.0     4860\n",
       "G     83.0     5362\n",
       "V    106.0     5860\n",
       "N    171.0     5227\n",
       "I    145.0     4646\n",
       "T    279.0     7057\n",
       "P    102.0     4079\n",
       "H     30.0     1792\n",
       "Y     34.0     2964\n",
       "F     10.0     2617\n",
       "W      8.0      609\n",
       "M     34.0     1276\n",
       "C      NaN      107"
      ]
     },
     "execution_count": 61,
     "metadata": {},
     "output_type": "execute_result"
    }
   ],
   "source": [
    "new_class = pd.concat([a,b],axis=1)\n",
    "new_class"
   ]
  },
  {
   "cell_type": "code",
   "execution_count": 62,
   "id": "fb1af824",
   "metadata": {},
   "outputs": [],
   "source": [
    "# For class 1 , for \"C\" data is missing fill it with 0"
   ]
  },
  {
   "cell_type": "code",
   "execution_count": 63,
   "id": "25f74af7",
   "metadata": {},
   "outputs": [],
   "source": [
    "new_class.Count_1.fillna(0, inplace=True)\n",
    "new_class.Count_0.fillna(0, inplace=True)"
   ]
  },
  {
   "cell_type": "code",
   "execution_count": 64,
   "id": "dbef3332",
   "metadata": {},
   "outputs": [],
   "source": [
    "new_class['Count_1']=new_class['Count_1'].astype(int).astype(object)\n",
    "new_class['Count_0']=new_class['Count_0'].astype(int).astype(object)"
   ]
  },
  {
   "cell_type": "code",
   "execution_count": 65,
   "id": "705d69e4",
   "metadata": {},
   "outputs": [
    {
     "data": {
      "text/html": [
       "<div>\n",
       "<style scoped>\n",
       "    .dataframe tbody tr th:only-of-type {\n",
       "        vertical-align: middle;\n",
       "    }\n",
       "\n",
       "    .dataframe tbody tr th {\n",
       "        vertical-align: top;\n",
       "    }\n",
       "\n",
       "    .dataframe thead th {\n",
       "        text-align: right;\n",
       "    }\n",
       "</style>\n",
       "<table border=\"1\" class=\"dataframe\">\n",
       "  <thead>\n",
       "    <tr style=\"text-align: right;\">\n",
       "      <th></th>\n",
       "      <th>index</th>\n",
       "      <th>Count_1</th>\n",
       "      <th>Count_0</th>\n",
       "    </tr>\n",
       "  </thead>\n",
       "  <tbody>\n",
       "    <tr>\n",
       "      <th>0</th>\n",
       "      <td>A</td>\n",
       "      <td>554</td>\n",
       "      <td>11056</td>\n",
       "    </tr>\n",
       "    <tr>\n",
       "      <th>1</th>\n",
       "      <td>C</td>\n",
       "      <td>0</td>\n",
       "      <td>107</td>\n",
       "    </tr>\n",
       "    <tr>\n",
       "      <th>2</th>\n",
       "      <td>D</td>\n",
       "      <td>382</td>\n",
       "      <td>6518</td>\n",
       "    </tr>\n",
       "    <tr>\n",
       "      <th>3</th>\n",
       "      <td>E</td>\n",
       "      <td>467</td>\n",
       "      <td>7472</td>\n",
       "    </tr>\n",
       "    <tr>\n",
       "      <th>4</th>\n",
       "      <td>F</td>\n",
       "      <td>10</td>\n",
       "      <td>2617</td>\n",
       "    </tr>\n",
       "    <tr>\n",
       "      <th>5</th>\n",
       "      <td>G</td>\n",
       "      <td>83</td>\n",
       "      <td>5362</td>\n",
       "    </tr>\n",
       "    <tr>\n",
       "      <th>6</th>\n",
       "      <td>H</td>\n",
       "      <td>30</td>\n",
       "      <td>1792</td>\n",
       "    </tr>\n",
       "    <tr>\n",
       "      <th>7</th>\n",
       "      <td>I</td>\n",
       "      <td>145</td>\n",
       "      <td>4646</td>\n",
       "    </tr>\n",
       "    <tr>\n",
       "      <th>8</th>\n",
       "      <td>K</td>\n",
       "      <td>442</td>\n",
       "      <td>8286</td>\n",
       "    </tr>\n",
       "    <tr>\n",
       "      <th>9</th>\n",
       "      <td>L</td>\n",
       "      <td>354</td>\n",
       "      <td>8363</td>\n",
       "    </tr>\n",
       "    <tr>\n",
       "      <th>10</th>\n",
       "      <td>M</td>\n",
       "      <td>34</td>\n",
       "      <td>1276</td>\n",
       "    </tr>\n",
       "    <tr>\n",
       "      <th>11</th>\n",
       "      <td>N</td>\n",
       "      <td>171</td>\n",
       "      <td>5227</td>\n",
       "    </tr>\n",
       "    <tr>\n",
       "      <th>12</th>\n",
       "      <td>P</td>\n",
       "      <td>102</td>\n",
       "      <td>4079</td>\n",
       "    </tr>\n",
       "    <tr>\n",
       "      <th>13</th>\n",
       "      <td>Q</td>\n",
       "      <td>261</td>\n",
       "      <td>4860</td>\n",
       "    </tr>\n",
       "    <tr>\n",
       "      <th>14</th>\n",
       "      <td>R</td>\n",
       "      <td>218</td>\n",
       "      <td>2852</td>\n",
       "    </tr>\n",
       "    <tr>\n",
       "      <th>15</th>\n",
       "      <td>S</td>\n",
       "      <td>329</td>\n",
       "      <td>7647</td>\n",
       "    </tr>\n",
       "    <tr>\n",
       "      <th>16</th>\n",
       "      <td>T</td>\n",
       "      <td>279</td>\n",
       "      <td>7057</td>\n",
       "    </tr>\n",
       "    <tr>\n",
       "      <th>17</th>\n",
       "      <td>V</td>\n",
       "      <td>106</td>\n",
       "      <td>5860</td>\n",
       "    </tr>\n",
       "    <tr>\n",
       "      <th>18</th>\n",
       "      <td>W</td>\n",
       "      <td>8</td>\n",
       "      <td>609</td>\n",
       "    </tr>\n",
       "    <tr>\n",
       "      <th>19</th>\n",
       "      <td>Y</td>\n",
       "      <td>34</td>\n",
       "      <td>2964</td>\n",
       "    </tr>\n",
       "  </tbody>\n",
       "</table>\n",
       "</div>"
      ],
      "text/plain": [
       "   index Count_1 Count_0\n",
       "0      A     554   11056\n",
       "1      C       0     107\n",
       "2      D     382    6518\n",
       "3      E     467    7472\n",
       "4      F      10    2617\n",
       "5      G      83    5362\n",
       "6      H      30    1792\n",
       "7      I     145    4646\n",
       "8      K     442    8286\n",
       "9      L     354    8363\n",
       "10     M      34    1276\n",
       "11     N     171    5227\n",
       "12     P     102    4079\n",
       "13     Q     261    4860\n",
       "14     R     218    2852\n",
       "15     S     329    7647\n",
       "16     T     279    7057\n",
       "17     V     106    5860\n",
       "18     W       8     609\n",
       "19     Y      34    2964"
      ]
     },
     "execution_count": 65,
     "metadata": {},
     "output_type": "execute_result"
    }
   ],
   "source": [
    "new_class.sort_index(ascending=True,inplace=True)\n",
    "new_class.reset_index(level=0, inplace=True)\n",
    "new_class"
   ]
  },
  {
   "cell_type": "code",
   "execution_count": 66,
   "id": "72698a7f",
   "metadata": {},
   "outputs": [],
   "source": [
    "pos_lst=[]\n",
    "for positive_negative in range(len(new_class.Count_1)): \n",
    "    pos_lst.append((new_class.Count_1[positive_negative] / (new_class.Count_1[positive_negative]+new_class.Count_0[positive_negative])) *100)"
   ]
  },
  {
   "cell_type": "code",
   "execution_count": 67,
   "id": "e35afc99",
   "metadata": {},
   "outputs": [
    {
     "data": {
      "text/plain": [
       "[4.771748492678726,\n",
       " 0.0,\n",
       " 5.536231884057971,\n",
       " 5.88235294117647,\n",
       " 0.3806623524933384,\n",
       " 1.5243342516069789,\n",
       " 1.646542261251372,\n",
       " 3.026508035900647,\n",
       " 5.064161319890009,\n",
       " 4.061030170930366,\n",
       " 2.595419847328244,\n",
       " 3.167839940718785,\n",
       " 2.439607749342263,\n",
       " 5.0966608084358525,\n",
       " 7.100977198697069,\n",
       " 4.124874623871615,\n",
       " 3.8031624863685933,\n",
       " 1.7767348307073418,\n",
       " 1.2965964343598055,\n",
       " 1.134089392928619]"
      ]
     },
     "execution_count": 67,
     "metadata": {},
     "output_type": "execute_result"
    }
   ],
   "source": [
    "pos_lst"
   ]
  },
  {
   "cell_type": "code",
   "execution_count": 68,
   "id": "92edcdda",
   "metadata": {},
   "outputs": [],
   "source": [
    "neg_lst=[]\n",
    "for positive_negative in range(len(new_class.Count_1)): \n",
    "    neg_lst.append((new_class.Count_0[positive_negative] / (new_class.Count_1[positive_negative]+new_class.Count_0[positive_negative])) *100)"
   ]
  },
  {
   "cell_type": "code",
   "execution_count": 69,
   "id": "6fd9f73b",
   "metadata": {},
   "outputs": [
    {
     "data": {
      "text/plain": [
       "[95.22825150732127,\n",
       " 100.0,\n",
       " 94.46376811594203,\n",
       " 94.11764705882352,\n",
       " 99.61933764750665,\n",
       " 98.47566574839303,\n",
       " 98.35345773874863,\n",
       " 96.97349196409935,\n",
       " 94.93583868011,\n",
       " 95.93896982906963,\n",
       " 97.40458015267176,\n",
       " 96.83216005928121,\n",
       " 97.56039225065774,\n",
       " 94.90333919156416,\n",
       " 92.89902280130293,\n",
       " 95.8751253761284,\n",
       " 96.19683751363141,\n",
       " 98.22326516929266,\n",
       " 98.70340356564019,\n",
       " 98.86591060707138]"
      ]
     },
     "execution_count": 69,
     "metadata": {},
     "output_type": "execute_result"
    }
   ],
   "source": [
    "neg_lst"
   ]
  },
  {
   "cell_type": "code",
   "execution_count": 70,
   "id": "bf68912e",
   "metadata": {},
   "outputs": [],
   "source": [
    "new_class['Positive_class'] = pos_lst\n",
    "new_class['Negative_class'] = neg_lst"
   ]
  },
  {
   "cell_type": "code",
   "execution_count": 71,
   "id": "7f5b1f97",
   "metadata": {},
   "outputs": [
    {
     "data": {
      "text/html": [
       "<div>\n",
       "<style scoped>\n",
       "    .dataframe tbody tr th:only-of-type {\n",
       "        vertical-align: middle;\n",
       "    }\n",
       "\n",
       "    .dataframe tbody tr th {\n",
       "        vertical-align: top;\n",
       "    }\n",
       "\n",
       "    .dataframe thead th {\n",
       "        text-align: right;\n",
       "    }\n",
       "</style>\n",
       "<table border=\"1\" class=\"dataframe\">\n",
       "  <thead>\n",
       "    <tr style=\"text-align: right;\">\n",
       "      <th></th>\n",
       "      <th>index</th>\n",
       "      <th>Count_1</th>\n",
       "      <th>Count_0</th>\n",
       "      <th>Positive_class</th>\n",
       "      <th>Negative_class</th>\n",
       "    </tr>\n",
       "  </thead>\n",
       "  <tbody>\n",
       "    <tr>\n",
       "      <th>0</th>\n",
       "      <td>A</td>\n",
       "      <td>554</td>\n",
       "      <td>11056</td>\n",
       "      <td>4.77</td>\n",
       "      <td>95.23</td>\n",
       "    </tr>\n",
       "    <tr>\n",
       "      <th>1</th>\n",
       "      <td>C</td>\n",
       "      <td>0</td>\n",
       "      <td>107</td>\n",
       "      <td>0.00</td>\n",
       "      <td>100.00</td>\n",
       "    </tr>\n",
       "    <tr>\n",
       "      <th>2</th>\n",
       "      <td>D</td>\n",
       "      <td>382</td>\n",
       "      <td>6518</td>\n",
       "      <td>5.54</td>\n",
       "      <td>94.46</td>\n",
       "    </tr>\n",
       "    <tr>\n",
       "      <th>3</th>\n",
       "      <td>E</td>\n",
       "      <td>467</td>\n",
       "      <td>7472</td>\n",
       "      <td>5.88</td>\n",
       "      <td>94.12</td>\n",
       "    </tr>\n",
       "    <tr>\n",
       "      <th>4</th>\n",
       "      <td>F</td>\n",
       "      <td>10</td>\n",
       "      <td>2617</td>\n",
       "      <td>0.38</td>\n",
       "      <td>99.62</td>\n",
       "    </tr>\n",
       "    <tr>\n",
       "      <th>5</th>\n",
       "      <td>G</td>\n",
       "      <td>83</td>\n",
       "      <td>5362</td>\n",
       "      <td>1.52</td>\n",
       "      <td>98.48</td>\n",
       "    </tr>\n",
       "    <tr>\n",
       "      <th>6</th>\n",
       "      <td>H</td>\n",
       "      <td>30</td>\n",
       "      <td>1792</td>\n",
       "      <td>1.65</td>\n",
       "      <td>98.35</td>\n",
       "    </tr>\n",
       "    <tr>\n",
       "      <th>7</th>\n",
       "      <td>I</td>\n",
       "      <td>145</td>\n",
       "      <td>4646</td>\n",
       "      <td>3.03</td>\n",
       "      <td>96.97</td>\n",
       "    </tr>\n",
       "    <tr>\n",
       "      <th>8</th>\n",
       "      <td>K</td>\n",
       "      <td>442</td>\n",
       "      <td>8286</td>\n",
       "      <td>5.06</td>\n",
       "      <td>94.94</td>\n",
       "    </tr>\n",
       "    <tr>\n",
       "      <th>9</th>\n",
       "      <td>L</td>\n",
       "      <td>354</td>\n",
       "      <td>8363</td>\n",
       "      <td>4.06</td>\n",
       "      <td>95.94</td>\n",
       "    </tr>\n",
       "    <tr>\n",
       "      <th>10</th>\n",
       "      <td>M</td>\n",
       "      <td>34</td>\n",
       "      <td>1276</td>\n",
       "      <td>2.60</td>\n",
       "      <td>97.40</td>\n",
       "    </tr>\n",
       "    <tr>\n",
       "      <th>11</th>\n",
       "      <td>N</td>\n",
       "      <td>171</td>\n",
       "      <td>5227</td>\n",
       "      <td>3.17</td>\n",
       "      <td>96.83</td>\n",
       "    </tr>\n",
       "    <tr>\n",
       "      <th>12</th>\n",
       "      <td>P</td>\n",
       "      <td>102</td>\n",
       "      <td>4079</td>\n",
       "      <td>2.44</td>\n",
       "      <td>97.56</td>\n",
       "    </tr>\n",
       "    <tr>\n",
       "      <th>13</th>\n",
       "      <td>Q</td>\n",
       "      <td>261</td>\n",
       "      <td>4860</td>\n",
       "      <td>5.10</td>\n",
       "      <td>94.90</td>\n",
       "    </tr>\n",
       "    <tr>\n",
       "      <th>14</th>\n",
       "      <td>R</td>\n",
       "      <td>218</td>\n",
       "      <td>2852</td>\n",
       "      <td>7.10</td>\n",
       "      <td>92.90</td>\n",
       "    </tr>\n",
       "    <tr>\n",
       "      <th>15</th>\n",
       "      <td>S</td>\n",
       "      <td>329</td>\n",
       "      <td>7647</td>\n",
       "      <td>4.12</td>\n",
       "      <td>95.88</td>\n",
       "    </tr>\n",
       "    <tr>\n",
       "      <th>16</th>\n",
       "      <td>T</td>\n",
       "      <td>279</td>\n",
       "      <td>7057</td>\n",
       "      <td>3.80</td>\n",
       "      <td>96.20</td>\n",
       "    </tr>\n",
       "    <tr>\n",
       "      <th>17</th>\n",
       "      <td>V</td>\n",
       "      <td>106</td>\n",
       "      <td>5860</td>\n",
       "      <td>1.78</td>\n",
       "      <td>98.22</td>\n",
       "    </tr>\n",
       "    <tr>\n",
       "      <th>18</th>\n",
       "      <td>W</td>\n",
       "      <td>8</td>\n",
       "      <td>609</td>\n",
       "      <td>1.30</td>\n",
       "      <td>98.70</td>\n",
       "    </tr>\n",
       "    <tr>\n",
       "      <th>19</th>\n",
       "      <td>Y</td>\n",
       "      <td>34</td>\n",
       "      <td>2964</td>\n",
       "      <td>1.13</td>\n",
       "      <td>98.87</td>\n",
       "    </tr>\n",
       "  </tbody>\n",
       "</table>\n",
       "</div>"
      ],
      "text/plain": [
       "   index Count_1 Count_0  Positive_class  Negative_class\n",
       "0      A     554   11056            4.77           95.23\n",
       "1      C       0     107            0.00          100.00\n",
       "2      D     382    6518            5.54           94.46\n",
       "3      E     467    7472            5.88           94.12\n",
       "4      F      10    2617            0.38           99.62\n",
       "5      G      83    5362            1.52           98.48\n",
       "6      H      30    1792            1.65           98.35\n",
       "7      I     145    4646            3.03           96.97\n",
       "8      K     442    8286            5.06           94.94\n",
       "9      L     354    8363            4.06           95.94\n",
       "10     M      34    1276            2.60           97.40\n",
       "11     N     171    5227            3.17           96.83\n",
       "12     P     102    4079            2.44           97.56\n",
       "13     Q     261    4860            5.10           94.90\n",
       "14     R     218    2852            7.10           92.90\n",
       "15     S     329    7647            4.12           95.88\n",
       "16     T     279    7057            3.80           96.20\n",
       "17     V     106    5860            1.78           98.22\n",
       "18     W       8     609            1.30           98.70\n",
       "19     Y      34    2964            1.13           98.87"
      ]
     },
     "execution_count": 71,
     "metadata": {},
     "output_type": "execute_result"
    }
   ],
   "source": [
    "new_class=round(new_class,2)\n",
    "new_class"
   ]
  },
  {
   "cell_type": "code",
   "execution_count": 118,
   "id": "37e87657",
   "metadata": {},
   "outputs": [
    {
     "data": {
      "image/png": "[encoded data removed]",
      "text/plain": [
       "<Figure size 1080x576 with 1 Axes>"
      ]
     },
     "metadata": {
      "needs_background": "light"
     },
     "output_type": "display_data"
    }
   ],
   "source": [
    "ax = new_class[['Positive_class','Negative_class']].plot(kind='bar', title =\"Grouped bar chart of the frequencies (%)\", figsize=(15, 8), legend=True, fontsize=12)\n",
    "num_data = len(new_class[\"index\"])\n",
    "ax.xlabel=new_class[\"index\"]\n",
    "ax.set_xlabel(\"Character Denotion\")\n",
    "ax.set_ylabel(\"Percentage by words Positive and Negative\", fontsize=12)\n",
    "plt.xticks(range(num_data), labels , rotation=45)\n",
    "for c in ax.containers:\n",
    "    # annotate the container group\n",
    "    ax.bar_label(c, label_type='edge')\n",
    "plt.show()"
   ]
  },
  {
   "cell_type": "code",
   "execution_count": null,
   "id": "3a567def",
   "metadata": {},
   "outputs": [],
   "source": []
  }
 ],
 "metadata": {
  "kernelspec": {
   "display_name": "Python 3 (ipykernel)",
   "language": "python",
   "name": "python3"
  },
  "language_info": {
   "codemirror_mode": {
    "name": "ipython",
    "version": 3
   },
   "file_extension": ".py",
   "mimetype": "text/x-python",
   "name": "python",
   "nbconvert_exporter": "python",
   "pygments_lexer": "ipython3",
   "version": "3.9.7"
  }
 },
 "nbformat": 4,
 "nbformat_minor": 5
}
