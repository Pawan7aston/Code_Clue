{
 "cells": [
  {
   "cell_type": "code",
   "execution_count": 1,
   "id": "6173ea0e",
   "metadata": {},
   "outputs": [],
   "source": [
    "import numpy as np\n",
    "import pandas as pd"
   ]
  },
  {
   "cell_type": "code",
   "execution_count": 2,
   "id": "05b4f1a7",
   "metadata": {},
   "outputs": [
    {
     "name": "stdout",
     "output_type": "stream",
     "text": [
      "Assignment Brief AM41DP(1).pdf  Sp_epitopes.csv\r\n",
      "Aston_coursework_file.ipynb     proteins.csv\r\n"
     ]
    }
   ],
   "source": [
    "ls"
   ]
  },
  {
   "cell_type": "code",
   "execution_count": 3,
   "id": "a6444061",
   "metadata": {},
   "outputs": [
    {
     "name": "stdout",
     "output_type": "stream",
     "text": [
      "Assignment Brief AM41DP(1).pdf  Sp_epitopes.csv\r\n",
      "Aston_coursework_file.ipynb     proteins.csv\r\n"
     ]
    }
   ],
   "source": [
    "ls"
   ]
  },
  {
   "cell_type": "code",
   "execution_count": 4,
   "id": "7bc75acf",
   "metadata": {},
   "outputs": [],
   "source": [
    "prot_file = pd.read_csv(\"proteins.csv\")\n",
    "sp_file = pd.read_csv(\"Sp_epitopes.csv\")"
   ]
  },
  {
   "cell_type": "markdown",
   "id": "693560f7",
   "metadata": {},
   "source": [
    "# A short summary of the dataset\n",
    "## M1\n",
    "    - Data cleaning and data insights from given two dataset"
   ]
  },
  {
   "cell_type": "code",
   "execution_count": 5,
   "id": "4bba3407",
   "metadata": {},
   "outputs": [],
   "source": [
    "# Shape of the file for each file"
   ]
  },
  {
   "cell_type": "code",
   "execution_count": 6,
   "id": "aea2d12a",
   "metadata": {},
   "outputs": [
    {
     "data": {
      "text/plain": [
       "(14194, 10)"
      ]
     },
     "execution_count": 6,
     "metadata": {},
     "output_type": "execute_result"
    }
   ],
   "source": [
    "prot_file.shape"
   ]
  },
  {
   "cell_type": "code",
   "execution_count": 7,
   "id": "a590b0c5",
   "metadata": {},
   "outputs": [
    {
     "data": {
      "text/plain": [
       "(7105, 18)"
      ]
     },
     "execution_count": 7,
     "metadata": {},
     "output_type": "execute_result"
    }
   ],
   "source": [
    "sp_file.shape"
   ]
  },
  {
   "cell_type": "code",
   "execution_count": 8,
   "id": "bd9edb4e",
   "metadata": {},
   "outputs": [],
   "source": [
    "# Check for any null value in the file"
   ]
  },
  {
   "cell_type": "code",
   "execution_count": 9,
   "id": "f3e7995c",
   "metadata": {},
   "outputs": [
    {
     "data": {
      "text/plain": [
       "TSeq_seqtype         0\n",
       "TSeq_accver        209\n",
       "TSeq_taxid           0\n",
       "TSeq_orgname         0\n",
       "TSeq_defline         0\n",
       "TSeq_length          0\n",
       "TSeq_sequence        0\n",
       "UID                  0\n",
       "DB                   0\n",
       "TSeq_sid         12958\n",
       "dtype: int64"
      ]
     },
     "execution_count": 9,
     "metadata": {},
     "output_type": "execute_result"
    }
   ],
   "source": [
    "prot_file.isnull().sum()"
   ]
  },
  {
   "cell_type": "markdown",
   "id": "d2ef073a",
   "metadata": {},
   "source": [
    "- From above description it mentioned  **TSeq_accver**  and  **TSeq_sid**  have null values in it."
   ]
  },
  {
   "cell_type": "code",
   "execution_count": 10,
   "id": "9b2068f1",
   "metadata": {},
   "outputs": [
    {
     "data": {
      "text/plain": [
       "pubmed_id         0\n",
       "year              0\n",
       "epit_name         0\n",
       "epitope_id        0\n",
       "evid_code         1\n",
       "epit_struc_def    0\n",
       "sourceOrg_id      0\n",
       "protein_id        0\n",
       "epit_seq          0\n",
       "start_pos         0\n",
       "end_pos           0\n",
       "n_assays          0\n",
       "host_id           0\n",
       "bcell_id          0\n",
       "assay_type        0\n",
       "n_Positive        0\n",
       "n_Negative        0\n",
       "assay_class       0\n",
       "dtype: int64"
      ]
     },
     "execution_count": 10,
     "metadata": {},
     "output_type": "execute_result"
    }
   ],
   "source": [
    "sp_file.isnull().sum()"
   ]
  },
  {
   "cell_type": "code",
   "execution_count": 11,
   "id": "0370abbb",
   "metadata": {},
   "outputs": [],
   "source": [
    "# Info for each dataset"
   ]
  },
  {
   "cell_type": "code",
   "execution_count": 12,
   "id": "d7798987",
   "metadata": {},
   "outputs": [
    {
     "name": "stdout",
     "output_type": "stream",
     "text": [
      "<class 'pandas.core.frame.DataFrame'>\n",
      "RangeIndex: 14194 entries, 0 to 14193\n",
      "Data columns (total 10 columns):\n",
      " #   Column         Non-Null Count  Dtype \n",
      "---  ------         --------------  ----- \n",
      " 0   TSeq_seqtype   14194 non-null  object\n",
      " 1   TSeq_accver    13985 non-null  object\n",
      " 2   TSeq_taxid     14194 non-null  int64 \n",
      " 3   TSeq_orgname   14194 non-null  object\n",
      " 4   TSeq_defline   14194 non-null  object\n",
      " 5   TSeq_length    14194 non-null  int64 \n",
      " 6   TSeq_sequence  14194 non-null  object\n",
      " 7   UID            14194 non-null  object\n",
      " 8   DB             14194 non-null  object\n",
      " 9   TSeq_sid       1236 non-null   object\n",
      "dtypes: int64(2), object(8)\n",
      "memory usage: 1.1+ MB\n"
     ]
    }
   ],
   "source": [
    "prot_file.info()"
   ]
  },
  {
   "cell_type": "code",
   "execution_count": 13,
   "id": "ae7a0abf",
   "metadata": {},
   "outputs": [
    {
     "name": "stdout",
     "output_type": "stream",
     "text": [
      "<class 'pandas.core.frame.DataFrame'>\n",
      "RangeIndex: 7105 entries, 0 to 7104\n",
      "Data columns (total 18 columns):\n",
      " #   Column          Non-Null Count  Dtype \n",
      "---  ------          --------------  ----- \n",
      " 0   pubmed_id       7105 non-null   int64 \n",
      " 1   year            7105 non-null   int64 \n",
      " 2   epit_name       7105 non-null   object\n",
      " 3   epitope_id      7105 non-null   int64 \n",
      " 4   evid_code       7104 non-null   object\n",
      " 5   epit_struc_def  7105 non-null   object\n",
      " 6   sourceOrg_id    7105 non-null   int64 \n",
      " 7   protein_id      7105 non-null   object\n",
      " 8   epit_seq        7105 non-null   object\n",
      " 9   start_pos       7105 non-null   int64 \n",
      " 10  end_pos         7105 non-null   int64 \n",
      " 11  n_assays        7105 non-null   int64 \n",
      " 12  host_id         7105 non-null   object\n",
      " 13  bcell_id        7105 non-null   object\n",
      " 14  assay_type      7105 non-null   object\n",
      " 15  n_Positive      7105 non-null   int64 \n",
      " 16  n_Negative      7105 non-null   int64 \n",
      " 17  assay_class     7105 non-null   object\n",
      "dtypes: int64(9), object(9)\n",
      "memory usage: 999.3+ KB\n"
     ]
    }
   ],
   "source": [
    "sp_file.info()"
   ]
  },
  {
   "cell_type": "markdown",
   "id": "dbb28583",
   "metadata": {},
   "source": [
    "- From above two dataset it is clear that data set have missing values in it ."
   ]
  },
  {
   "cell_type": "code",
   "execution_count": 14,
   "id": "39054cdc",
   "metadata": {},
   "outputs": [],
   "source": [
    "# Describe the two dataset for all numerical attributes"
   ]
  },
  {
   "cell_type": "code",
   "execution_count": 15,
   "id": "8611d9ad",
   "metadata": {},
   "outputs": [
    {
     "data": {
      "text/html": [
       "<div>\n",
       "<style scoped>\n",
       "    .dataframe tbody tr th:only-of-type {\n",
       "        vertical-align: middle;\n",
       "    }\n",
       "\n",
       "    .dataframe tbody tr th {\n",
       "        vertical-align: top;\n",
       "    }\n",
       "\n",
       "    .dataframe thead th {\n",
       "        text-align: right;\n",
       "    }\n",
       "</style>\n",
       "<table border=\"1\" class=\"dataframe\">\n",
       "  <thead>\n",
       "    <tr style=\"text-align: right;\">\n",
       "      <th></th>\n",
       "      <th>TSeq_taxid</th>\n",
       "      <th>TSeq_length</th>\n",
       "    </tr>\n",
       "  </thead>\n",
       "  <tbody>\n",
       "    <tr>\n",
       "      <th>count</th>\n",
       "      <td>1.419400e+04</td>\n",
       "      <td>14194.000000</td>\n",
       "    </tr>\n",
       "    <tr>\n",
       "      <th>mean</th>\n",
       "      <td>7.125339e+04</td>\n",
       "      <td>731.372974</td>\n",
       "    </tr>\n",
       "    <tr>\n",
       "      <th>std</th>\n",
       "      <td>2.240602e+05</td>\n",
       "      <td>984.979330</td>\n",
       "    </tr>\n",
       "    <tr>\n",
       "      <th>min</th>\n",
       "      <td>0.000000e+00</td>\n",
       "      <td>9.000000</td>\n",
       "    </tr>\n",
       "    <tr>\n",
       "      <th>25%</th>\n",
       "      <td>9.606000e+03</td>\n",
       "      <td>266.000000</td>\n",
       "    </tr>\n",
       "    <tr>\n",
       "      <th>50%</th>\n",
       "      <td>9.606000e+03</td>\n",
       "      <td>468.000000</td>\n",
       "    </tr>\n",
       "    <tr>\n",
       "      <th>75%</th>\n",
       "      <td>1.114900e+04</td>\n",
       "      <td>833.000000</td>\n",
       "    </tr>\n",
       "    <tr>\n",
       "      <th>max</th>\n",
       "      <td>2.768764e+06</td>\n",
       "      <td>35991.000000</td>\n",
       "    </tr>\n",
       "  </tbody>\n",
       "</table>\n",
       "</div>"
      ],
      "text/plain": [
       "         TSeq_taxid   TSeq_length\n",
       "count  1.419400e+04  14194.000000\n",
       "mean   7.125339e+04    731.372974\n",
       "std    2.240602e+05    984.979330\n",
       "min    0.000000e+00      9.000000\n",
       "25%    9.606000e+03    266.000000\n",
       "50%    9.606000e+03    468.000000\n",
       "75%    1.114900e+04    833.000000\n",
       "max    2.768764e+06  35991.000000"
      ]
     },
     "execution_count": 15,
     "metadata": {},
     "output_type": "execute_result"
    }
   ],
   "source": [
    "prot_file.describe()"
   ]
  },
  {
   "cell_type": "code",
   "execution_count": 16,
   "id": "1a66d956",
   "metadata": {},
   "outputs": [
    {
     "data": {
      "text/plain": [
       "Index(['TSeq_seqtype', 'TSeq_accver', 'TSeq_taxid', 'TSeq_orgname',\n",
       "       'TSeq_defline', 'TSeq_length', 'TSeq_sequence', 'UID', 'DB',\n",
       "       'TSeq_sid'],\n",
       "      dtype='object')"
      ]
     },
     "execution_count": 16,
     "metadata": {},
     "output_type": "execute_result"
    }
   ],
   "source": [
    "prot_file.columns"
   ]
  },
  {
   "cell_type": "code",
   "execution_count": 17,
   "id": "58c19777",
   "metadata": {},
   "outputs": [
    {
     "data": {
      "text/plain": [
       "Index(['pubmed_id', 'year', 'epit_name', 'epitope_id', 'evid_code',\n",
       "       'epit_struc_def', 'sourceOrg_id', 'protein_id', 'epit_seq', 'start_pos',\n",
       "       'end_pos', 'n_assays', 'host_id', 'bcell_id', 'assay_type',\n",
       "       'n_Positive', 'n_Negative', 'assay_class'],\n",
       "      dtype='object')"
      ]
     },
     "execution_count": 17,
     "metadata": {},
     "output_type": "execute_result"
    }
   ],
   "source": [
    "sp_file.columns"
   ]
  },
  {
   "cell_type": "code",
   "execution_count": 18,
   "id": "fb9090d2",
   "metadata": {},
   "outputs": [
    {
     "data": {
      "text/html": [
       "<div>\n",
       "<style scoped>\n",
       "    .dataframe tbody tr th:only-of-type {\n",
       "        vertical-align: middle;\n",
       "    }\n",
       "\n",
       "    .dataframe tbody tr th {\n",
       "        vertical-align: top;\n",
       "    }\n",
       "\n",
       "    .dataframe thead th {\n",
       "        text-align: right;\n",
       "    }\n",
       "</style>\n",
       "<table border=\"1\" class=\"dataframe\">\n",
       "  <thead>\n",
       "    <tr style=\"text-align: right;\">\n",
       "      <th></th>\n",
       "      <th>pubmed_id</th>\n",
       "      <th>year</th>\n",
       "      <th>epit_name</th>\n",
       "      <th>epitope_id</th>\n",
       "      <th>evid_code</th>\n",
       "      <th>epit_struc_def</th>\n",
       "      <th>sourceOrg_id</th>\n",
       "      <th>protein_id</th>\n",
       "      <th>epit_seq</th>\n",
       "      <th>start_pos</th>\n",
       "      <th>end_pos</th>\n",
       "      <th>n_assays</th>\n",
       "      <th>host_id</th>\n",
       "      <th>bcell_id</th>\n",
       "      <th>assay_type</th>\n",
       "      <th>n_Positive</th>\n",
       "      <th>n_Negative</th>\n",
       "      <th>assay_class</th>\n",
       "    </tr>\n",
       "  </thead>\n",
       "  <tbody>\n",
       "    <tr>\n",
       "      <th>0</th>\n",
       "      <td>7678505</td>\n",
       "      <td>1993</td>\n",
       "      <td>SK (42-49)</td>\n",
       "      <td>114463</td>\n",
       "      <td>Representative selection</td>\n",
       "      <td>Exact Epitope</td>\n",
       "      <td>1314</td>\n",
       "      <td>AAB20743.1</td>\n",
       "      <td>LTSRPAHG</td>\n",
       "      <td>42</td>\n",
       "      <td>49</td>\n",
       "      <td>2</td>\n",
       "      <td>96,069,606</td>\n",
       "      <td>16,746,431,674,584</td>\n",
       "      <td>34,34</td>\n",
       "      <td>2</td>\n",
       "      <td>0</td>\n",
       "      <td>1,1</td>\n",
       "    </tr>\n",
       "    <tr>\n",
       "      <th>1</th>\n",
       "      <td>26911649</td>\n",
       "      <td>2016</td>\n",
       "      <td>spy0469 P197</td>\n",
       "      <td>510898</td>\n",
       "      <td>Representative selection</td>\n",
       "      <td>Epitope containing region/antigenic site</td>\n",
       "      <td>1314</td>\n",
       "      <td>AAfK33481.1</td>\n",
       "      <td>AETTEVEPKTDISEA</td>\n",
       "      <td>197</td>\n",
       "      <td>211</td>\n",
       "      <td>1</td>\n",
       "      <td>9606</td>\n",
       "      <td>2728090</td>\n",
       "      <td>550</td>\n",
       "      <td>0</td>\n",
       "      <td>1</td>\n",
       "      <td>-1</td>\n",
       "    </tr>\n",
       "    <tr>\n",
       "      <th>2</th>\n",
       "      <td>26911649</td>\n",
       "      <td>2016</td>\n",
       "      <td>spy0469 P14</td>\n",
       "      <td>511327</td>\n",
       "      <td>Representative selection</td>\n",
       "      <td>Epitope containing region/antigenic site</td>\n",
       "      <td>1314</td>\n",
       "      <td>AAK33481.1</td>\n",
       "      <td>ALSLVPLATAQAQEW</td>\n",
       "      <td>14</td>\n",
       "      <td>28</td>\n",
       "      <td>1</td>\n",
       "      <td>9606</td>\n",
       "      <td>2727907</td>\n",
       "      <td>550</td>\n",
       "      <td>0</td>\n",
       "      <td>1</td>\n",
       "      <td>-1</td>\n",
       "    </tr>\n",
       "  </tbody>\n",
       "</table>\n",
       "</div>"
      ],
      "text/plain": [
       "   pubmed_id  year     epit_name  epitope_id                 evid_code  \\\n",
       "0    7678505  1993    SK (42-49)      114463  Representative selection   \n",
       "1   26911649  2016  spy0469 P197      510898  Representative selection   \n",
       "2   26911649  2016   spy0469 P14      511327  Representative selection   \n",
       "\n",
       "                             epit_struc_def  sourceOrg_id   protein_id  \\\n",
       "0                             Exact Epitope          1314   AAB20743.1   \n",
       "1  Epitope containing region/antigenic site          1314  AAfK33481.1   \n",
       "2  Epitope containing region/antigenic site          1314   AAK33481.1   \n",
       "\n",
       "          epit_seq  start_pos  end_pos  n_assays     host_id  \\\n",
       "0         LTSRPAHG         42       49         2  96,069,606   \n",
       "1  AETTEVEPKTDISEA        197      211         1        9606   \n",
       "2  ALSLVPLATAQAQEW         14       28         1        9606   \n",
       "\n",
       "             bcell_id assay_type  n_Positive  n_Negative assay_class  \n",
       "0  16,746,431,674,584      34,34           2           0         1,1  \n",
       "1             2728090        550           0           1          -1  \n",
       "2             2727907        550           0           1          -1  "
      ]
     },
     "execution_count": 18,
     "metadata": {},
     "output_type": "execute_result"
    }
   ],
   "source": [
    "sp_file.head(3)"
   ]
  },
  {
   "cell_type": "code",
   "execution_count": 19,
   "id": "df962bf4",
   "metadata": {},
   "outputs": [
    {
     "data": {
      "text/html": [
       "<div>\n",
       "<style scoped>\n",
       "    .dataframe tbody tr th:only-of-type {\n",
       "        vertical-align: middle;\n",
       "    }\n",
       "\n",
       "    .dataframe tbody tr th {\n",
       "        vertical-align: top;\n",
       "    }\n",
       "\n",
       "    .dataframe thead th {\n",
       "        text-align: right;\n",
       "    }\n",
       "</style>\n",
       "<table border=\"1\" class=\"dataframe\">\n",
       "  <thead>\n",
       "    <tr style=\"text-align: right;\">\n",
       "      <th></th>\n",
       "      <th>TSeq_seqtype</th>\n",
       "      <th>TSeq_accver</th>\n",
       "      <th>TSeq_taxid</th>\n",
       "      <th>TSeq_orgname</th>\n",
       "      <th>TSeq_defline</th>\n",
       "      <th>TSeq_length</th>\n",
       "      <th>TSeq_sequence</th>\n",
       "      <th>UID</th>\n",
       "      <th>DB</th>\n",
       "      <th>TSeq_sid</th>\n",
       "    </tr>\n",
       "  </thead>\n",
       "  <tbody>\n",
       "    <tr>\n",
       "      <th>0</th>\n",
       "      <td>protein</td>\n",
       "      <td>0704243A</td>\n",
       "      <td>11320</td>\n",
       "      <td>Influenza A virus</td>\n",
       "      <td>hemagglutinin HA1</td>\n",
       "      <td>328</td>\n",
       "      <td>EYLPGNDNSTATLCLGHHAVPNGTLVKTITNDQIEVTNATELVQSS...</td>\n",
       "      <td>0704243A</td>\n",
       "      <td>NCBI protein</td>\n",
       "      <td>NaN</td>\n",
       "    </tr>\n",
       "    <tr>\n",
       "      <th>1</th>\n",
       "      <td>protein</td>\n",
       "      <td>P06914.1</td>\n",
       "      <td>73239</td>\n",
       "      <td>Plasmodium yoelii yoelii</td>\n",
       "      <td>RecName: Full=Circumsporozoite protein; Short=...</td>\n",
       "      <td>367</td>\n",
       "      <td>MKKCTILVVASLLLVDSLLPGYGQNKSVQAQRNLNELCYNEENDNK...</td>\n",
       "      <td>P06914.1</td>\n",
       "      <td>NCBI protein</td>\n",
       "      <td>NaN</td>\n",
       "    </tr>\n",
       "    <tr>\n",
       "      <th>2</th>\n",
       "      <td>protein</td>\n",
       "      <td>P03449.2</td>\n",
       "      <td>383586</td>\n",
       "      <td>Influenza A virus (A/Memphis/1/1971(H3N2))</td>\n",
       "      <td>RecName: Full=Hemagglutinin; Contains: RecName...</td>\n",
       "      <td>566</td>\n",
       "      <td>MKTIIALSHIFCLVLGQYLPGNDNSTATLCLGHHAVPNGTLVKTIT...</td>\n",
       "      <td>P03449.2</td>\n",
       "      <td>NCBI protein</td>\n",
       "      <td>NaN</td>\n",
       "    </tr>\n",
       "  </tbody>\n",
       "</table>\n",
       "</div>"
      ],
      "text/plain": [
       "  TSeq_seqtype TSeq_accver  TSeq_taxid  \\\n",
       "0      protein    0704243A       11320   \n",
       "1      protein    P06914.1       73239   \n",
       "2      protein    P03449.2      383586   \n",
       "\n",
       "                                 TSeq_orgname  \\\n",
       "0                           Influenza A virus   \n",
       "1                    Plasmodium yoelii yoelii   \n",
       "2  Influenza A virus (A/Memphis/1/1971(H3N2))   \n",
       "\n",
       "                                        TSeq_defline  TSeq_length  \\\n",
       "0                                  hemagglutinin HA1          328   \n",
       "1  RecName: Full=Circumsporozoite protein; Short=...          367   \n",
       "2  RecName: Full=Hemagglutinin; Contains: RecName...          566   \n",
       "\n",
       "                                       TSeq_sequence       UID            DB  \\\n",
       "0  EYLPGNDNSTATLCLGHHAVPNGTLVKTITNDQIEVTNATELVQSS...  0704243A  NCBI protein   \n",
       "1  MKKCTILVVASLLLVDSLLPGYGQNKSVQAQRNLNELCYNEENDNK...  P06914.1  NCBI protein   \n",
       "2  MKTIIALSHIFCLVLGQYLPGNDNSTATLCLGHHAVPNGTLVKTIT...  P03449.2  NCBI protein   \n",
       "\n",
       "  TSeq_sid  \n",
       "0      NaN  \n",
       "1      NaN  \n",
       "2      NaN  "
      ]
     },
     "execution_count": 19,
     "metadata": {},
     "output_type": "execute_result"
    }
   ],
   "source": [
    "prot_file.head(3)"
   ]
  },
  {
   "cell_type": "code",
   "execution_count": 20,
   "id": "9150e1a7",
   "metadata": {},
   "outputs": [
    {
     "data": {
      "text/html": [
       "<div>\n",
       "<style scoped>\n",
       "    .dataframe tbody tr th:only-of-type {\n",
       "        vertical-align: middle;\n",
       "    }\n",
       "\n",
       "    .dataframe tbody tr th {\n",
       "        vertical-align: top;\n",
       "    }\n",
       "\n",
       "    .dataframe thead th {\n",
       "        text-align: right;\n",
       "    }\n",
       "</style>\n",
       "<table border=\"1\" class=\"dataframe\">\n",
       "  <thead>\n",
       "    <tr style=\"text-align: right;\">\n",
       "      <th></th>\n",
       "      <th>pubmed_id</th>\n",
       "      <th>year</th>\n",
       "      <th>epitope_id</th>\n",
       "      <th>sourceOrg_id</th>\n",
       "      <th>start_pos</th>\n",
       "      <th>end_pos</th>\n",
       "      <th>n_assays</th>\n",
       "      <th>n_Positive</th>\n",
       "      <th>n_Negative</th>\n",
       "    </tr>\n",
       "  </thead>\n",
       "  <tbody>\n",
       "    <tr>\n",
       "      <th>count</th>\n",
       "      <td>7.105000e+03</td>\n",
       "      <td>7105.000000</td>\n",
       "      <td>7105.000000</td>\n",
       "      <td>7105.000000</td>\n",
       "      <td>7105.000000</td>\n",
       "      <td>7105.000000</td>\n",
       "      <td>7105.000000</td>\n",
       "      <td>7105.000000</td>\n",
       "      <td>7105.000000</td>\n",
       "    </tr>\n",
       "    <tr>\n",
       "      <th>mean</th>\n",
       "      <td>2.662528e+07</td>\n",
       "      <td>2015.682336</td>\n",
       "      <td>512126.174806</td>\n",
       "      <td>2158.855735</td>\n",
       "      <td>310.544265</td>\n",
       "      <td>324.584659</td>\n",
       "      <td>1.005348</td>\n",
       "      <td>0.043350</td>\n",
       "      <td>0.961999</td>\n",
       "    </tr>\n",
       "    <tr>\n",
       "      <th>std</th>\n",
       "      <td>2.210198e+06</td>\n",
       "      <td>2.471744</td>\n",
       "      <td>63823.520147</td>\n",
       "      <td>15902.596912</td>\n",
       "      <td>249.941165</td>\n",
       "      <td>249.943675</td>\n",
       "      <td>0.099121</td>\n",
       "      <td>0.232691</td>\n",
       "      <td>0.191213</td>\n",
       "    </tr>\n",
       "    <tr>\n",
       "      <th>min</th>\n",
       "      <td>2.677144e+06</td>\n",
       "      <td>1989.000000</td>\n",
       "      <td>263.000000</td>\n",
       "      <td>1314.000000</td>\n",
       "      <td>1.000000</td>\n",
       "      <td>15.000000</td>\n",
       "      <td>1.000000</td>\n",
       "      <td>0.000000</td>\n",
       "      <td>0.000000</td>\n",
       "    </tr>\n",
       "    <tr>\n",
       "      <th>25%</th>\n",
       "      <td>2.691165e+07</td>\n",
       "      <td>2016.000000</td>\n",
       "      <td>515323.000000</td>\n",
       "      <td>1314.000000</td>\n",
       "      <td>119.000000</td>\n",
       "      <td>133.000000</td>\n",
       "      <td>1.000000</td>\n",
       "      <td>0.000000</td>\n",
       "      <td>1.000000</td>\n",
       "    </tr>\n",
       "    <tr>\n",
       "      <th>50%</th>\n",
       "      <td>2.691165e+07</td>\n",
       "      <td>2016.000000</td>\n",
       "      <td>520794.000000</td>\n",
       "      <td>1314.000000</td>\n",
       "      <td>258.000000</td>\n",
       "      <td>272.000000</td>\n",
       "      <td>1.000000</td>\n",
       "      <td>0.000000</td>\n",
       "      <td>1.000000</td>\n",
       "    </tr>\n",
       "    <tr>\n",
       "      <th>75%</th>\n",
       "      <td>2.691165e+07</td>\n",
       "      <td>2016.000000</td>\n",
       "      <td>525262.000000</td>\n",
       "      <td>1314.000000</td>\n",
       "      <td>426.000000</td>\n",
       "      <td>440.000000</td>\n",
       "      <td>1.000000</td>\n",
       "      <td>0.000000</td>\n",
       "      <td>1.000000</td>\n",
       "    </tr>\n",
       "    <tr>\n",
       "      <th>max</th>\n",
       "      <td>3.178798e+07</td>\n",
       "      <td>2019.000000</td>\n",
       "      <td>956369.000000</td>\n",
       "      <td>301449.000000</td>\n",
       "      <td>1168.000000</td>\n",
       "      <td>1182.000000</td>\n",
       "      <td>5.000000</td>\n",
       "      <td>4.000000</td>\n",
       "      <td>1.000000</td>\n",
       "    </tr>\n",
       "  </tbody>\n",
       "</table>\n",
       "</div>"
      ],
      "text/plain": [
       "          pubmed_id         year     epitope_id   sourceOrg_id    start_pos  \\\n",
       "count  7.105000e+03  7105.000000    7105.000000    7105.000000  7105.000000   \n",
       "mean   2.662528e+07  2015.682336  512126.174806    2158.855735   310.544265   \n",
       "std    2.210198e+06     2.471744   63823.520147   15902.596912   249.941165   \n",
       "min    2.677144e+06  1989.000000     263.000000    1314.000000     1.000000   \n",
       "25%    2.691165e+07  2016.000000  515323.000000    1314.000000   119.000000   \n",
       "50%    2.691165e+07  2016.000000  520794.000000    1314.000000   258.000000   \n",
       "75%    2.691165e+07  2016.000000  525262.000000    1314.000000   426.000000   \n",
       "max    3.178798e+07  2019.000000  956369.000000  301449.000000  1168.000000   \n",
       "\n",
       "           end_pos     n_assays   n_Positive   n_Negative  \n",
       "count  7105.000000  7105.000000  7105.000000  7105.000000  \n",
       "mean    324.584659     1.005348     0.043350     0.961999  \n",
       "std     249.943675     0.099121     0.232691     0.191213  \n",
       "min      15.000000     1.000000     0.000000     0.000000  \n",
       "25%     133.000000     1.000000     0.000000     1.000000  \n",
       "50%     272.000000     1.000000     0.000000     1.000000  \n",
       "75%     440.000000     1.000000     0.000000     1.000000  \n",
       "max    1182.000000     5.000000     4.000000     1.000000  "
      ]
     },
     "execution_count": 20,
     "metadata": {},
     "output_type": "execute_result"
    }
   ],
   "source": [
    "sp_file.describe()"
   ]
  },
  {
   "cell_type": "markdown",
   "id": "406a2583",
   "metadata": {},
   "source": [
    "# Adequately join the protein sequences onto the epitopes table\n",
    "\n",
    "## M2  \n",
    "### i"
   ]
  },
  {
   "cell_type": "code",
   "execution_count": 25,
   "id": "a1edd28b",
   "metadata": {},
   "outputs": [
    {
     "data": {
      "text/plain": [
       "(7100, 28)"
      ]
     },
     "execution_count": 25,
     "metadata": {},
     "output_type": "execute_result"
    }
   ],
   "source": [
    "# Using the join operation to join sp_file over prod_file \n",
    "prod_sp=prot_file.merge(sp_file, left_on='UID', right_on='protein_id',how='inner')\n",
    "prod_sp.shape"
   ]
  },
  {
   "cell_type": "markdown",
   "id": "7066610b",
   "metadata": {},
   "source": [
    "   After join the shape of **prod_sp** is **7100 Rows, 28 Columns**"
   ]
  },
  {
   "cell_type": "markdown",
   "id": "a041fb0b",
   "metadata": {},
   "source": [
    "## ii"
   ]
  },
  {
   "cell_type": "code",
   "execution_count": null,
   "id": "440381c1",
   "metadata": {},
   "outputs": [],
   "source": [
    "#epit_seq  start_pos  end_pos  TSeq_sequence  epit_seq_actual"
   ]
  },
  {
   "cell_type": "code",
   "execution_count": 28,
   "id": "51f3529d",
   "metadata": {},
   "outputs": [
    {
     "data": {
      "text/html": [
       "<div>\n",
       "<style scoped>\n",
       "    .dataframe tbody tr th:only-of-type {\n",
       "        vertical-align: middle;\n",
       "    }\n",
       "\n",
       "    .dataframe tbody tr th {\n",
       "        vertical-align: top;\n",
       "    }\n",
       "\n",
       "    .dataframe thead th {\n",
       "        text-align: right;\n",
       "    }\n",
       "</style>\n",
       "<table border=\"1\" class=\"dataframe\">\n",
       "  <thead>\n",
       "    <tr style=\"text-align: right;\">\n",
       "      <th></th>\n",
       "      <th>TSeq_seqtype</th>\n",
       "      <th>TSeq_accver</th>\n",
       "      <th>TSeq_taxid</th>\n",
       "      <th>TSeq_orgname</th>\n",
       "      <th>TSeq_defline</th>\n",
       "      <th>TSeq_length</th>\n",
       "      <th>TSeq_sequence</th>\n",
       "      <th>UID</th>\n",
       "      <th>DB</th>\n",
       "      <th>TSeq_sid</th>\n",
       "      <th>...</th>\n",
       "      <th>epit_seq</th>\n",
       "      <th>start_pos</th>\n",
       "      <th>end_pos</th>\n",
       "      <th>n_assays</th>\n",
       "      <th>host_id</th>\n",
       "      <th>bcell_id</th>\n",
       "      <th>assay_type</th>\n",
       "      <th>n_Positive</th>\n",
       "      <th>n_Negative</th>\n",
       "      <th>assay_class</th>\n",
       "    </tr>\n",
       "  </thead>\n",
       "  <tbody>\n",
       "    <tr>\n",
       "      <th>0</th>\n",
       "      <td>protein</td>\n",
       "      <td>P02977.2</td>\n",
       "      <td>301449</td>\n",
       "      <td>Streptococcus pyogenes serotype M5</td>\n",
       "      <td>RecName: Full=M protein, serotype 5; Flags: Pr...</td>\n",
       "      <td>492</td>\n",
       "      <td>MARENTNKHYWLRKLKKGTASVAVALSVLGAGLVVNTNEVSAAVTR...</td>\n",
       "      <td>P02977.2</td>\n",
       "      <td>NCBI protein</td>\n",
       "      <td>NaN</td>\n",
       "      <td>...</td>\n",
       "      <td>DLDASREAKKQLEAEQQKLE</td>\n",
       "      <td>305</td>\n",
       "      <td>324</td>\n",
       "      <td>2</td>\n",
       "      <td>96,069,606</td>\n",
       "      <td>18,175,891,819,398</td>\n",
       "      <td>34,34</td>\n",
       "      <td>2</td>\n",
       "      <td>0</td>\n",
       "      <td>1,1</td>\n",
       "    </tr>\n",
       "    <tr>\n",
       "      <th>1</th>\n",
       "      <td>protein</td>\n",
       "      <td>P02977.2</td>\n",
       "      <td>301449</td>\n",
       "      <td>Streptococcus pyogenes serotype M5</td>\n",
       "      <td>RecName: Full=M protein, serotype 5; Flags: Pr...</td>\n",
       "      <td>492</td>\n",
       "      <td>MARENTNKHYWLRKLKKGTASVAVALSVLGAGLVVNTNEVSAAVTR...</td>\n",
       "      <td>P02977.2</td>\n",
       "      <td>NCBI protein</td>\n",
       "      <td>NaN</td>\n",
       "      <td>...</td>\n",
       "      <td>GLRRDLDASREAKKQLEAEQ</td>\n",
       "      <td>301</td>\n",
       "      <td>320</td>\n",
       "      <td>2</td>\n",
       "      <td>96,069,606</td>\n",
       "      <td>18,175,841,819,393</td>\n",
       "      <td>34,34</td>\n",
       "      <td>2</td>\n",
       "      <td>0</td>\n",
       "      <td>1,1</td>\n",
       "    </tr>\n",
       "  </tbody>\n",
       "</table>\n",
       "<p>2 rows × 28 columns</p>\n",
       "</div>"
      ],
      "text/plain": [
       "  TSeq_seqtype TSeq_accver  TSeq_taxid                        TSeq_orgname  \\\n",
       "0      protein    P02977.2      301449  Streptococcus pyogenes serotype M5   \n",
       "1      protein    P02977.2      301449  Streptococcus pyogenes serotype M5   \n",
       "\n",
       "                                        TSeq_defline  TSeq_length  \\\n",
       "0  RecName: Full=M protein, serotype 5; Flags: Pr...          492   \n",
       "1  RecName: Full=M protein, serotype 5; Flags: Pr...          492   \n",
       "\n",
       "                                       TSeq_sequence       UID            DB  \\\n",
       "0  MARENTNKHYWLRKLKKGTASVAVALSVLGAGLVVNTNEVSAAVTR...  P02977.2  NCBI protein   \n",
       "1  MARENTNKHYWLRKLKKGTASVAVALSVLGAGLVVNTNEVSAAVTR...  P02977.2  NCBI protein   \n",
       "\n",
       "  TSeq_sid  ...              epit_seq  start_pos end_pos  n_assays  \\\n",
       "0      NaN  ...  DLDASREAKKQLEAEQQKLE        305     324         2   \n",
       "1      NaN  ...  GLRRDLDASREAKKQLEAEQ        301     320         2   \n",
       "\n",
       "      host_id            bcell_id  assay_type n_Positive n_Negative  \\\n",
       "0  96,069,606  18,175,891,819,398       34,34          2          0   \n",
       "1  96,069,606  18,175,841,819,393       34,34          2          0   \n",
       "\n",
       "   assay_class  \n",
       "0          1,1  \n",
       "1          1,1  \n",
       "\n",
       "[2 rows x 28 columns]"
      ]
     },
     "execution_count": 28,
     "metadata": {},
     "output_type": "execute_result"
    }
   ],
   "source": [
    "prod_sp.head(2)"
   ]
  },
  {
   "cell_type": "code",
   "execution_count": 29,
   "id": "b7eab0de",
   "metadata": {},
   "outputs": [
    {
     "data": {
      "text/plain": [
       "'DLDASREAKKQLEAEQQKLE'"
      ]
     },
     "execution_count": 29,
     "metadata": {},
     "output_type": "execute_result"
    }
   ],
   "source": [
    "prod_sp.epit_seq[0]"
   ]
  },
  {
   "cell_type": "code",
   "execution_count": 30,
   "id": "2b4d3c84",
   "metadata": {},
   "outputs": [
    {
     "data": {
      "text/plain": [
       "'MARENTNKHYWLRKLKKGTASVAVALSVLGAGLVVNTNEVSAAVTRGTINDPQRAKEALDKYELENHDLKTKNEGLKTENEGLKTENEGLKTENEGLKTEKKEHEAENDKLKQQRDTLSTQKETLEREVQNTQYNNETLKIKNGDLTKELNKTRQELANKQQESKENEKALNELLEKTVKDKIAKEQENKETIGTLKKILDETVKDKIAKEQENKETIGTLKKILDETVKDKLAKEQKSKQNIGALKQELAKKDEANKISDASRKGLRRDLDASREAKKQLEAEHQKLEEQNKISEASRKGLRRDLDASREAKKQLEAEQQKLEEQNKISEASRKGLRRDLDASREAKKQVEKALEEANSKLAALEKLNKELEESKKLTEKEKAELQAKLEAEAKALKEQLAKQAEELAKLRAGKASDSQTPDTKPGNKAVPGKGQAPQAGTKPNQNKAPMKETKRQLPSTGETANPFFTAAALTVMATAGVAAVVKRKEEN'"
      ]
     },
     "execution_count": 30,
     "metadata": {},
     "output_type": "execute_result"
    }
   ],
   "source": [
    "prod_sp.TSeq_sequence[0]"
   ]
  },
  {
   "cell_type": "code",
   "execution_count": null,
   "id": "1ad23d43",
   "metadata": {},
   "outputs": [],
   "source": []
  }
 ],
 "metadata": {
  "kernelspec": {
   "display_name": "Python 3 (ipykernel)",
   "language": "python",
   "name": "python3"
  },
  "language_info": {
   "codemirror_mode": {
    "name": "ipython",
    "version": 3
   },
   "file_extension": ".py",
   "mimetype": "text/x-python",
   "name": "python",
   "nbconvert_exporter": "python",
   "pygments_lexer": "ipython3",
   "version": "3.9.7"
  }
 },
 "nbformat": 4,
 "nbformat_minor": 5
}
